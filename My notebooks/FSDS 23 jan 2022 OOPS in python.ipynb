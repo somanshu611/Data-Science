{
 "cells": [
  {
   "cell_type": "code",
   "execution_count": 1,
   "id": "7b1b4a70",
   "metadata": {},
   "outputs": [],
   "source": [
    "#class is a blueprint\n",
    "# object is a real world entity"
   ]
  },
  {
   "cell_type": "code",
   "execution_count": 23,
   "id": "40d5cf03",
   "metadata": {},
   "outputs": [],
   "source": [
    "class car:\n",
    "    # initializer \n",
    "    # it is a constructor, which is called automatically during the creation of an object of a class\n",
    "    def __init__(self,body_type,fuel_type,engine_type,anything_else):\n",
    "        self.body_type = body_type\n",
    "        self.fuel_type = fuel_type\n",
    "        self.engine_type = engine_type\n",
    "        self.anything_else = input()\n",
    "        \n",
    "    def displaybody_type(self) :\n",
    "        print(\"The body type of your car is {}\".format(body_type))"
   ]
  },
  {
   "cell_type": "code",
   "execution_count": 24,
   "id": "8cbcbcc7",
   "metadata": {},
   "outputs": [
    {
     "name": "stdout",
     "output_type": "stream",
     "text": [
      "hello\n"
     ]
    }
   ],
   "source": [
    "a = car(\"suv\",\"diesel\",\"v10\",\"aspdoifj\")"
   ]
  },
  {
   "cell_type": "code",
   "execution_count": 25,
   "id": "285e1e95",
   "metadata": {},
   "outputs": [
    {
     "ename": "NameError",
     "evalue": "name 'body_type' is not defined",
     "output_type": "error",
     "traceback": [
      "\u001b[1;31m---------------------------------------------------------------------------\u001b[0m",
      "\u001b[1;31mNameError\u001b[0m                                 Traceback (most recent call last)",
      "\u001b[1;32m~\\AppData\\Local\\Temp/ipykernel_6392/883678881.py\u001b[0m in \u001b[0;36m<module>\u001b[1;34m\u001b[0m\n\u001b[1;32m----> 1\u001b[1;33m \u001b[0ma\u001b[0m\u001b[1;33m.\u001b[0m\u001b[0mdisplaybody_type\u001b[0m\u001b[1;33m(\u001b[0m\u001b[1;33m)\u001b[0m\u001b[1;33m\u001b[0m\u001b[1;33m\u001b[0m\u001b[0m\n\u001b[0m",
      "\u001b[1;32m~\\AppData\\Local\\Temp/ipykernel_6392/1512939279.py\u001b[0m in \u001b[0;36mdisplaybody_type\u001b[1;34m(self)\u001b[0m\n\u001b[0;32m      8\u001b[0m \u001b[1;33m\u001b[0m\u001b[0m\n\u001b[0;32m      9\u001b[0m     \u001b[1;32mdef\u001b[0m \u001b[0mdisplaybody_type\u001b[0m\u001b[1;33m(\u001b[0m\u001b[0mself\u001b[0m\u001b[1;33m)\u001b[0m \u001b[1;33m:\u001b[0m\u001b[1;33m\u001b[0m\u001b[1;33m\u001b[0m\u001b[0m\n\u001b[1;32m---> 10\u001b[1;33m         \u001b[0mprint\u001b[0m\u001b[1;33m(\u001b[0m\u001b[1;34m\"The body type of your car is {}\"\u001b[0m\u001b[1;33m.\u001b[0m\u001b[0mformat\u001b[0m\u001b[1;33m(\u001b[0m\u001b[0mbody_type\u001b[0m\u001b[1;33m)\u001b[0m\u001b[1;33m)\u001b[0m\u001b[1;33m\u001b[0m\u001b[1;33m\u001b[0m\u001b[0m\n\u001b[0m",
      "\u001b[1;31mNameError\u001b[0m: name 'body_type' is not defined"
     ]
    }
   ],
   "source": [
    "a.displaybody_type()"
   ]
  },
  {
   "cell_type": "code",
   "execution_count": 42,
   "id": "85481ef6",
   "metadata": {},
   "outputs": [],
   "source": [
    "# this will give you a better understanding of self\n",
    "class car:\n",
    "    # initializer \n",
    "    # it is a constructor, which is called automatically during the creation of an object of a class\n",
    "    def __init__(self,a,b,c):\n",
    "        # a,b,c are just references/variables to store the data\n",
    "        self.body_type = a\n",
    "        self.fuel_type = b\n",
    "        self.engine_type = c\n",
    "        self.anything_else = input()\n",
    "        \n",
    "    def displaybody_type(self) :\n",
    "        # print(\"The body type of your car is {}\".format(body_type))\n",
    "        print(\"The body type of your car is : \",self.body_type)"
   ]
  },
  {
   "cell_type": "code",
   "execution_count": 43,
   "id": "a2cf1a85",
   "metadata": {},
   "outputs": [
    {
     "name": "stdout",
     "output_type": "stream",
     "text": [
      "hello\n"
     ]
    }
   ],
   "source": [
    "car_object = car(\"suv\",\"petrol\",\"v8\")\n"
   ]
  },
  {
   "cell_type": "code",
   "execution_count": 44,
   "id": "9b7a4ca7",
   "metadata": {},
   "outputs": [
    {
     "name": "stdout",
     "output_type": "stream",
     "text": [
      "The body type of your car is :  suv\n"
     ]
    }
   ],
   "source": [
    "car_object.displaybody_type()"
   ]
  },
  {
   "cell_type": "code",
   "execution_count": 35,
   "id": "3efed450",
   "metadata": {},
   "outputs": [
    {
     "ename": "AttributeError",
     "evalue": "'car' object has no attribute 'a'",
     "output_type": "error",
     "traceback": [
      "\u001b[1;31m---------------------------------------------------------------------------\u001b[0m",
      "\u001b[1;31mAttributeError\u001b[0m                            Traceback (most recent call last)",
      "\u001b[1;32m~\\AppData\\Local\\Temp/ipykernel_6392/51774917.py\u001b[0m in \u001b[0;36m<module>\u001b[1;34m\u001b[0m\n\u001b[1;32m----> 1\u001b[1;33m \u001b[0mcar_object\u001b[0m\u001b[1;33m.\u001b[0m\u001b[0ma\u001b[0m\u001b[1;33m\u001b[0m\u001b[1;33m\u001b[0m\u001b[0m\n\u001b[0m",
      "\u001b[1;31mAttributeError\u001b[0m: 'car' object has no attribute 'a'"
     ]
    }
   ],
   "source": [
    "car_object.a"
   ]
  },
  {
   "cell_type": "code",
   "execution_count": 36,
   "id": "e82ac737",
   "metadata": {},
   "outputs": [
    {
     "data": {
      "text/plain": [
       "'petrol'"
      ]
     },
     "execution_count": 36,
     "metadata": {},
     "output_type": "execute_result"
    }
   ],
   "source": [
    "car_object.fuel_type"
   ]
  },
  {
   "cell_type": "code",
   "execution_count": 38,
   "id": "4ca5e2fa",
   "metadata": {},
   "outputs": [],
   "source": [
    "# __init__ method can be totally skipped if wished\n",
    "# it is a constructor, and if you don't define the init method explicitly, default constructor will be the one responsible for\n",
    "# creation of an empty object i.e. without any default values"
   ]
  },
  {
   "cell_type": "markdown",
   "id": "77d441e1",
   "metadata": {},
   "source": [
    "## Important info\n",
    "self represents the instance of the class. By using the “self” keyword we can access the attributes and methods of the class in python. It binds the attributes with the given arguments."
   ]
  },
  {
   "cell_type": "code",
   "execution_count": 45,
   "id": "cc132d58",
   "metadata": {},
   "outputs": [
    {
     "name": "stdout",
     "output_type": "stream",
     "text": [
      "<class '__main__.car'>\n"
     ]
    }
   ],
   "source": [
    "print(type(car_object))"
   ]
  },
  {
   "cell_type": "code",
   "execution_count": 9,
   "id": "a0706d70",
   "metadata": {},
   "outputs": [],
   "source": [
    "class dictionary_parsing :\n",
    "    def __init__(self,d) :\n",
    "        \n",
    "        self.d = d\n",
    "        if type(self.d) != dict :\n",
    "            raise Exception(\"Invalid input, please pass a dictionary\")\n",
    "        \n",
    "    def AllKeys(self) :\n",
    "        try:\n",
    "            for x in self.d:\n",
    "                print(x)\n",
    "        except Exception as e: \n",
    "            print(\"You probably have entered invalid list, the exception is \",e)\n",
    "        \n",
    "    def AllValues(self) :\n",
    "        try:\n",
    "            for k in self.d:\n",
    "                for v in self.d[k]:\n",
    "                    print(v)\n",
    "        except Exception as e:\n",
    "            print(\"An error has occured \",e)\n",
    "            \n",
    "    def Update(self,key,value) :\n",
    "        try:\n",
    "            self.d[key] = value\n",
    "        except Exception as e:\n",
    "            print(\"An error has occured\",e)\n",
    "    \n",
    "            \n",
    "            \n",
    "            \n",
    "    \n",
    "            \n",
    "            \n",
    "    \n",
    "\n",
    "        "
   ]
  },
  {
   "cell_type": "code",
   "execution_count": 8,
   "id": "98ebe050",
   "metadata": {},
   "outputs": [
    {
     "ename": "Exception",
     "evalue": "Invalid input, please pass a dictionary",
     "output_type": "error",
     "traceback": [
      "\u001b[1;31m---------------------------------------------------------------------------\u001b[0m",
      "\u001b[1;31mException\u001b[0m                                 Traceback (most recent call last)",
      "\u001b[1;32m~\\AppData\\Local\\Temp/ipykernel_19348/1561927356.py\u001b[0m in \u001b[0;36m<module>\u001b[1;34m\u001b[0m\n\u001b[0;32m      1\u001b[0m \u001b[0mD\u001b[0m \u001b[1;33m=\u001b[0m \u001b[1;33m{\u001b[0m\u001b[1;34m\"a\"\u001b[0m\u001b[1;33m:\u001b[0m\u001b[1;33m[\u001b[0m\u001b[1;36m2\u001b[0m\u001b[1;33m,\u001b[0m\u001b[1;36m3\u001b[0m\u001b[1;33m,\u001b[0m\u001b[1;36m4\u001b[0m\u001b[1;33m,\u001b[0m\u001b[1;36m5\u001b[0m\u001b[1;33m]\u001b[0m\u001b[1;33m,\u001b[0m\u001b[1;34m\"b\"\u001b[0m\u001b[1;33m:\u001b[0m\u001b[1;33m[\u001b[0m\u001b[1;34m'a'\u001b[0m\u001b[1;33m,\u001b[0m\u001b[1;34m'b'\u001b[0m\u001b[1;33m,\u001b[0m\u001b[1;34m'c'\u001b[0m\u001b[1;33m]\u001b[0m\u001b[1;33m}\u001b[0m \u001b[1;31m# a dictionary\u001b[0m\u001b[1;33m\u001b[0m\u001b[1;33m\u001b[0m\u001b[0m\n\u001b[0;32m      2\u001b[0m \u001b[0mE\u001b[0m \u001b[1;33m=\u001b[0m \u001b[1;33m[\u001b[0m\u001b[1;36m2\u001b[0m\u001b[1;33m,\u001b[0m\u001b[1;36m3\u001b[0m\u001b[1;33m,\u001b[0m\u001b[1;36m4\u001b[0m\u001b[1;33m,\u001b[0m\u001b[1;36m5\u001b[0m\u001b[1;33m]\u001b[0m\u001b[1;33m\u001b[0m\u001b[1;33m\u001b[0m\u001b[0m\n\u001b[1;32m----> 3\u001b[1;33m \u001b[0md\u001b[0m \u001b[1;33m=\u001b[0m \u001b[0mdictionary_parsing\u001b[0m\u001b[1;33m(\u001b[0m\u001b[0mE\u001b[0m\u001b[1;33m)\u001b[0m\u001b[1;33m\u001b[0m\u001b[1;33m\u001b[0m\u001b[0m\n\u001b[0m",
      "\u001b[1;32m~\\AppData\\Local\\Temp/ipykernel_19348/2506542791.py\u001b[0m in \u001b[0;36m__init__\u001b[1;34m(self, l)\u001b[0m\n\u001b[0;32m      4\u001b[0m         \u001b[0mself\u001b[0m\u001b[1;33m.\u001b[0m\u001b[0ml\u001b[0m \u001b[1;33m=\u001b[0m \u001b[0ml\u001b[0m\u001b[1;33m\u001b[0m\u001b[1;33m\u001b[0m\u001b[0m\n\u001b[0;32m      5\u001b[0m         \u001b[1;32mif\u001b[0m \u001b[0mtype\u001b[0m\u001b[1;33m(\u001b[0m\u001b[0mself\u001b[0m\u001b[1;33m.\u001b[0m\u001b[0ml\u001b[0m\u001b[1;33m)\u001b[0m \u001b[1;33m!=\u001b[0m \u001b[0mdict\u001b[0m \u001b[1;33m:\u001b[0m\u001b[1;33m\u001b[0m\u001b[1;33m\u001b[0m\u001b[0m\n\u001b[1;32m----> 6\u001b[1;33m             \u001b[1;32mraise\u001b[0m \u001b[0mException\u001b[0m\u001b[1;33m(\u001b[0m\u001b[1;34m\"Invalid input, please pass a dictionary\"\u001b[0m\u001b[1;33m)\u001b[0m\u001b[1;33m\u001b[0m\u001b[1;33m\u001b[0m\u001b[0m\n\u001b[0m\u001b[0;32m      7\u001b[0m \u001b[1;33m\u001b[0m\u001b[0m\n\u001b[0;32m      8\u001b[0m     \u001b[1;32mdef\u001b[0m \u001b[0mAllKeys\u001b[0m\u001b[1;33m(\u001b[0m\u001b[0mself\u001b[0m\u001b[1;33m)\u001b[0m \u001b[1;33m:\u001b[0m\u001b[1;33m\u001b[0m\u001b[1;33m\u001b[0m\u001b[0m\n",
      "\u001b[1;31mException\u001b[0m: Invalid input, please pass a dictionary"
     ]
    }
   ],
   "source": [
    "D = {\"a\":[2,3,4,5],\"b\":['a','b','c']} # a dictionary\n",
    "E = [2,3,4,5]\n",
    "# d = dictionary_parsing(E)\n",
    "# "
   ]
  },
  {
   "cell_type": "code",
   "execution_count": 47,
   "id": "ee8cf0c4",
   "metadata": {},
   "outputs": [],
   "source": [
    "l = {}\n",
    "l[2]=\";asdkjf\"\n",
    "l[5]=\"a;sdkjf\"\n",
    "l[\"helllo\"]=23"
   ]
  },
  {
   "cell_type": "code",
   "execution_count": 48,
   "id": "009e7b19",
   "metadata": {},
   "outputs": [
    {
     "name": "stdout",
     "output_type": "stream",
     "text": [
      "2\n",
      "5\n",
      "helllo\n"
     ]
    }
   ],
   "source": [
    "for x in l:\n",
    "    "
   ]
  },
  {
   "cell_type": "code",
   "execution_count": 4,
   "id": "9beab0d5",
   "metadata": {},
   "outputs": [],
   "source": [
    "m = {}\n",
    "m[2] = {\"a\" : [2,3,4,5],\"b\" : ['a','b','c']}\n",
    "m[3] = [\"a\",\"b\"]"
   ]
  },
  {
   "cell_type": "code",
   "execution_count": 5,
   "id": "52962628",
   "metadata": {},
   "outputs": [
    {
     "name": "stdout",
     "output_type": "stream",
     "text": [
      "a\n",
      "b\n",
      "a\n",
      "b\n"
     ]
    }
   ],
   "source": [
    "for x in m: \n",
    "    for y in m[x]:\n",
    "        print(y)"
   ]
  },
  {
   "cell_type": "code",
   "execution_count": 1,
   "id": "60143cb5",
   "metadata": {},
   "outputs": [],
   "source": [
    "# A student's answer for sudhanshu sir's problem statement\n",
    "# I think i have a better code because i did the notdict() check in __inti__() itself\\\n",
    "# However, the usage eval() function was really good \n",
    "class dict_parsing:\n",
    "    \n",
    "    def __init__(self,a):\n",
    "        self.a = a\n",
    "    \n",
    "    def getkeys(self):\n",
    "        if self.notdict():\n",
    "            return list(self.a.keys())\n",
    "        \n",
    "    def getvalues(self):\n",
    "        if self.notdict():\n",
    "            return list(self.a.values())\n",
    "        \n",
    "    def notdict(self):\n",
    "        if type(self.a) != dict:\n",
    "            raise Exception(self.a,'Not a dictionary')\n",
    "        return 1\n",
    "    def userinput(self):\n",
    "        # notice the use of eval() function\n",
    "        self.a = eval(input())\n",
    "        print(self.a,type(self.a))\n",
    "        print(self.getkeys())\n",
    "        print(self.getvalues())\n",
    "        \n",
    "    def insertion(self,k,v):\n",
    "        self.a[k] = v"
   ]
  },
  {
   "cell_type": "markdown",
   "id": "b038f074",
   "metadata": {},
   "source": [
    "## eval() function\n",
    "eval is a built-in- function used in python, eval function parses the expression argument and evaluates it as a python expression. In simple words, the eval function evaluates the “String” like a python expression and returns the result as an integer."
   ]
  },
  {
   "cell_type": "markdown",
   "id": "da075eac",
   "metadata": {},
   "source": [
    "# The Resource notebook of this class is very imp as the code from batchmates\n",
    "# had new ways of doing the same thing, so do check it out.\n"
   ]
  },
  {
   "cell_type": "code",
   "execution_count": null,
   "id": "2a0054e1",
   "metadata": {},
   "outputs": [],
   "source": []
  }
 ],
 "metadata": {
  "kernelspec": {
   "display_name": "Python 3 (ipykernel)",
   "language": "python",
   "name": "python3"
  },
  "language_info": {
   "codemirror_mode": {
    "name": "ipython",
    "version": 3
   },
   "file_extension": ".py",
   "mimetype": "text/x-python",
   "name": "python",
   "nbconvert_exporter": "python",
   "pygments_lexer": "ipython3",
   "version": "3.9.7"
  }
 },
 "nbformat": 4,
 "nbformat_minor": 5
}
