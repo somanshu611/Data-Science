{
 "cells": [
  {
   "cell_type": "markdown",
   "id": "fb1e3dfa",
   "metadata": {},
   "source": [
    "Cassandra is no sql, NOT ONLY SQL\n"
   ]
  },
  {
   "cell_type": "markdown",
   "id": "6823223a",
   "metadata": {},
   "source": [
    "1.) Scalability - Horizontal scalability, add new things without changing the old one\n",
    "vertical scalabilty - completelty remove the old one, and insert the new one\n",
    "2.) High Availability"
   ]
  },
  {
   "cell_type": "markdown",
   "id": "a7e64c85",
   "metadata": {},
   "source": [
    "1.) The main difference between scaling up and scaling out is that horizontal scaling simply adds more machine resources to your existing machine infrastructure. Vertical scaling adds power to your existing machine infrastructure by increasing power from CPU or RAM to existing machines."
   ]
  },
  {
   "cell_type": "code",
   "execution_count": null,
   "id": "e991b4c8",
   "metadata": {},
   "outputs": [],
   "source": [
    "2.) High availability : \n",
    "    "
   ]
  },
  {
   "cell_type": "markdown",
   "id": "5765f9a6",
   "metadata": {},
   "source": [
    "3.) Decentralize\n",
    "4.) Scalable"
   ]
  },
  {
   "cell_type": "code",
   "execution_count": 3,
   "id": "7113caf6",
   "metadata": {},
   "outputs": [
    {
     "name": "stdout",
     "output_type": "stream",
     "text": [
      "Collecting cassandra-driver\n",
      "  Downloading cassandra-driver-3.25.0.tar.gz (289 kB)\n",
      "Requirement already satisfied: six>=1.9 in c:\\users\\soman\\code_stuff\\anaconda3\\lib\\site-packages (from cassandra-driver) (1.16.0)\n",
      "Collecting geomet<0.3,>=0.1\n",
      "  Downloading geomet-0.2.1.post1-py3-none-any.whl (18 kB)\n",
      "Requirement already satisfied: click in c:\\users\\soman\\code_stuff\\anaconda3\\lib\\site-packages (from geomet<0.3,>=0.1->cassandra-driver) (8.0.3)\n",
      "Requirement already satisfied: colorama in c:\\users\\soman\\code_stuff\\anaconda3\\lib\\site-packages (from click->geomet<0.3,>=0.1->cassandra-driver) (0.4.4)\n",
      "Building wheels for collected packages: cassandra-driver\n",
      "  Building wheel for cassandra-driver (setup.py): started\n",
      "  Building wheel for cassandra-driver (setup.py): finished with status 'done'\n",
      "  Created wheel for cassandra-driver: filename=cassandra_driver-3.25.0-cp39-cp39-win_amd64.whl size=329419 sha256=39b57bb2b51d4b2e6cb94c17860d878851f5ec858da571893232f034038b145c\n",
      "  Stored in directory: c:\\users\\soman\\appdata\\local\\pip\\cache\\wheels\\3d\\bd\\75\\12875d7c70c5b18e8738c9e06f2d3f5b752fa372917c663fcc\n",
      "Successfully built cassandra-driver\n",
      "Installing collected packages: geomet, cassandra-driver\n",
      "Successfully installed cassandra-driver-3.25.0 geomet-0.2.1.post1\n"
     ]
    }
   ],
   "source": [
    "!pip install cassandra-driver"
   ]
  },
  {
   "cell_type": "code",
   "execution_count": null,
   "id": "2b85cd69",
   "metadata": {},
   "outputs": [],
   "source": []
  }
 ],
 "metadata": {
  "kernelspec": {
   "display_name": "Python 3 (ipykernel)",
   "language": "python",
   "name": "python3"
  },
  "language_info": {
   "codemirror_mode": {
    "name": "ipython",
    "version": 3
   },
   "file_extension": ".py",
   "mimetype": "text/x-python",
   "name": "python",
   "nbconvert_exporter": "python",
   "pygments_lexer": "ipython3",
   "version": "3.9.7"
  }
 },
 "nbformat": 4,
 "nbformat_minor": 5
}
