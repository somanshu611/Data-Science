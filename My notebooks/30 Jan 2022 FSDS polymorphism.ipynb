{
 "cells": [
  {
   "cell_type": "markdown",
   "id": "bc8b677f",
   "metadata": {},
   "source": [
    "### What is Polymorphism: \n",
    "The word polymorphism means having many forms. \n",
    "In programming, polymorphism means the same function name (but different signatures) being used for different types."
   ]
  },
  {
   "cell_type": "code",
   "execution_count": 6,
   "id": "f5e3a4f2",
   "metadata": {},
   "outputs": [],
   "source": [
    "# Exception Handling using our own Exception Classes\n",
    "class test(Exception) :\n",
    "    def __init__(self, msg): \n",
    "        self.msg = msg\n",
    "    "
   ]
  },
  {
   "cell_type": "code",
   "execution_count": 7,
   "id": "8f48a2f7",
   "metadata": {},
   "outputs": [
    {
     "ename": "test",
     "evalue": "This is my exception class test",
     "output_type": "error",
     "traceback": [
      "\u001b[1;31m---------------------------------------------------------------------------\u001b[0m",
      "\u001b[1;31mtest\u001b[0m                                      Traceback (most recent call last)",
      "\u001b[1;32m~\\AppData\\Local\\Temp/ipykernel_4004/109227114.py\u001b[0m in \u001b[0;36m<module>\u001b[1;34m\u001b[0m\n\u001b[1;32m----> 1\u001b[1;33m \u001b[1;32mraise\u001b[0m\u001b[1;33m(\u001b[0m\u001b[0mtest\u001b[0m\u001b[1;33m(\u001b[0m\u001b[1;34m\"This is my exception class test\"\u001b[0m\u001b[1;33m)\u001b[0m\u001b[1;33m)\u001b[0m\u001b[1;33m\u001b[0m\u001b[1;33m\u001b[0m\u001b[0m\n\u001b[0m",
      "\u001b[1;31mtest\u001b[0m: This is my exception class test"
     ]
    }
   ],
   "source": [
    "raise(test(\"This is my exception class test\"))"
   ]
  },
  {
   "cell_type": "code",
   "execution_count": 8,
   "id": "b940cf0e",
   "metadata": {},
   "outputs": [
    {
     "name": "stdout",
     "output_type": "stream",
     "text": [
      "This is my exception class test\n"
     ]
    }
   ],
   "source": [
    "\n",
    "try : \n",
    "    raise(test(\"This is my exception class test\"))\n",
    "except test as t:\n",
    "    print(t)"
   ]
  },
  {
   "cell_type": "code",
   "execution_count": 9,
   "id": "cbb47c08",
   "metadata": {},
   "outputs": [
    {
     "ename": "ZeroDivisionError",
     "evalue": "division by zero",
     "output_type": "error",
     "traceback": [
      "\u001b[1;31m---------------------------------------------------------------------------\u001b[0m",
      "\u001b[1;31mZeroDivisionError\u001b[0m                         Traceback (most recent call last)",
      "\u001b[1;32m~\\AppData\\Local\\Temp/ipykernel_4004/3060257516.py\u001b[0m in \u001b[0;36m<module>\u001b[1;34m\u001b[0m\n\u001b[0;32m      1\u001b[0m \u001b[1;32mtry\u001b[0m \u001b[1;33m:\u001b[0m\u001b[1;33m\u001b[0m\u001b[1;33m\u001b[0m\u001b[0m\n\u001b[1;32m----> 2\u001b[1;33m     \u001b[1;36m5\u001b[0m\u001b[1;33m/\u001b[0m\u001b[1;36m0\u001b[0m\u001b[1;33m\u001b[0m\u001b[1;33m\u001b[0m\u001b[0m\n\u001b[0m\u001b[0;32m      3\u001b[0m \u001b[1;32mexcept\u001b[0m \u001b[0mtest\u001b[0m \u001b[1;32mas\u001b[0m \u001b[0mt\u001b[0m\u001b[1;33m:\u001b[0m\u001b[1;33m\u001b[0m\u001b[1;33m\u001b[0m\u001b[0m\n\u001b[0;32m      4\u001b[0m     \u001b[0mprint\u001b[0m\u001b[1;33m(\u001b[0m\u001b[0mt\u001b[0m\u001b[1;33m)\u001b[0m\u001b[1;33m\u001b[0m\u001b[1;33m\u001b[0m\u001b[0m\n",
      "\u001b[1;31mZeroDivisionError\u001b[0m: division by zero"
     ]
    }
   ],
   "source": [
    "try : \n",
    "    5/0\n",
    "except test as t:\n",
    "    print(t)"
   ]
  },
  {
   "cell_type": "code",
   "execution_count": null,
   "id": "e0039f92",
   "metadata": {},
   "outputs": [],
   "source": []
  },
  {
   "cell_type": "code",
   "execution_count": null,
   "id": "22d4f453",
   "metadata": {},
   "outputs": [],
   "source": []
  },
  {
   "cell_type": "code",
   "execution_count": null,
   "id": "9ec45a77",
   "metadata": {},
   "outputs": [],
   "source": []
  },
  {
   "cell_type": "code",
   "execution_count": null,
   "id": "0dc09cb3",
   "metadata": {},
   "outputs": [],
   "source": []
  },
  {
   "cell_type": "code",
   "execution_count": null,
   "id": "34b321bb",
   "metadata": {},
   "outputs": [],
   "source": []
  },
  {
   "cell_type": "code",
   "execution_count": null,
   "id": "e3673678",
   "metadata": {},
   "outputs": [],
   "source": []
  },
  {
   "cell_type": "code",
   "execution_count": null,
   "id": "0f86b1d7",
   "metadata": {},
   "outputs": [],
   "source": [
    "class Me(MyFather):\n",
    "    def __init__(self,x) : \n",
    "        print(\"I'm son of {}\")\n",
    "    \n",
    "class MyFather(MyGrandFather):\n",
    "    def __init__(self,x) : \n",
    "        print(\"I'm son of \")\n",
    "    \n",
    "class MyGrandFather:\n",
    "    \n",
    "class MyFutureGirlFriend(MyFutureFatherInLaw):\n",
    "    \n",
    "\n",
    "class MyFutureFatherInLaw:\n",
    "    "
   ]
  },
  {
   "cell_type": "code",
   "execution_count": null,
   "id": "8c193b29",
   "metadata": {},
   "outputs": [],
   "source": []
  },
  {
   "cell_type": "code",
   "execution_count": null,
   "id": "d86c2833",
   "metadata": {},
   "outputs": [],
   "source": [
    "# static variables \n",
    "# All variables which are assigned a value in the class declaration are class variables. \n",
    "# And variables that are assigned values inside methods are instance variables."
   ]
  },
  {
   "cell_type": "code",
   "execution_count": null,
   "id": "8b8bab78",
   "metadata": {},
   "outputs": [],
   "source": [
    "# The example that sudhanshu gave from a student's code is really imp.\n",
    "# At around 1:10:00"
   ]
  },
  {
   "cell_type": "code",
   "execution_count": 10,
   "id": "fad2cca7",
   "metadata": {},
   "outputs": [],
   "source": [
    "# Abstraction : Creating a blue print ( According to sudhanshu)\n"
   ]
  },
  {
   "cell_type": "code",
   "execution_count": null,
   "id": "f9d4dd4f",
   "metadata": {},
   "outputs": [],
   "source": []
  }
 ],
 "metadata": {
  "kernelspec": {
   "display_name": "Python 3 (ipykernel)",
   "language": "python",
   "name": "python3"
  },
  "language_info": {
   "codemirror_mode": {
    "name": "ipython",
    "version": 3
   },
   "file_extension": ".py",
   "mimetype": "text/x-python",
   "name": "python",
   "nbconvert_exporter": "python",
   "pygments_lexer": "ipython3",
   "version": "3.9.7"
  }
 },
 "nbformat": 4,
 "nbformat_minor": 5
}
