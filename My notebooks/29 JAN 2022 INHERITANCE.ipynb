{
 "cells": [
  {
   "cell_type": "code",
   "execution_count": 1,
   "id": "645f437e",
   "metadata": {},
   "outputs": [],
   "source": [
    "# inheritance\n",
    "# syntax : class child(parent_name)"
   ]
  },
  {
   "cell_type": "code",
   "execution_count": 9,
   "id": "d9b73c23",
   "metadata": {},
   "outputs": [],
   "source": [
    "class readingDataFromFile :\n",
    "    \n",
    "    def __init__(self,file_name) :\n",
    "        if type(file_name) != str :\n",
    "            raise Exception(\"Please enter a valid file_name\")\n",
    "        else :\n",
    "            self.file_name = file_name \n",
    "            try:\n",
    "                self.f = open(self.file_name,\"r+\")\n",
    "            except Exception as e:\n",
    "                print(\"An error has occured : \",e)\n",
    "    \n",
    "    def read(self) :\n",
    "        self.f.seek(0)\n",
    "        print(self.f.read())\n",
    "        \n",
    "    def write(self,s) :\n",
    "        print(self.f.write(s))\n",
    "        \n",
    "        \n",
    "\n",
    "        \n",
    "            \n",
    "        "
   ]
  },
  {
   "cell_type": "code",
   "execution_count": 4,
   "id": "384c0941",
   "metadata": {},
   "outputs": [
    {
     "data": {
      "text/plain": [
       "['.ipynb_checkpoints',\n",
       " '29 JAN 2022 INHERITANCE.ipynb',\n",
       " '30 Jan 2022 FSDS polymorphism.ipynb',\n",
       " 'File Operations 2022 9 jan.ipynb',\n",
       " 'File Operations 9 jan 2022 part 2.ipynb',\n",
       " 'FSDS 15 & 16 Jan 2022.ipynb',\n",
       " 'FSDS 23 jan 2022 OOPS in python.ipynb',\n",
       " 'Functions 2022 8 Jan.ipynb']"
      ]
     },
     "execution_count": 4,
     "metadata": {},
     "output_type": "execute_result"
    }
   ],
   "source": [
    "import os\n",
    "os.listdir()"
   ]
  },
  {
   "cell_type": "code",
   "execution_count": 10,
   "id": "2efde5c7",
   "metadata": {},
   "outputs": [],
   "source": [
    "p = readingDataFromFile(\"test.txt\")\n"
   ]
  },
  {
   "cell_type": "code",
   "execution_count": 11,
   "id": "602b353f",
   "metadata": {},
   "outputs": [
    {
     "name": "stdout",
     "output_type": "stream",
     "text": [
      "Hello, i'm somanshu.\n",
      "I'm 21 years old\n"
     ]
    }
   ],
   "source": [
    "p.read()"
   ]
  },
  {
   "cell_type": "code",
   "execution_count": 12,
   "id": "c401a831",
   "metadata": {},
   "outputs": [
    {
     "name": "stdout",
     "output_type": "stream",
     "text": [
      "16\n"
     ]
    }
   ],
   "source": [
    "p.write(\"I'm 21 years old\")"
   ]
  },
  {
   "cell_type": "code",
   "execution_count": 13,
   "id": "ee915530",
   "metadata": {},
   "outputs": [
    {
     "name": "stdout",
     "output_type": "stream",
     "text": [
      "Hello, i'm somanshu.\n",
      "I'm 21 years oldI'm 21 years old\n"
     ]
    }
   ],
   "source": [
    "p.read()"
   ]
  },
  {
   "cell_type": "code",
   "execution_count": null,
   "id": "7dfb991d",
   "metadata": {},
   "outputs": [],
   "source": []
  },
  {
   "cell_type": "code",
   "execution_count": null,
   "id": "7cdedd89",
   "metadata": {},
   "outputs": [],
   "source": []
  },
  {
   "cell_type": "code",
   "execution_count": 20,
   "id": "43d3b79d",
   "metadata": {},
   "outputs": [],
   "source": [
    "p.read()"
   ]
  },
  {
   "cell_type": "code",
   "execution_count": 9,
   "id": "a31265f6",
   "metadata": {},
   "outputs": [],
   "source": [
    "import os"
   ]
  },
  {
   "cell_type": "code",
   "execution_count": 10,
   "id": "a424062b",
   "metadata": {},
   "outputs": [
    {
     "name": "stdout",
     "output_type": "stream",
     "text": [
      " Volume in drive C is OS\n",
      " Volume Serial Number is 92ED-0D26\n",
      "\n",
      " Directory of C:\\Users\\soman\\CODE_STUFF\\Jupyter_notebooks\\KNAWLEDGE\n",
      "\n",
      "29-01-2022  11:28    <DIR>          .\n",
      "29-01-2022  11:28    <DIR>          ..\n",
      "29-01-2022  10:27    <DIR>          .ipynb_checkpoints\n",
      "16-01-2022  15:52             6,972 23rd Dec 2021 Homework.ipynb\n",
      "11-01-2022  17:10               121 abc.txt\n",
      "04-01-2022  18:29            15,964 Data Visualization.ipynb\n",
      "29-01-2022  11:28            36,648 File Operations 2022 9 jan.ipynb\n",
      "29-01-2022  11:28            41,706 File Operations 9 jan 2022 part 2.ipynb\n",
      "21-01-2022  15:16            20,091 FSDS 15 & 16 Jan 2022.ipynb\n",
      "29-01-2022  07:20            14,843 FSDS 23 jan 2022 OOPS in python.ipynb\n",
      "29-01-2022  07:15    <DIR>          FSDS CLASS RESOURCES\n",
      "27-01-2022  00:22    <DIR>          FSDS CLASS RESOURCES NEW\n",
      "31-12-2021  15:44            29,365 Function in pyton  (1) ( old).ipynb\n",
      "08-01-2022  12:07             2,341 Functions 2022 8 Jan.ipynb\n",
      "11-01-2022  19:13               763 google.txt\n",
      "26-01-2022  12:01    <DIR>          logging\n",
      "19-01-2022  16:16               246 LogTest.log\n",
      "21-01-2022  14:40               200 LogTest2.log\n",
      "21-01-2022  15:02               417 LogTest3.log\n",
      "21-01-2022  15:14               526 LogTest4.log\n",
      "06-11-2021  11:49            38,972 Matplotlib.ipynb\n",
      "14-11-2021  18:03            19,231 Pandas.ipynb\n",
      "30-12-2021  12:41            24,196 Python.ipynb\n",
      "23-12-2021  21:45            14,943 Seaborn 2.ipynb\n",
      "08-11-2021  11:12           460,445 Seaborn.ipynb\n",
      "09-01-2022  19:03               129 test.log\n",
      "29-01-2022  11:28                 5 test.txt\n",
      "07-01-2022  12:08                 0 test2.txt\n",
      "07-01-2022  12:12                16 test3.txt\n",
      "31-12-2021  16:29            12,268 Untitled.ipynb\n",
      "31-12-2021  16:29             5,558 Untitled1.ipynb\n",
      "07-01-2022  12:13             4,342 Untitled2.ipynb\n",
      "29-01-2022  11:27             2,416 Untitled3.ipynb\n",
      "              27 File(s)        752,724 bytes\n",
      "               6 Dir(s)  22,323,879,936 bytes free\n"
     ]
    }
   ],
   "source": [
    "ls\n"
   ]
  },
  {
   "cell_type": "code",
   "execution_count": 48,
   "id": "db41caa7",
   "metadata": {},
   "outputs": [],
   "source": [
    "# Protected members\n",
    "\n",
    "# Protected members of a class are accessible from within the class and are also available to its sub-classes. \n",
    "# No other environment is permitted access to it. \n",
    "# This enables specific resources of the parent class to be inherited by the child class.\n",
    "\n",
    "\n",
    "# private members\n",
    "\n",
    "# Python doesn't have any mechanism that effectively restricts access to any instance variable or method. \n",
    "# Python prescribes a convention of prefixing the name of the variable/method with a single or \n",
    "# double underscore to emulate the behavior of protected and private access specifiers.\n",
    "\n",
    "# The double underscore __ prefixed to a variable makes it private. \n",
    "# It gives a strong suggestion not to touch it from outside the class. \n",
    "# Any attempt to do so will result in an AttributeError"
   ]
  },
  {
   "cell_type": "code",
   "execution_count": 49,
   "id": "8c68107d",
   "metadata": {},
   "outputs": [],
   "source": [
    "\n",
    "class test : \n",
    "    def __init__(self ) :\n",
    "        self._a = 4\n",
    "        self.b = 5\n",
    "\n",
    "        \n",
    "class test1(test) :\n",
    "    def __init__(self): \n",
    "        self.a = 7\n",
    "        self.b = 9\n",
    "\n",
    "\n",
    "obj = test1()"
   ]
  },
  {
   "cell_type": "code",
   "execution_count": 50,
   "id": "e08c6131",
   "metadata": {},
   "outputs": [
    {
     "data": {
      "text/plain": [
       "7"
      ]
     },
     "execution_count": 50,
     "metadata": {},
     "output_type": "execute_result"
    }
   ],
   "source": [
    "# accessing protected variable WITHOUT THE UNDERSCORE. We are able to do this coz the protected variables are accessible to \n",
    "# child class. Also, you can see by pressing TAB that we have the availability of choosing variable 'a'\n",
    "obj.a\n",
    "\n",
    "# SIDE NOTE : This is not the case for objects, the object of the class test() will not be able to access protected variables \n",
    "# without underscore\n",
    "\n",
    "# o = test()\n",
    "# o.a --> attribute error\n",
    "# o._a --> correct\n"
   ]
  },
  {
   "cell_type": "code",
   "execution_count": 51,
   "id": "b81d6bd2",
   "metadata": {},
   "outputs": [
    {
     "ename": "AttributeError",
     "evalue": "'test2' object has no attribute 'a'",
     "output_type": "error",
     "traceback": [
      "\u001b[1;31m---------------------------------------------------------------------------\u001b[0m",
      "\u001b[1;31mAttributeError\u001b[0m                            Traceback (most recent call last)",
      "\u001b[1;32m~\\AppData\\Local\\Temp/ipykernel_16264/3207624385.py\u001b[0m in \u001b[0;36m<module>\u001b[1;34m\u001b[0m\n\u001b[0;32m      6\u001b[0m \u001b[1;33m\u001b[0m\u001b[0m\n\u001b[0;32m      7\u001b[0m \u001b[0mobj2\u001b[0m \u001b[1;33m=\u001b[0m \u001b[0mtest2\u001b[0m\u001b[1;33m(\u001b[0m\u001b[1;33m)\u001b[0m\u001b[1;33m\u001b[0m\u001b[1;33m\u001b[0m\u001b[0m\n\u001b[1;32m----> 8\u001b[1;33m \u001b[0mobj2\u001b[0m\u001b[1;33m.\u001b[0m\u001b[0ma\u001b[0m\u001b[1;33m\u001b[0m\u001b[1;33m\u001b[0m\u001b[0m\n\u001b[0m\u001b[0;32m      9\u001b[0m \u001b[1;33m\u001b[0m\u001b[0m\n",
      "\u001b[1;31mAttributeError\u001b[0m: 'test2' object has no attribute 'a'"
     ]
    }
   ],
   "source": [
    "# However, if we do this instead, i.e, we make a new class which is not child of test class, then we can't access it.\n",
    "# As you can see it gives attribute error\n",
    "class test2() : \n",
    "    def __init__(self) :\n",
    "        test.__init__(self)\n",
    "\n",
    "obj2 = test2()\n",
    "obj2.a\n",
    "        "
   ]
  },
  {
   "cell_type": "code",
   "execution_count": 52,
   "id": "eca0d1c0",
   "metadata": {},
   "outputs": [
    {
     "data": {
      "text/plain": [
       "4"
      ]
     },
     "execution_count": 52,
     "metadata": {},
     "output_type": "execute_result"
    }
   ],
   "source": [
    "# So, we'll have to use underscore here to access the protected member of the class\n",
    "obj2._a"
   ]
  },
  {
   "cell_type": "code",
   "execution_count": 53,
   "id": "cfe0d3d6",
   "metadata": {},
   "outputs": [
    {
     "data": {
      "text/plain": [
       "-1"
      ]
     },
     "execution_count": 53,
     "metadata": {},
     "output_type": "execute_result"
    }
   ],
   "source": [
    "# We can even modify the protected variable using this\n",
    "obj2._a = -1\n",
    "obj2._a"
   ]
  },
  {
   "cell_type": "code",
   "execution_count": 30,
   "id": "38539a20",
   "metadata": {},
   "outputs": [],
   "source": [
    "# you can access protected variable like this, but not private variables\n",
    "class test : \n",
    "    def __init__(self ) :\n",
    "        self.__a = 4\n",
    "\n",
    "        \n",
    "class test1(test) :\n",
    "    def __init__(self): \n",
    "        self.__a = 7\n",
    "\n",
    "\n",
    "obj = test1()"
   ]
  },
  {
   "cell_type": "code",
   "execution_count": 33,
   "id": "11a843a5",
   "metadata": {},
   "outputs": [
    {
     "ename": "AttributeError",
     "evalue": "'test' object has no attribute '_test1__a'",
     "output_type": "error",
     "traceback": [
      "\u001b[1;31m---------------------------------------------------------------------------\u001b[0m",
      "\u001b[1;31mAttributeError\u001b[0m                            Traceback (most recent call last)",
      "\u001b[1;32m~\\AppData\\Local\\Temp/ipykernel_16264/3586959967.py\u001b[0m in \u001b[0;36m<module>\u001b[1;34m\u001b[0m\n\u001b[1;32m----> 1\u001b[1;33m \u001b[0mobj\u001b[0m\u001b[1;33m.\u001b[0m\u001b[0m_test1__a\u001b[0m\u001b[1;33m\u001b[0m\u001b[1;33m\u001b[0m\u001b[0m\n\u001b[0m",
      "\u001b[1;31mAttributeError\u001b[0m: 'test' object has no attribute '_test1__a'"
     ]
    }
   ],
   "source": [
    "obj._test1__a"
   ]
  },
  {
   "cell_type": "code",
   "execution_count": 32,
   "id": "e024a557",
   "metadata": {},
   "outputs": [
    {
     "data": {
      "text/plain": [
       "4"
      ]
     },
     "execution_count": 32,
     "metadata": {},
     "output_type": "execute_result"
    }
   ],
   "source": [
    "# this is how you access a private variable\n",
    "obj = test()\n",
    "obj._test__a"
   ]
  },
  {
   "cell_type": "code",
   "execution_count": 57,
   "id": "f5cc4735",
   "metadata": {},
   "outputs": [],
   "source": [
    "# Now, the example that sudhanshu gave was also an imp one, here it is :\n",
    "# This is the example of creating object of parent class, and trying to access the class members\n",
    "class test : \n",
    "    def __init__(self,a,b,c) : \n",
    "        self._a = a\n",
    "        self.__b = b\n",
    "        self.c = c\n",
    "\n",
    "v = test(2,3,4)"
   ]
  },
  {
   "cell_type": "code",
   "execution_count": 58,
   "id": "8ad97fa3",
   "metadata": {},
   "outputs": [
    {
     "data": {
      "text/plain": [
       "4"
      ]
     },
     "execution_count": 58,
     "metadata": {},
     "output_type": "execute_result"
    }
   ],
   "source": [
    "v.c\n"
   ]
  },
  {
   "cell_type": "code",
   "execution_count": 59,
   "id": "49e8e27f",
   "metadata": {},
   "outputs": [
    {
     "ename": "AttributeError",
     "evalue": "'test' object has no attribute 'a'",
     "output_type": "error",
     "traceback": [
      "\u001b[1;31m---------------------------------------------------------------------------\u001b[0m",
      "\u001b[1;31mAttributeError\u001b[0m                            Traceback (most recent call last)",
      "\u001b[1;32m~\\AppData\\Local\\Temp/ipykernel_16264/3524926159.py\u001b[0m in \u001b[0;36m<module>\u001b[1;34m\u001b[0m\n\u001b[1;32m----> 1\u001b[1;33m \u001b[0mv\u001b[0m\u001b[1;33m.\u001b[0m\u001b[0ma\u001b[0m\u001b[1;33m\u001b[0m\u001b[1;33m\u001b[0m\u001b[0m\n\u001b[0m",
      "\u001b[1;31mAttributeError\u001b[0m: 'test' object has no attribute 'a'"
     ]
    }
   ],
   "source": [
    "v.a"
   ]
  },
  {
   "cell_type": "code",
   "execution_count": 60,
   "id": "0efeeb7d",
   "metadata": {},
   "outputs": [
    {
     "data": {
      "text/plain": [
       "2"
      ]
     },
     "execution_count": 60,
     "metadata": {},
     "output_type": "execute_result"
    }
   ],
   "source": [
    "v._a\n"
   ]
  },
  {
   "cell_type": "code",
   "execution_count": 61,
   "id": "528aaf90",
   "metadata": {},
   "outputs": [
    {
     "ename": "AttributeError",
     "evalue": "'test' object has no attribute '__b'",
     "output_type": "error",
     "traceback": [
      "\u001b[1;31m---------------------------------------------------------------------------\u001b[0m",
      "\u001b[1;31mAttributeError\u001b[0m                            Traceback (most recent call last)",
      "\u001b[1;32m~\\AppData\\Local\\Temp/ipykernel_16264/3251856981.py\u001b[0m in \u001b[0;36m<module>\u001b[1;34m\u001b[0m\n\u001b[0;32m      1\u001b[0m \u001b[1;31m# v.b --> wrong obviously\u001b[0m\u001b[1;33m\u001b[0m\u001b[1;33m\u001b[0m\u001b[0m\n\u001b[1;32m----> 2\u001b[1;33m \u001b[0mv\u001b[0m\u001b[1;33m.\u001b[0m\u001b[0m__b\u001b[0m\u001b[1;33m\u001b[0m\u001b[1;33m\u001b[0m\u001b[0m\n\u001b[0m",
      "\u001b[1;31mAttributeError\u001b[0m: 'test' object has no attribute '__b'"
     ]
    }
   ],
   "source": [
    "# v.b --> wrong obviously\n",
    "v.__b"
   ]
  },
  {
   "cell_type": "code",
   "execution_count": 62,
   "id": "3e436b76",
   "metadata": {},
   "outputs": [
    {
     "data": {
      "text/plain": [
       "3"
      ]
     },
     "execution_count": 62,
     "metadata": {},
     "output_type": "execute_result"
    }
   ],
   "source": [
    "v._test__b"
   ]
  },
  {
   "cell_type": "code",
   "execution_count": 65,
   "id": "0bd4ad64",
   "metadata": {},
   "outputs": [],
   "source": [
    "# Now, creating a child of the parent class\n",
    "class test : \n",
    "    def __init__(self,a,b,c) : \n",
    "        self._a = a\n",
    "        self.__b = b\n",
    "        self.c = c\n",
    "        \n",
    "class test1(test) : \n",
    "    pass "
   ]
  },
  {
   "cell_type": "code",
   "execution_count": 67,
   "id": "d5804922",
   "metadata": {},
   "outputs": [],
   "source": [
    "u = test1(3,4,5)"
   ]
  },
  {
   "cell_type": "code",
   "execution_count": 71,
   "id": "7345a21a",
   "metadata": {},
   "outputs": [
    {
     "data": {
      "text/plain": [
       "5"
      ]
     },
     "execution_count": 71,
     "metadata": {},
     "output_type": "execute_result"
    }
   ],
   "source": [
    "u.c"
   ]
  },
  {
   "cell_type": "code",
   "execution_count": 72,
   "id": "66b2d7bb",
   "metadata": {},
   "outputs": [
    {
     "ename": "AttributeError",
     "evalue": "'test1' object has no attribute 'a'",
     "output_type": "error",
     "traceback": [
      "\u001b[1;31m---------------------------------------------------------------------------\u001b[0m",
      "\u001b[1;31mAttributeError\u001b[0m                            Traceback (most recent call last)",
      "\u001b[1;32m~\\AppData\\Local\\Temp/ipykernel_16264/1152367088.py\u001b[0m in \u001b[0;36m<module>\u001b[1;34m\u001b[0m\n\u001b[1;32m----> 1\u001b[1;33m \u001b[0mu\u001b[0m\u001b[1;33m.\u001b[0m\u001b[0ma\u001b[0m\u001b[1;33m\u001b[0m\u001b[1;33m\u001b[0m\u001b[0m\n\u001b[0m",
      "\u001b[1;31mAttributeError\u001b[0m: 'test1' object has no attribute 'a'"
     ]
    }
   ],
   "source": [
    "u.a"
   ]
  },
  {
   "cell_type": "code",
   "execution_count": 73,
   "id": "9b3f48d8",
   "metadata": {},
   "outputs": [
    {
     "data": {
      "text/plain": [
       "3"
      ]
     },
     "execution_count": 73,
     "metadata": {},
     "output_type": "execute_result"
    }
   ],
   "source": [
    "u._a"
   ]
  },
  {
   "cell_type": "code",
   "execution_count": 74,
   "id": "43019cf1",
   "metadata": {},
   "outputs": [
    {
     "ename": "AttributeError",
     "evalue": "'test1' object has no attribute '_test1__b'",
     "output_type": "error",
     "traceback": [
      "\u001b[1;31m---------------------------------------------------------------------------\u001b[0m",
      "\u001b[1;31mAttributeError\u001b[0m                            Traceback (most recent call last)",
      "\u001b[1;32m~\\AppData\\Local\\Temp/ipykernel_16264/4083783106.py\u001b[0m in \u001b[0;36m<module>\u001b[1;34m\u001b[0m\n\u001b[1;32m----> 1\u001b[1;33m \u001b[0mu\u001b[0m\u001b[1;33m.\u001b[0m\u001b[0m_test1__b\u001b[0m\u001b[1;33m\u001b[0m\u001b[1;33m\u001b[0m\u001b[0m\n\u001b[0m",
      "\u001b[1;31mAttributeError\u001b[0m: 'test1' object has no attribute '_test1__b'"
     ]
    }
   ],
   "source": [
    "u._test1__b"
   ]
  },
  {
   "cell_type": "code",
   "execution_count": 75,
   "id": "98c9a74c",
   "metadata": {},
   "outputs": [
    {
     "data": {
      "text/plain": [
       "4"
      ]
     },
     "execution_count": 75,
     "metadata": {},
     "output_type": "execute_result"
    }
   ],
   "source": [
    "u._test__b"
   ]
  },
  {
   "cell_type": "code",
   "execution_count": 1,
   "id": "425e34e9",
   "metadata": {},
   "outputs": [],
   "source": [
    "class A : \n",
    "    def __init__(self,x) : \n",
    "        self.__x = x\n",
    "    \n",
    "    def fun(self) :\n",
    "        print(self.__x)"
   ]
  },
  {
   "cell_type": "code",
   "execution_count": 4,
   "id": "fc1d9078",
   "metadata": {},
   "outputs": [
    {
     "name": "stdout",
     "output_type": "stream",
     "text": [
      "5\n"
     ]
    }
   ],
   "source": [
    "obj = A(5)\n",
    "obj.fun()"
   ]
  },
  {
   "cell_type": "code",
   "execution_count": 1,
   "id": "d64d2adb",
   "metadata": {},
   "outputs": [],
   "source": [
    "# Very imp sudhanshu's code and conclusion\n",
    "class bonousclaculator:\n",
    "    def __init__(self, empid , emprating) :\n",
    "        self.empid = empid\n",
    "        self.emprating = emprating\n",
    "        self._empmail = \"fdsfsfssf@gmail.com\"\n",
    "        self.__bonusforratingA = \"70%\"\n",
    "        self.__bonusforraringB = \"60%\"\n",
    "        self.__bonusforratinC = \"40%\"\n",
    "    \n",
    "    def bonuscalculator(self) :\n",
    "        if self.emprating == \"A\":\n",
    "            bonus = self.__bonusforratingA\n",
    "            return bonus\n",
    "        elif self.emprating == \"B\" :\n",
    "            bonus = self.__bonusforraringB\n",
    "            return bonus\n",
    "        else :\n",
    "            bonus = self.__bonusforratinC\n",
    "            return bonus\n",
    "    \n",
    "    def show(self) : \n",
    "        print(\"empid : \",self.empid)\n",
    "        print(\"emprating : \",self.emprating)\n",
    "        print(\"empmail : \",self._empmail)\n",
    "        print(\"__bonusforratingA : \",self.__bonusforratingA)\n",
    "        print(\"__bonusforraringB : \",self.__bonusforraringB)\n",
    "        print(\"__bonusforratinC : \",self.__bonusforratinC)"
   ]
  },
  {
   "cell_type": "code",
   "execution_count": 2,
   "id": "c2ab1e9d",
   "metadata": {},
   "outputs": [],
   "source": [
    "obj = bonousclaculator(\"123\",\"A\")"
   ]
  },
  {
   "cell_type": "code",
   "execution_count": 27,
   "id": "a89d723c",
   "metadata": {},
   "outputs": [],
   "source": [
    "# YOU CAN RUN THIS, AND IT SHOWS NO 'ATTRIBUTE ERROR', DAYUM SON\n",
    "obj.empmail = \"abc@gmail.com\""
   ]
  },
  {
   "cell_type": "code",
   "execution_count": 14,
   "id": "88fa1f88",
   "metadata": {},
   "outputs": [
    {
     "data": {
      "text/plain": [
       "'abc@gmail.com'"
      ]
     },
     "execution_count": 14,
     "metadata": {},
     "output_type": "execute_result"
    }
   ],
   "source": [
    "obj.empmail"
   ]
  },
  {
   "cell_type": "code",
   "execution_count": 11,
   "id": "ccb9d70e",
   "metadata": {},
   "outputs": [
    {
     "data": {
      "text/plain": [
       "'fdsfsfssf@gmail.com'"
      ]
     },
     "execution_count": 11,
     "metadata": {},
     "output_type": "execute_result"
    }
   ],
   "source": [
    "# However, if you check if it's modified or not\n",
    "obj._empmail"
   ]
  },
  {
   "cell_type": "code",
   "execution_count": 12,
   "id": "af7675ae",
   "metadata": {},
   "outputs": [
    {
     "data": {
      "text/plain": [
       "'abc@gmail.com'"
      ]
     },
     "execution_count": 12,
     "metadata": {},
     "output_type": "execute_result"
    }
   ],
   "source": [
    "# if you want to modify then : \n",
    "obj._empmail = \"abc@gmail.com\"\n",
    "obj._empmail"
   ]
  },
  {
   "cell_type": "code",
   "execution_count": 13,
   "id": "528923ee",
   "metadata": {},
   "outputs": [
    {
     "data": {
      "text/plain": [
       "'abc@gmail.com'"
      ]
     },
     "execution_count": 13,
     "metadata": {},
     "output_type": "execute_result"
    }
   ],
   "source": [
    "obj.empmail"
   ]
  },
  {
   "cell_type": "code",
   "execution_count": 18,
   "id": "b75fdc94",
   "metadata": {},
   "outputs": [],
   "source": [
    "obj.__bonusforratingA = \"\""
   ]
  },
  {
   "cell_type": "code",
   "execution_count": 21,
   "id": "d206892a",
   "metadata": {},
   "outputs": [
    {
     "data": {
      "text/plain": [
       "''"
      ]
     },
     "execution_count": 21,
     "metadata": {},
     "output_type": "execute_result"
    }
   ],
   "source": [
    "obj.__bonusforratingA "
   ]
  },
  {
   "cell_type": "code",
   "execution_count": 22,
   "id": "2291266e",
   "metadata": {},
   "outputs": [
    {
     "data": {
      "text/plain": [
       "'70%'"
      ]
     },
     "execution_count": 22,
     "metadata": {},
     "output_type": "execute_result"
    }
   ],
   "source": [
    "obj.bonuscalculator()"
   ]
  },
  {
   "cell_type": "code",
   "execution_count": 3,
   "id": "db32ff9a",
   "metadata": {},
   "outputs": [
    {
     "ename": "AttributeError",
     "evalue": "'bonousclaculator' object has no attribute 'empmail'",
     "output_type": "error",
     "traceback": [
      "\u001b[1;31m---------------------------------------------------------------------------\u001b[0m",
      "\u001b[1;31mAttributeError\u001b[0m                            Traceback (most recent call last)",
      "\u001b[1;32m~\\AppData\\Local\\Temp/ipykernel_12660/3094379817.py\u001b[0m in \u001b[0;36m<module>\u001b[1;34m\u001b[0m\n\u001b[1;32m----> 1\u001b[1;33m \u001b[0mobj\u001b[0m\u001b[1;33m.\u001b[0m\u001b[0mempmail\u001b[0m\u001b[1;33m\u001b[0m\u001b[1;33m\u001b[0m\u001b[0m\n\u001b[0m",
      "\u001b[1;31mAttributeError\u001b[0m: 'bonousclaculator' object has no attribute 'empmail'"
     ]
    }
   ],
   "source": [
    "obj.empmail"
   ]
  },
  {
   "cell_type": "code",
   "execution_count": 4,
   "id": "f86d78ff",
   "metadata": {},
   "outputs": [
    {
     "data": {
      "text/plain": [
       "'fdsfsfssf@gmail.com'"
      ]
     },
     "execution_count": 4,
     "metadata": {},
     "output_type": "execute_result"
    }
   ],
   "source": [
    "obj._empmail"
   ]
  },
  {
   "cell_type": "code",
   "execution_count": 5,
   "id": "c0f1617d",
   "metadata": {},
   "outputs": [],
   "source": [
    "obj._empmail = \"abc@gmail.com\""
   ]
  },
  {
   "cell_type": "code",
   "execution_count": 6,
   "id": "a361397b",
   "metadata": {},
   "outputs": [
    {
     "name": "stdout",
     "output_type": "stream",
     "text": [
      "empid :  123\n",
      "emprating :  A\n",
      "empmail :  abc@gmail.com\n",
      "__bonusforratingA :  70%\n",
      "__bonusforraringB :  60%\n",
      "__bonusforratinC :  40%\n"
     ]
    }
   ],
   "source": [
    "obj.show()"
   ]
  },
  {
   "cell_type": "code",
   "execution_count": 7,
   "id": "54d2256b",
   "metadata": {},
   "outputs": [
    {
     "ename": "AttributeError",
     "evalue": "'bonousclaculator' object has no attribute 'empmail'",
     "output_type": "error",
     "traceback": [
      "\u001b[1;31m---------------------------------------------------------------------------\u001b[0m",
      "\u001b[1;31mAttributeError\u001b[0m                            Traceback (most recent call last)",
      "\u001b[1;32m~\\AppData\\Local\\Temp/ipykernel_12660/3094379817.py\u001b[0m in \u001b[0;36m<module>\u001b[1;34m\u001b[0m\n\u001b[1;32m----> 1\u001b[1;33m \u001b[0mobj\u001b[0m\u001b[1;33m.\u001b[0m\u001b[0mempmail\u001b[0m\u001b[1;33m\u001b[0m\u001b[1;33m\u001b[0m\u001b[0m\n\u001b[0m",
      "\u001b[1;31mAttributeError\u001b[0m: 'bonousclaculator' object has no attribute 'empmail'"
     ]
    }
   ],
   "source": [
    "obj.empmail"
   ]
  },
  {
   "cell_type": "code",
   "execution_count": 8,
   "id": "6e530690",
   "metadata": {},
   "outputs": [
    {
     "data": {
      "text/plain": [
       "'abc@gmail.com'"
      ]
     },
     "execution_count": 8,
     "metadata": {},
     "output_type": "execute_result"
    }
   ],
   "source": [
    "obj._empmail"
   ]
  },
  {
   "cell_type": "code",
   "execution_count": null,
   "id": "4f860a9e",
   "metadata": {},
   "outputs": [],
   "source": [
    "obj."
   ]
  }
 ],
 "metadata": {
  "kernelspec": {
   "display_name": "Python 3 (ipykernel)",
   "language": "python",
   "name": "python3"
  },
  "language_info": {
   "codemirror_mode": {
    "name": "ipython",
    "version": 3
   },
   "file_extension": ".py",
   "mimetype": "text/x-python",
   "name": "python",
   "nbconvert_exporter": "python",
   "pygments_lexer": "ipython3",
   "version": "3.9.7"
  }
 },
 "nbformat": 4,
 "nbformat_minor": 5
}
