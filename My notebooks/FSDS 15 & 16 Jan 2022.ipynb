{
 "cells": [
  {
   "cell_type": "code",
   "execution_count": null,
   "id": "b0db81c0",
   "metadata": {},
   "outputs": [],
   "source": [
    "# yeild is a generator"
   ]
  },
  {
   "cell_type": "code",
   "execution_count": null,
   "id": "147b3561",
   "metadata": {},
   "outputs": [],
   "source": [
    "# def askForInt():\n",
    "#     a = 0\n",
    "#     while a is not int : \n",
    "#         a = input()\n",
    "#         if a==int : break\n",
    "#     print(a)\n",
    "#     return a\n",
    "# b = askForInt()"
   ]
  },
  {
   "cell_type": "code",
   "execution_count": 14,
   "id": "e2c24d10",
   "metadata": {},
   "outputs": [],
   "source": [
    "def askForInt() : \n",
    "    flag=1\n",
    "    while(flag) :\n",
    "        try : \n",
    "            a = int(input())\n",
    "        except Exception as e:\n",
    "            print(e)\n",
    "        else : \n",
    "            flag = 0\n",
    "    return a"
   ]
  },
  {
   "cell_type": "code",
   "execution_count": 15,
   "id": "455f65ab",
   "metadata": {},
   "outputs": [
    {
     "name": "stdout",
     "output_type": "stream",
     "text": [
      "a;sdkljf\n",
      "invalid literal for int() with base 10: 'a;sdkljf'\n",
      ";asdkjf\n",
      "invalid literal for int() with base 10: ';asdkjf'\n",
      "a;sldkfj\n",
      "invalid literal for int() with base 10: 'a;sldkfj'\n",
      "23.342\n",
      "invalid literal for int() with base 10: '23.342'\n",
      "23\n"
     ]
    }
   ],
   "source": [
    "b = askForInt()"
   ]
  },
  {
   "cell_type": "code",
   "execution_count": 7,
   "id": "1a943152",
   "metadata": {},
   "outputs": [
    {
     "name": "stdout",
     "output_type": "stream",
     "text": [
      "23\n"
     ]
    },
    {
     "data": {
      "text/plain": [
       "str"
      ]
     },
     "execution_count": 7,
     "metadata": {},
     "output_type": "execute_result"
    }
   ],
   "source": [
    "a = input()\n",
    "# the default data type of data we input from input() is string\n",
    "type(a)"
   ]
  },
  {
   "cell_type": "code",
   "execution_count": 8,
   "id": "68a3469d",
   "metadata": {},
   "outputs": [
    {
     "name": "stdout",
     "output_type": "stream",
     "text": [
      "23.3\n"
     ]
    },
    {
     "ename": "ValueError",
     "evalue": "invalid literal for int() with base 10: '23.3'",
     "output_type": "error",
     "traceback": [
      "\u001b[1;31m---------------------------------------------------------------------------\u001b[0m",
      "\u001b[1;31mValueError\u001b[0m                                Traceback (most recent call last)",
      "\u001b[1;32m<ipython-input-8-9270a273a61b>\u001b[0m in \u001b[0;36m<module>\u001b[1;34m\u001b[0m\n\u001b[1;32m----> 1\u001b[1;33m \u001b[0ma\u001b[0m \u001b[1;33m=\u001b[0m \u001b[0mint\u001b[0m\u001b[1;33m(\u001b[0m\u001b[0minput\u001b[0m\u001b[1;33m(\u001b[0m\u001b[1;33m)\u001b[0m\u001b[1;33m)\u001b[0m\u001b[1;33m\u001b[0m\u001b[1;33m\u001b[0m\u001b[0m\n\u001b[0m\u001b[0;32m      2\u001b[0m \u001b[0mtype\u001b[0m\u001b[1;33m(\u001b[0m\u001b[0ma\u001b[0m\u001b[1;33m)\u001b[0m\u001b[1;33m\u001b[0m\u001b[1;33m\u001b[0m\u001b[0m\n",
      "\u001b[1;31mValueError\u001b[0m: invalid literal for int() with base 10: '23.3'"
     ]
    }
   ],
   "source": [
    "a = int(input())\n",
    "type(a)"
   ]
  },
  {
   "cell_type": "markdown",
   "id": "9b384f4c",
   "metadata": {},
   "source": [
    "## 16 Jan 2022\n"
   ]
  },
  {
   "cell_type": "code",
   "execution_count": 1,
   "id": "e8ed9929",
   "metadata": {},
   "outputs": [],
   "source": [
    "# Two types of exception handling :\n",
    "# Compile time\n",
    "# run time "
   ]
  },
  {
   "cell_type": "code",
   "execution_count": 18,
   "id": "07f69f15",
   "metadata": {},
   "outputs": [],
   "source": [
    "def test(a) :\n",
    "    if a<0 : \n",
    "        raise Exception(\"You've entered a negative integer\",a)\n",
    "    return a"
   ]
  },
  {
   "cell_type": "code",
   "execution_count": 21,
   "id": "ef2bbae8",
   "metadata": {},
   "outputs": [],
   "source": [
    "# You can use any error type to override the default one\n",
    "def test2(a) :\n",
    "    if a<0 : \n",
    "        raise IOError(\"You've entered a negative integer\",a)\n",
    "    return a"
   ]
  },
  {
   "cell_type": "code",
   "execution_count": 22,
   "id": "842a47d6",
   "metadata": {},
   "outputs": [
    {
     "ename": "Exception",
     "evalue": "(\"You've entered a negative integer\", -5)",
     "output_type": "error",
     "traceback": [
      "\u001b[1;31m---------------------------------------------------------------------------\u001b[0m",
      "\u001b[1;31mException\u001b[0m                                 Traceback (most recent call last)",
      "\u001b[1;32m<ipython-input-22-aa8bd0343160>\u001b[0m in \u001b[0;36m<module>\u001b[1;34m\u001b[0m\n\u001b[1;32m----> 1\u001b[1;33m \u001b[0mtest\u001b[0m\u001b[1;33m(\u001b[0m\u001b[1;33m-\u001b[0m\u001b[1;36m5\u001b[0m\u001b[1;33m)\u001b[0m\u001b[1;33m\u001b[0m\u001b[1;33m\u001b[0m\u001b[0m\n\u001b[0m",
      "\u001b[1;32m<ipython-input-18-8d9c2f74a83a>\u001b[0m in \u001b[0;36mtest\u001b[1;34m(a)\u001b[0m\n\u001b[0;32m      1\u001b[0m \u001b[1;32mdef\u001b[0m \u001b[0mtest\u001b[0m\u001b[1;33m(\u001b[0m\u001b[0ma\u001b[0m\u001b[1;33m)\u001b[0m \u001b[1;33m:\u001b[0m\u001b[1;33m\u001b[0m\u001b[1;33m\u001b[0m\u001b[0m\n\u001b[0;32m      2\u001b[0m     \u001b[1;32mif\u001b[0m \u001b[0ma\u001b[0m\u001b[1;33m<\u001b[0m\u001b[1;36m0\u001b[0m \u001b[1;33m:\u001b[0m\u001b[1;33m\u001b[0m\u001b[1;33m\u001b[0m\u001b[0m\n\u001b[1;32m----> 3\u001b[1;33m         \u001b[1;32mraise\u001b[0m \u001b[0mException\u001b[0m\u001b[1;33m(\u001b[0m\u001b[1;34m\"You've entered a negative integer\"\u001b[0m\u001b[1;33m,\u001b[0m\u001b[0ma\u001b[0m\u001b[1;33m)\u001b[0m\u001b[1;33m\u001b[0m\u001b[1;33m\u001b[0m\u001b[0m\n\u001b[0m\u001b[0;32m      4\u001b[0m     \u001b[1;32mreturn\u001b[0m \u001b[0ma\u001b[0m\u001b[1;33m\u001b[0m\u001b[1;33m\u001b[0m\u001b[0m\n",
      "\u001b[1;31mException\u001b[0m: (\"You've entered a negative integer\", -5)"
     ]
    }
   ],
   "source": [
    "test(-5)"
   ]
  },
  {
   "cell_type": "code",
   "execution_count": 23,
   "id": "e999e911",
   "metadata": {},
   "outputs": [
    {
     "ename": "ValueError",
     "evalue": "(\"You've entered a negative integer\", -5)",
     "output_type": "error",
     "traceback": [
      "\u001b[1;31m---------------------------------------------------------------------------\u001b[0m",
      "\u001b[1;31mValueError\u001b[0m                                Traceback (most recent call last)",
      "\u001b[1;32m<ipython-input-23-2d34d3a93a97>\u001b[0m in \u001b[0;36m<module>\u001b[1;34m\u001b[0m\n\u001b[1;32m----> 1\u001b[1;33m \u001b[0mtest2\u001b[0m\u001b[1;33m(\u001b[0m\u001b[1;33m-\u001b[0m\u001b[1;36m5\u001b[0m\u001b[1;33m)\u001b[0m\u001b[1;33m\u001b[0m\u001b[1;33m\u001b[0m\u001b[0m\n\u001b[0m",
      "\u001b[1;32m<ipython-input-21-b658b1f223a0>\u001b[0m in \u001b[0;36mtest2\u001b[1;34m(a)\u001b[0m\n\u001b[0;32m      1\u001b[0m \u001b[1;32mdef\u001b[0m \u001b[0mtest2\u001b[0m\u001b[1;33m(\u001b[0m\u001b[0ma\u001b[0m\u001b[1;33m)\u001b[0m \u001b[1;33m:\u001b[0m\u001b[1;33m\u001b[0m\u001b[1;33m\u001b[0m\u001b[0m\n\u001b[0;32m      2\u001b[0m     \u001b[1;32mif\u001b[0m \u001b[0ma\u001b[0m\u001b[1;33m<\u001b[0m\u001b[1;36m0\u001b[0m \u001b[1;33m:\u001b[0m\u001b[1;33m\u001b[0m\u001b[1;33m\u001b[0m\u001b[0m\n\u001b[1;32m----> 3\u001b[1;33m         \u001b[1;32mraise\u001b[0m \u001b[0mValueError\u001b[0m\u001b[1;33m(\u001b[0m\u001b[1;34m\"You've entered a negative integer\"\u001b[0m\u001b[1;33m,\u001b[0m\u001b[0ma\u001b[0m\u001b[1;33m)\u001b[0m\u001b[1;33m\u001b[0m\u001b[1;33m\u001b[0m\u001b[0m\n\u001b[0m\u001b[0;32m      4\u001b[0m     \u001b[1;32mreturn\u001b[0m \u001b[0ma\u001b[0m\u001b[1;33m\u001b[0m\u001b[1;33m\u001b[0m\u001b[0m\n",
      "\u001b[1;31mValueError\u001b[0m: (\"You've entered a negative integer\", -5)"
     ]
    }
   ],
   "source": [
    "test2(-5)"
   ]
  },
  {
   "cell_type": "markdown",
   "id": "aeca4420",
   "metadata": {},
   "source": [
    "## Logging\n"
   ]
  },
  {
   "cell_type": "code",
   "execution_count": 1,
   "id": "2bcfd98a",
   "metadata": {},
   "outputs": [],
   "source": [
    "import logging as lg"
   ]
  },
  {
   "cell_type": "code",
   "execution_count": 2,
   "id": "fe0a0121",
   "metadata": {},
   "outputs": [
    {
     "ename": "TypeError",
     "evalue": "Level not an integer or a valid string: <function info at 0x000002169AEE54C0>",
     "output_type": "error",
     "traceback": [
      "\u001b[1;31m---------------------------------------------------------------------------\u001b[0m",
      "\u001b[1;31mTypeError\u001b[0m                                 Traceback (most recent call last)",
      "\u001b[1;32m<ipython-input-2-e6be5be12b89>\u001b[0m in \u001b[0;36m<module>\u001b[1;34m\u001b[0m\n\u001b[1;32m----> 1\u001b[1;33m \u001b[0mlg\u001b[0m\u001b[1;33m.\u001b[0m\u001b[0mbasicConfig\u001b[0m\u001b[1;33m(\u001b[0m\u001b[0mfilename\u001b[0m \u001b[1;33m=\u001b[0m \u001b[1;34m\"LogTest.log\"\u001b[0m\u001b[1;33m,\u001b[0m\u001b[0mlevel\u001b[0m \u001b[1;33m=\u001b[0m \u001b[0mlg\u001b[0m\u001b[1;33m.\u001b[0m\u001b[0minfo\u001b[0m\u001b[1;33m)\u001b[0m\u001b[1;33m\u001b[0m\u001b[1;33m\u001b[0m\u001b[0m\n\u001b[0m",
      "\u001b[1;32mC:\\ProgramData\\Anaconda3\\lib\\logging\\__init__.py\u001b[0m in \u001b[0;36mbasicConfig\u001b[1;34m(**kwargs)\u001b[0m\n\u001b[0;32m   2000\u001b[0m             \u001b[0mlevel\u001b[0m \u001b[1;33m=\u001b[0m \u001b[0mkwargs\u001b[0m\u001b[1;33m.\u001b[0m\u001b[0mpop\u001b[0m\u001b[1;33m(\u001b[0m\u001b[1;34m\"level\"\u001b[0m\u001b[1;33m,\u001b[0m \u001b[1;32mNone\u001b[0m\u001b[1;33m)\u001b[0m\u001b[1;33m\u001b[0m\u001b[1;33m\u001b[0m\u001b[0m\n\u001b[0;32m   2001\u001b[0m             \u001b[1;32mif\u001b[0m \u001b[0mlevel\u001b[0m \u001b[1;32mis\u001b[0m \u001b[1;32mnot\u001b[0m \u001b[1;32mNone\u001b[0m\u001b[1;33m:\u001b[0m\u001b[1;33m\u001b[0m\u001b[1;33m\u001b[0m\u001b[0m\n\u001b[1;32m-> 2002\u001b[1;33m                 \u001b[0mroot\u001b[0m\u001b[1;33m.\u001b[0m\u001b[0msetLevel\u001b[0m\u001b[1;33m(\u001b[0m\u001b[0mlevel\u001b[0m\u001b[1;33m)\u001b[0m\u001b[1;33m\u001b[0m\u001b[1;33m\u001b[0m\u001b[0m\n\u001b[0m\u001b[0;32m   2003\u001b[0m             \u001b[1;32mif\u001b[0m \u001b[0mkwargs\u001b[0m\u001b[1;33m:\u001b[0m\u001b[1;33m\u001b[0m\u001b[1;33m\u001b[0m\u001b[0m\n\u001b[0;32m   2004\u001b[0m                 \u001b[0mkeys\u001b[0m \u001b[1;33m=\u001b[0m \u001b[1;34m', '\u001b[0m\u001b[1;33m.\u001b[0m\u001b[0mjoin\u001b[0m\u001b[1;33m(\u001b[0m\u001b[0mkwargs\u001b[0m\u001b[1;33m.\u001b[0m\u001b[0mkeys\u001b[0m\u001b[1;33m(\u001b[0m\u001b[1;33m)\u001b[0m\u001b[1;33m)\u001b[0m\u001b[1;33m\u001b[0m\u001b[1;33m\u001b[0m\u001b[0m\n",
      "\u001b[1;32mC:\\ProgramData\\Anaconda3\\lib\\logging\\__init__.py\u001b[0m in \u001b[0;36msetLevel\u001b[1;34m(self, level)\u001b[0m\n\u001b[0;32m   1415\u001b[0m         \u001b[0mSet\u001b[0m \u001b[0mthe\u001b[0m \u001b[0mlogging\u001b[0m \u001b[0mlevel\u001b[0m \u001b[0mof\u001b[0m \u001b[0mthis\u001b[0m \u001b[0mlogger\u001b[0m\u001b[1;33m.\u001b[0m  \u001b[0mlevel\u001b[0m \u001b[0mmust\u001b[0m \u001b[0mbe\u001b[0m \u001b[0man\u001b[0m \u001b[0mint\u001b[0m \u001b[1;32mor\u001b[0m \u001b[0ma\u001b[0m \u001b[0mstr\u001b[0m\u001b[1;33m.\u001b[0m\u001b[1;33m\u001b[0m\u001b[1;33m\u001b[0m\u001b[0m\n\u001b[0;32m   1416\u001b[0m         \"\"\"\n\u001b[1;32m-> 1417\u001b[1;33m         \u001b[0mself\u001b[0m\u001b[1;33m.\u001b[0m\u001b[0mlevel\u001b[0m \u001b[1;33m=\u001b[0m \u001b[0m_checkLevel\u001b[0m\u001b[1;33m(\u001b[0m\u001b[0mlevel\u001b[0m\u001b[1;33m)\u001b[0m\u001b[1;33m\u001b[0m\u001b[1;33m\u001b[0m\u001b[0m\n\u001b[0m\u001b[0;32m   1418\u001b[0m         \u001b[0mself\u001b[0m\u001b[1;33m.\u001b[0m\u001b[0mmanager\u001b[0m\u001b[1;33m.\u001b[0m\u001b[0m_clear_cache\u001b[0m\u001b[1;33m(\u001b[0m\u001b[1;33m)\u001b[0m\u001b[1;33m\u001b[0m\u001b[1;33m\u001b[0m\u001b[0m\n\u001b[0;32m   1419\u001b[0m \u001b[1;33m\u001b[0m\u001b[0m\n",
      "\u001b[1;32mC:\\ProgramData\\Anaconda3\\lib\\logging\\__init__.py\u001b[0m in \u001b[0;36m_checkLevel\u001b[1;34m(level)\u001b[0m\n\u001b[0;32m    195\u001b[0m         \u001b[0mrv\u001b[0m \u001b[1;33m=\u001b[0m \u001b[0m_nameToLevel\u001b[0m\u001b[1;33m[\u001b[0m\u001b[0mlevel\u001b[0m\u001b[1;33m]\u001b[0m\u001b[1;33m\u001b[0m\u001b[1;33m\u001b[0m\u001b[0m\n\u001b[0;32m    196\u001b[0m     \u001b[1;32melse\u001b[0m\u001b[1;33m:\u001b[0m\u001b[1;33m\u001b[0m\u001b[1;33m\u001b[0m\u001b[0m\n\u001b[1;32m--> 197\u001b[1;33m         \u001b[1;32mraise\u001b[0m \u001b[0mTypeError\u001b[0m\u001b[1;33m(\u001b[0m\u001b[1;34m\"Level not an integer or a valid string: %r\"\u001b[0m \u001b[1;33m%\u001b[0m \u001b[0mlevel\u001b[0m\u001b[1;33m)\u001b[0m\u001b[1;33m\u001b[0m\u001b[1;33m\u001b[0m\u001b[0m\n\u001b[0m\u001b[0;32m    198\u001b[0m     \u001b[1;32mreturn\u001b[0m \u001b[0mrv\u001b[0m\u001b[1;33m\u001b[0m\u001b[1;33m\u001b[0m\u001b[0m\n\u001b[0;32m    199\u001b[0m \u001b[1;33m\u001b[0m\u001b[0m\n",
      "\u001b[1;31mTypeError\u001b[0m: Level not an integer or a valid string: <function info at 0x000002169AEE54C0>"
     ]
    }
   ],
   "source": [
    "lg.basicConfig(filename = \"LogTest.log\",level = lg.info)"
   ]
  },
  {
   "cell_type": "code",
   "execution_count": 3,
   "id": "f39bcb41",
   "metadata": {},
   "outputs": [
    {
     "data": {
      "text/plain": [
       "'C:\\\\Users\\\\soman\\\\KNAWLEDGE'"
      ]
     },
     "execution_count": 3,
     "metadata": {},
     "output_type": "execute_result"
    }
   ],
   "source": [
    "pwd()"
   ]
  },
  {
   "cell_type": "code",
   "execution_count": 4,
   "id": "13faa2b7",
   "metadata": {},
   "outputs": [
    {
     "data": {
      "text/plain": [
       "['.ipynb_checkpoints',\n",
       " '23rd Dec 2021 Homework.ipynb',\n",
       " 'abc.txt',\n",
       " 'Data Visualization.ipynb',\n",
       " 'File Operations 2022 9 jan.ipynb',\n",
       " 'File Operations 9 jan 2022 part 2.ipynb',\n",
       " 'FSDS 15 & 16 Jan 2022.ipynb',\n",
       " 'FSDS CLASS RESOURCES',\n",
       " 'Function in pyton  (1) ( old).ipynb',\n",
       " 'Functions 2022 8 Jan.ipynb',\n",
       " 'google.txt',\n",
       " 'logging',\n",
       " 'LogTest.log',\n",
       " 'LogTest2.log',\n",
       " 'Matplotlib.ipynb',\n",
       " 'Pandas.ipynb',\n",
       " 'Python.ipynb',\n",
       " 'Seaborn 2.ipynb',\n",
       " 'Seaborn.ipynb',\n",
       " 'test.log',\n",
       " 'test.txt',\n",
       " 'test2.txt',\n",
       " 'test3.txt',\n",
       " 'Untitled.ipynb',\n",
       " 'Untitled1.ipynb',\n",
       " 'Untitled2.ipynb']"
      ]
     },
     "execution_count": 4,
     "metadata": {},
     "output_type": "execute_result"
    }
   ],
   "source": [
    "import os\n",
    "os.listdir()"
   ]
  },
  {
   "cell_type": "code",
   "execution_count": 5,
   "id": "09d7f20e",
   "metadata": {},
   "outputs": [],
   "source": [
    "lg.info(\"this is my first info log\")"
   ]
  },
  {
   "cell_type": "code",
   "execution_count": 6,
   "id": "41a1772c",
   "metadata": {},
   "outputs": [],
   "source": [
    "lg.warning(\"this is my first warning log\")"
   ]
  },
  {
   "cell_type": "code",
   "execution_count": 7,
   "id": "ce8cbcab",
   "metadata": {},
   "outputs": [],
   "source": [
    "lg.error(\"this is my first error log\")"
   ]
  },
  {
   "cell_type": "code",
   "execution_count": 8,
   "id": "272dbd46",
   "metadata": {},
   "outputs": [],
   "source": [
    "lg.shutdown()"
   ]
  },
  {
   "cell_type": "code",
   "execution_count": 4,
   "id": "a0d036ab",
   "metadata": {},
   "outputs": [],
   "source": [
    "# asctime = asynchronous time\n",
    "lg.basicConfig(filename = \"LogTest2.log\",level = lg.DEBUG, format = '%(asctime)s %(message)s')"
   ]
  },
  {
   "cell_type": "code",
   "execution_count": 5,
   "id": "db5410d2",
   "metadata": {},
   "outputs": [],
   "source": [
    "lg.info(\"this is my first info log\")"
   ]
  },
  {
   "cell_type": "code",
   "execution_count": 6,
   "id": "79048371",
   "metadata": {},
   "outputs": [],
   "source": [
    "lg.warning(\"this is my first warning log\")"
   ]
  },
  {
   "cell_type": "code",
   "execution_count": 7,
   "id": "f7b55217",
   "metadata": {},
   "outputs": [],
   "source": [
    "lg.error(\"this is my first error log\")"
   ]
  },
  {
   "cell_type": "code",
   "execution_count": 8,
   "id": "0d6aa43b",
   "metadata": {},
   "outputs": [],
   "source": [
    "lg.shutdown()"
   ]
  },
  {
   "cell_type": "code",
   "execution_count": 5,
   "id": "67c5d8c2",
   "metadata": {},
   "outputs": [],
   "source": [
    "lg.basicConfig(filename=\"LogTest3.log\",level=lg.INFO,format = \"%(asctime)s %(message)s\")"
   ]
  },
  {
   "cell_type": "code",
   "execution_count": 6,
   "id": "af10214e",
   "metadata": {},
   "outputs": [],
   "source": [
    "lg.info(\"this is my info log\")\n",
    "lg.warning(\"this is my warning log\")\n",
    "lg.error(\"this is my error log\")"
   ]
  },
  {
   "cell_type": "code",
   "execution_count": 11,
   "id": "d3b2d6b3",
   "metadata": {},
   "outputs": [],
   "source": [
    "lg.shutdown()"
   ]
  },
  {
   "cell_type": "code",
   "execution_count": 1,
   "id": "c6f8220c",
   "metadata": {},
   "outputs": [
    {
     "data": {
      "text/plain": [
       "'C:\\\\Users\\\\soman\\\\KNAWLEDGE'"
      ]
     },
     "execution_count": 1,
     "metadata": {},
     "output_type": "execute_result"
    }
   ],
   "source": [
    "pwd()"
   ]
  },
  {
   "cell_type": "code",
   "execution_count": 8,
   "id": "871cc816",
   "metadata": {},
   "outputs": [],
   "source": [
    "lg.basicConfig(filename = \"LogTest3.log\",level = lg.INFO,format = \"%(asctime)s %(levelname)s %(message)s\")"
   ]
  },
  {
   "cell_type": "code",
   "execution_count": 9,
   "id": "7d34acf7",
   "metadata": {},
   "outputs": [],
   "source": [
    "lg.info(\"this is my info log\")\n",
    "lg.warning(\"this is my warning log\")\n",
    "lg.error(\"this is my error log\")"
   ]
  },
  {
   "cell_type": "code",
   "execution_count": 2,
   "id": "e8cfaeff",
   "metadata": {},
   "outputs": [],
   "source": [
    "lg.basicConfig(filename = \"LogTest4.log\",level = lg.INFO,format = \"%(asctime)s %(levelname)s %(message)s\")"
   ]
  },
  {
   "cell_type": "code",
   "execution_count": 3,
   "id": "5c790e3c",
   "metadata": {},
   "outputs": [],
   "source": [
    "lg.info(\"this is my info log\")\n",
    "lg.warning(\"this is my warning log\")\n",
    "lg.error(\"this is my error log\")"
   ]
  },
  {
   "cell_type": "code",
   "execution_count": null,
   "id": "82fc56c9",
   "metadata": {},
   "outputs": [],
   "source": [
    "# priority/ heirarchy order\n",
    "ERROR\n",
    "WARNING\n",
    "INFO\n",
    "DEBUG\n"
   ]
  },
  {
   "cell_type": "code",
   "execution_count": 1,
   "id": "0e12ecda",
   "metadata": {},
   "outputs": [],
   "source": [
    "import logging as lg\n",
    "lg.basicConfig(filename = \"LogTest4.log\",level = lg.ERROR,format = \"%(asctime)s %(levelname)s %(message)s\")"
   ]
  },
  {
   "cell_type": "code",
   "execution_count": 2,
   "id": "1556c13c",
   "metadata": {},
   "outputs": [],
   "source": [
    "lg.info(\"this is my info log\")\n",
    "lg.warning(\"this is my warning log\")\n",
    "# will not print the above 2 logs, as their heirarchy is low\n",
    "lg.error(\"this is my error log\")"
   ]
  },
  {
   "cell_type": "code",
   "execution_count": null,
   "id": "edced7b8",
   "metadata": {},
   "outputs": [],
   "source": []
  }
 ],
 "metadata": {
  "kernelspec": {
   "display_name": "Python 3",
   "language": "python",
   "name": "python3"
  },
  "language_info": {
   "codemirror_mode": {
    "name": "ipython",
    "version": 3
   },
   "file_extension": ".py",
   "mimetype": "text/x-python",
   "name": "python",
   "nbconvert_exporter": "python",
   "pygments_lexer": "ipython3",
   "version": "3.8.8"
  }
 },
 "nbformat": 4,
 "nbformat_minor": 5
}
