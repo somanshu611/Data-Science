{
 "cells": [
  {
   "cell_type": "code",
   "execution_count": 1,
   "id": "05884ee4",
   "metadata": {},
   "outputs": [
    {
     "name": "stderr",
     "output_type": "stream",
     "text": [
      "'ls' is not recognized as an internal or external command,\n",
      "operable program or batch file.\n"
     ]
    }
   ],
   "source": [
    "!ls\n"
   ]
  },
  {
   "cell_type": "code",
   "execution_count": 2,
   "id": "0f8d528b",
   "metadata": {},
   "outputs": [
    {
     "data": {
      "text/plain": [
       "['In',\n",
       " 'Out',\n",
       " '_',\n",
       " '__',\n",
       " '___',\n",
       " '__builtin__',\n",
       " '__builtins__',\n",
       " '__doc__',\n",
       " '__loader__',\n",
       " '__name__',\n",
       " '__package__',\n",
       " '__spec__',\n",
       " '_dh',\n",
       " '_exit_code',\n",
       " '_i',\n",
       " '_i1',\n",
       " '_i2',\n",
       " '_ih',\n",
       " '_ii',\n",
       " '_iii',\n",
       " '_oh',\n",
       " 'exit',\n",
       " 'get_ipython',\n",
       " 'quit']"
      ]
     },
     "execution_count": 2,
     "metadata": {},
     "output_type": "execute_result"
    }
   ],
   "source": [
    "dir()"
   ]
  },
  {
   "cell_type": "code",
   "execution_count": 4,
   "id": "9b4e9b81",
   "metadata": {},
   "outputs": [
    {
     "data": {
      "text/plain": [
       "'C:\\\\Users\\\\soman\\\\KNAWLEDGE'"
      ]
     },
     "execution_count": 4,
     "metadata": {},
     "output_type": "execute_result"
    }
   ],
   "source": [
    "pwd() # present working directory in which this file is open!ls"
   ]
  },
  {
   "cell_type": "code",
   "execution_count": 5,
   "id": "5af10910",
   "metadata": {},
   "outputs": [],
   "source": [
    "f = open(\"test.txt\",\"w\")"
   ]
  },
  {
   "cell_type": "code",
   "execution_count": 6,
   "id": "6758e42f",
   "metadata": {},
   "outputs": [
    {
     "name": "stderr",
     "output_type": "stream",
     "text": [
      "'ls' is not recognized as an internal or external command,\n",
      "operable program or batch file.\n"
     ]
    }
   ],
   "source": [
    "!ls\n"
   ]
  },
  {
   "cell_type": "code",
   "execution_count": 7,
   "id": "75da7f02",
   "metadata": {},
   "outputs": [
    {
     "name": "stdout",
     "output_type": "stream",
     "text": [
      " Volume in drive C is OS\n",
      " Volume Serial Number is 92ED-0D26\n",
      "\n",
      " Directory of C:\\Users\\soman\\KNAWLEDGE\n",
      "\n",
      "11-01-2022  15:29    <DIR>          .\n",
      "11-01-2022  15:29    <DIR>          ..\n",
      "10-01-2022  14:51    <DIR>          .ipynb_checkpoints\n",
      "04-01-2022  18:29            15,964 Data Visualization.ipynb\n",
      "11-01-2022  15:29             2,138 File Operations 2022 9 jan.ipynb\n",
      "31-12-2021  15:44            29,365 Function in pyton  (1).ipynb\n",
      "08-01-2022  12:07             2,341 Functions 2022 8 Jan.ipynb\n",
      "07-01-2022  16:20         9,564,086 Functions Part 2.1.ipynb\n",
      "10-01-2022  14:45             8,484 Loggind&Debugging(Old).ipynb\n",
      "10-01-2022  14:38    <DIR>          logging\n",
      "06-11-2021  11:49            38,972 Matplotlib.ipynb\n",
      "14-11-2021  18:03            19,231 Pandas.ipynb\n",
      "30-12-2021  12:41            24,196 Python.ipynb\n",
      "23-12-2021  21:45            14,943 Seaborn 2.ipynb\n",
      "08-11-2021  11:12           460,445 Seaborn.ipynb\n",
      "09-01-2022  19:03               129 test.log\n",
      "11-01-2022  15:29                 0 test.txt\n",
      "07-01-2022  12:08                 0 test2.txt\n",
      "07-01-2022  12:12                16 test3.txt\n",
      "31-12-2021  16:29            12,268 Untitled.ipynb\n",
      "31-12-2021  16:29             5,558 Untitled1.ipynb\n",
      "07-01-2022  12:13             4,342 Untitled2.ipynb\n",
      "              18 File(s)     10,202,478 bytes\n",
      "               4 Dir(s)  51,363,479,552 bytes free\n"
     ]
    }
   ],
   "source": [
    "ls"
   ]
  },
  {
   "cell_type": "code",
   "execution_count": 8,
   "id": "c4654cc1",
   "metadata": {},
   "outputs": [],
   "source": [
    "f = open(\"abc.txt\",\"w\") # creates a txt file with the mode you specified or opens a file if preexisting\n",
    "# by default open has read 'r' mode, thus it only tries to read a file"
   ]
  },
  {
   "cell_type": "code",
   "execution_count": 9,
   "id": "f9bdf1e9",
   "metadata": {},
   "outputs": [
    {
     "name": "stdout",
     "output_type": "stream",
     "text": [
      " Volume in drive C is OS\n",
      " Volume Serial Number is 92ED-0D26\n",
      "\n",
      " Directory of C:\\Users\\soman\\KNAWLEDGE\n",
      "\n",
      "11-01-2022  15:30    <DIR>          .\n",
      "11-01-2022  15:30    <DIR>          ..\n",
      "10-01-2022  14:51    <DIR>          .ipynb_checkpoints\n",
      "11-01-2022  15:30                 0 abc.txt\n",
      "04-01-2022  18:29            15,964 Data Visualization.ipynb\n",
      "11-01-2022  15:29             2,138 File Operations 2022 9 jan.ipynb\n",
      "31-12-2021  15:44            29,365 Function in pyton  (1).ipynb\n",
      "08-01-2022  12:07             2,341 Functions 2022 8 Jan.ipynb\n",
      "07-01-2022  16:20         9,564,086 Functions Part 2.1.ipynb\n",
      "10-01-2022  14:45             8,484 Loggind&Debugging(Old).ipynb\n",
      "10-01-2022  14:38    <DIR>          logging\n",
      "06-11-2021  11:49            38,972 Matplotlib.ipynb\n",
      "14-11-2021  18:03            19,231 Pandas.ipynb\n",
      "30-12-2021  12:41            24,196 Python.ipynb\n",
      "23-12-2021  21:45            14,943 Seaborn 2.ipynb\n",
      "08-11-2021  11:12           460,445 Seaborn.ipynb\n",
      "09-01-2022  19:03               129 test.log\n",
      "11-01-2022  15:29                 0 test.txt\n",
      "07-01-2022  12:08                 0 test2.txt\n",
      "07-01-2022  12:12                16 test3.txt\n",
      "31-12-2021  16:29            12,268 Untitled.ipynb\n",
      "31-12-2021  16:29             5,558 Untitled1.ipynb\n",
      "07-01-2022  12:13             4,342 Untitled2.ipynb\n",
      "              19 File(s)     10,202,478 bytes\n",
      "               4 Dir(s)  51,367,542,784 bytes free\n"
     ]
    }
   ],
   "source": [
    "ls # lists all the files in the currect directory"
   ]
  },
  {
   "cell_type": "code",
   "execution_count": 10,
   "id": "e2113b5a",
   "metadata": {},
   "outputs": [
    {
     "name": "stderr",
     "output_type": "stream",
     "text": [
      "'ls' is not recognized as an internal or external command,\n",
      "operable program or batch file.\n"
     ]
    }
   ],
   "source": [
    "!ls\n"
   ]
  },
  {
   "cell_type": "code",
   "execution_count": 11,
   "id": "5fc78355",
   "metadata": {},
   "outputs": [
    {
     "name": "stdout",
     "output_type": "stream",
     "text": [
      " Volume in drive C is OS\n",
      " Volume Serial Number is 92ED-0D26\n",
      "\n",
      " Directory of C:\\Users\\soman\\KNAWLEDGE\n",
      "\n",
      "11-01-2022  15:33    <DIR>          .\n",
      "11-01-2022  15:33    <DIR>          ..\n",
      "10-01-2022  14:51    <DIR>          .ipynb_checkpoints\n",
      "11-01-2022  15:30                 0 abc.txt\n",
      "04-01-2022  18:29            15,964 Data Visualization.ipynb\n",
      "11-01-2022  15:33             7,126 File Operations 2022 9 jan.ipynb\n",
      "31-12-2021  15:44            29,365 Function in pyton  (1).ipynb\n",
      "08-01-2022  12:07             2,341 Functions 2022 8 Jan.ipynb\n",
      "07-01-2022  16:20         9,564,086 Functions Part 2.1.ipynb\n",
      "10-01-2022  14:45             8,484 Loggind&Debugging(Old).ipynb\n",
      "10-01-2022  14:38    <DIR>          logging\n",
      "06-11-2021  11:49            38,972 Matplotlib.ipynb\n",
      "14-11-2021  18:03            19,231 Pandas.ipynb\n",
      "30-12-2021  12:41            24,196 Python.ipynb\n",
      "23-12-2021  21:45            14,943 Seaborn 2.ipynb\n",
      "08-11-2021  11:12           460,445 Seaborn.ipynb\n",
      "09-01-2022  19:03               129 test.log\n",
      "11-01-2022  15:29                 0 test.txt\n",
      "07-01-2022  12:08                 0 test2.txt\n",
      "07-01-2022  12:12                16 test3.txt\n",
      "31-12-2021  16:29            12,268 Untitled.ipynb\n",
      "31-12-2021  16:29             5,558 Untitled1.ipynb\n",
      "07-01-2022  12:13             4,342 Untitled2.ipynb\n",
      "              19 File(s)     10,207,466 bytes\n",
      "               4 Dir(s)  51,365,986,304 bytes free\n"
     ]
    }
   ],
   "source": [
    "%ls\n"
   ]
  },
  {
   "cell_type": "code",
   "execution_count": 12,
   "id": "3eb0b79c",
   "metadata": {},
   "outputs": [
    {
     "data": {
      "text/plain": [
       "74"
      ]
     },
     "execution_count": 12,
     "metadata": {},
     "output_type": "execute_result"
    }
   ],
   "source": [
    "f.write(\"This is my first file operation that writes this statement in abc.txt file\")"
   ]
  },
  {
   "cell_type": "code",
   "execution_count": 13,
   "id": "331844b8",
   "metadata": {},
   "outputs": [],
   "source": [
    "f.close()"
   ]
  },
  {
   "cell_type": "code",
   "execution_count": 15,
   "id": "d072454d",
   "metadata": {},
   "outputs": [
    {
     "name": "stdout",
     "output_type": "stream",
     "text": [
      "Overwriting abc.txt\n"
     ]
    }
   ],
   "source": [
    "## this overwrites the data, and removes the previous data \n",
    "## it is better to use f.open()\n",
    "%%writefile abc.txt\n",
    ";askdjf;asj;fkjas;dfja;slkdjf;laskdjf"
   ]
  },
  {
   "cell_type": "code",
   "execution_count": 17,
   "id": "d3ddeb96",
   "metadata": {},
   "outputs": [],
   "source": [
    "f = open(\"abc.txt\",\"w\")"
   ]
  },
  {
   "cell_type": "code",
   "execution_count": 18,
   "id": "29fc09f3",
   "metadata": {},
   "outputs": [
    {
     "ename": "UnsupportedOperation",
     "evalue": "not readable",
     "output_type": "error",
     "traceback": [
      "\u001b[1;31m---------------------------------------------------------------------------\u001b[0m",
      "\u001b[1;31mUnsupportedOperation\u001b[0m                      Traceback (most recent call last)",
      "\u001b[1;32m<ipython-input-18-571e9fb02258>\u001b[0m in \u001b[0;36m<module>\u001b[1;34m\u001b[0m\n\u001b[1;32m----> 1\u001b[1;33m \u001b[0mf\u001b[0m\u001b[1;33m.\u001b[0m\u001b[0mread\u001b[0m\u001b[1;33m(\u001b[0m\u001b[1;33m)\u001b[0m\u001b[1;33m\u001b[0m\u001b[1;33m\u001b[0m\u001b[0m\n\u001b[0m",
      "\u001b[1;31mUnsupportedOperation\u001b[0m: not readable"
     ]
    }
   ],
   "source": [
    "# You cannot read in write 'w' mode\n",
    "f.read()"
   ]
  },
  {
   "cell_type": "code",
   "execution_count": 19,
   "id": "a1044dbd",
   "metadata": {},
   "outputs": [],
   "source": [
    "f = open(\"abc.txt\")"
   ]
  },
  {
   "cell_type": "code",
   "execution_count": 20,
   "id": "28528630",
   "metadata": {},
   "outputs": [
    {
     "data": {
      "text/plain": [
       "''"
      ]
     },
     "execution_count": 20,
     "metadata": {},
     "output_type": "execute_result"
    }
   ],
   "source": [
    "f.read()"
   ]
  },
  {
   "cell_type": "code",
   "execution_count": 21,
   "id": "a923897c",
   "metadata": {},
   "outputs": [],
   "source": [
    "f.close()"
   ]
  },
  {
   "cell_type": "code",
   "execution_count": 22,
   "id": "a3a79d45",
   "metadata": {},
   "outputs": [
    {
     "data": {
      "text/plain": [
       "\"This is my second time writing text in this file. For some reason, the file data was erased, so i'm writing something new\""
      ]
     },
     "execution_count": 22,
     "metadata": {},
     "output_type": "execute_result"
    }
   ],
   "source": [
    "f = open(\"abc.txt\",\"w\")\n",
    "f.write(\"This is my second time writing text in this file. For some reason, the file data was erased, so i'm writing something new\")\n",
    "f.close()\n",
    "f = open(\"abc.txt\",\"r\")\n",
    "f.read()"
   ]
  },
  {
   "cell_type": "code",
   "execution_count": 23,
   "id": "491179c2",
   "metadata": {},
   "outputs": [
    {
     "data": {
      "text/plain": [
       "''"
      ]
     },
     "execution_count": 23,
     "metadata": {},
     "output_type": "execute_result"
    }
   ],
   "source": [
    "# The cursor has reached the end of the file, that's why it can't read anything and outputs blank\n",
    "f.read()"
   ]
  },
  {
   "cell_type": "code",
   "execution_count": 24,
   "id": "308dfb19",
   "metadata": {},
   "outputs": [
    {
     "data": {
      "text/plain": [
       "5"
      ]
     },
     "execution_count": 24,
     "metadata": {},
     "output_type": "execute_result"
    }
   ],
   "source": [
    "f.seek(5)"
   ]
  },
  {
   "cell_type": "code",
   "execution_count": 25,
   "id": "54f00688",
   "metadata": {},
   "outputs": [
    {
     "data": {
      "text/plain": [
       "\"is my second time writing text in this file. For some reason, the file data was erased, so i'm writing something new\""
      ]
     },
     "execution_count": 25,
     "metadata": {},
     "output_type": "execute_result"
    }
   ],
   "source": [
    "f.read()"
   ]
  },
  {
   "cell_type": "code",
   "execution_count": 26,
   "id": "5e7d3ade",
   "metadata": {},
   "outputs": [
    {
     "data": {
      "text/plain": [
       "121"
      ]
     },
     "execution_count": 26,
     "metadata": {},
     "output_type": "execute_result"
    }
   ],
   "source": [
    "# tells the curson positipn\n",
    "f.tell()"
   ]
  },
  {
   "cell_type": "code",
   "execution_count": 27,
   "id": "311a921f",
   "metadata": {},
   "outputs": [
    {
     "data": {
      "text/plain": [
       "3"
      ]
     },
     "execution_count": 27,
     "metadata": {},
     "output_type": "execute_result"
    }
   ],
   "source": [
    "f.seek(3)\n",
    "f.tell()"
   ]
  },
  {
   "cell_type": "code",
   "execution_count": 28,
   "id": "a4cfb527",
   "metadata": {},
   "outputs": [
    {
     "name": "stdout",
     "output_type": "stream",
     "text": [
      " Volume in drive C is OS\n",
      " Volume Serial Number is 92ED-0D26\n",
      "\n",
      " Directory of C:\\Users\\soman\\KNAWLEDGE\n",
      "\n",
      "11-01-2022  17:17    <DIR>          .\n",
      "11-01-2022  17:17    <DIR>          ..\n",
      "10-01-2022  14:51    <DIR>          .ipynb_checkpoints\n",
      "11-01-2022  17:10               121 abc.txt\n",
      "04-01-2022  18:29            15,964 Data Visualization.ipynb\n",
      "11-01-2022  17:17            14,192 File Operations 2022 9 jan.ipynb\n",
      "31-12-2021  15:44            29,365 Function in pyton  (1).ipynb\n",
      "08-01-2022  12:07             2,341 Functions 2022 8 Jan.ipynb\n",
      "07-01-2022  16:20         9,564,086 Functions Part 2.1.ipynb\n",
      "10-01-2022  14:45             8,484 Loggind&Debugging(Old).ipynb\n",
      "10-01-2022  14:38    <DIR>          logging\n",
      "06-11-2021  11:49            38,972 Matplotlib.ipynb\n",
      "14-11-2021  18:03            19,231 Pandas.ipynb\n",
      "30-12-2021  12:41            24,196 Python.ipynb\n",
      "23-12-2021  21:45            14,943 Seaborn 2.ipynb\n",
      "08-11-2021  11:12           460,445 Seaborn.ipynb\n",
      "09-01-2022  19:03               129 test.log\n",
      "11-01-2022  15:29                 0 test.txt\n",
      "07-01-2022  12:08                 0 test2.txt\n",
      "07-01-2022  12:12                16 test3.txt\n",
      "31-12-2021  16:29            12,268 Untitled.ipynb\n",
      "31-12-2021  16:29             5,558 Untitled1.ipynb\n",
      "07-01-2022  12:13             4,342 Untitled2.ipynb\n",
      "              19 File(s)     10,214,653 bytes\n",
      "               4 Dir(s)  51,291,750,400 bytes free\n"
     ]
    }
   ],
   "source": [
    "ls"
   ]
  },
  {
   "cell_type": "code",
   "execution_count": 29,
   "id": "fb504c7c",
   "metadata": {},
   "outputs": [
    {
     "data": {
      "text/plain": [
       "647"
      ]
     },
     "execution_count": 29,
     "metadata": {},
     "output_type": "execute_result"
    }
   ],
   "source": [
    "f = open(\"google.txt\",\"w\")\n",
    "f.write(\"\"\"In January 2010, Google released Nexus One, the first Android phone under its own brand.[149] It spawned a number of phones and tablets under the \"Nexus\" branding[150] until its eventual discontinuation in 2016, replaced by a new brand called Pixel.[151]\n",
    "\n",
    "In 2011, the Chromebook was introduced, which runs on Chrome OS.[152]\n",
    "\n",
    "In July 2013, Google introduced the Chromecast dongle, which allows users to stream content from their smartphones to televisions.[153][154]\n",
    "\n",
    "In June 2014, Google announced Google Cardboard, a simple cardboard viewer that lets user place their smartphone in a special front compartment to view virtual reality (VR) media\"\"\")"
   ]
  },
  {
   "cell_type": "code",
   "execution_count": 32,
   "id": "abaf7d72",
   "metadata": {},
   "outputs": [
    {
     "data": {
      "text/plain": [
       "'In January 2010, Google released Nexus One, the first Android phone under its own brand.[149] It spawned a number of phones and tablets under the \"Nexus\" branding[150] until its eventual discontinuation in 2016, replaced by a new brand called Pixel.[151]\\n\\nIn 2011, the Chromebook was introduced, which runs on Chrome OS.[152]\\n\\nIn July 2013, Google introduced the Chromecast dongle, which allows users to stream content from their smartphones to televisions.[153][154]\\n\\nIn June 2014, Google announced Google Cardboard, a simple cardboard viewer that lets user place their smartphone in a special front compartment to view virtual reality (VR) media'"
      ]
     },
     "execution_count": 32,
     "metadata": {},
     "output_type": "execute_result"
    }
   ],
   "source": [
    "f = open(\"google.txt\",\"r\")\n",
    "f.read()"
   ]
  },
  {
   "cell_type": "code",
   "execution_count": 34,
   "id": "5d34d28b",
   "metadata": {},
   "outputs": [
    {
     "data": {
      "text/plain": [
       "'In January 2010, Google released Nexus One, the first Android phone under its own brand.[149] It spawned a number of phones and tablets under the \"Nexus\" branding[150] until its eventual discontinuation in 2016, replaced by a new brand called Pixel.[151]\\n'"
      ]
     },
     "execution_count": 34,
     "metadata": {},
     "output_type": "execute_result"
    }
   ],
   "source": [
    "f.seek(0)\n",
    "# Reads a line by '\\n'\n",
    "f.readline()"
   ]
  },
  {
   "cell_type": "code",
   "execution_count": 35,
   "id": "cfd4576e",
   "metadata": {},
   "outputs": [],
   "source": [
    "f.close()"
   ]
  },
  {
   "cell_type": "code",
   "execution_count": 37,
   "id": "fe2a4cfe",
   "metadata": {},
   "outputs": [],
   "source": [
    "# r+ -> read and write both\n",
    "f = open(\"google.txt\",\"r+\")"
   ]
  },
  {
   "cell_type": "code",
   "execution_count": 38,
   "id": "0c57e1d8",
   "metadata": {},
   "outputs": [
    {
     "data": {
      "text/plain": [
       "'In January 2010, Google released Nexus One, the first Android phone under its own brand.[149] It spawned a number of phones and tablets under the \"Nexus\" branding[150] until its eventual discontinuation in 2016, replaced by a new brand called Pixel.[151]\\n'"
      ]
     },
     "execution_count": 38,
     "metadata": {},
     "output_type": "execute_result"
    }
   ],
   "source": [
    "f.readline()"
   ]
  },
  {
   "cell_type": "code",
   "execution_count": 39,
   "id": "cdc578b8",
   "metadata": {},
   "outputs": [
    {
     "data": {
      "text/plain": [
       "'\\n'"
      ]
     },
     "execution_count": 39,
     "metadata": {},
     "output_type": "execute_result"
    }
   ],
   "source": [
    "f.readline()"
   ]
  },
  {
   "cell_type": "code",
   "execution_count": 40,
   "id": "1afa9549",
   "metadata": {},
   "outputs": [
    {
     "data": {
      "text/plain": [
       "'In 2011, the Chromebook was introduced, which runs on Chrome OS.[152]\\n'"
      ]
     },
     "execution_count": 40,
     "metadata": {},
     "output_type": "execute_result"
    }
   ],
   "source": [
    "f.readline()"
   ]
  },
  {
   "cell_type": "code",
   "execution_count": 41,
   "id": "84493ba5",
   "metadata": {},
   "outputs": [
    {
     "name": "stdout",
     "output_type": "stream",
     "text": [
      "In January 2010, Google released Nexus One, the first Android phone under its own brand.[149] It spawned a number of phones and tablets under the \"Nexus\" branding[150] until its eventual discontinuation in 2016, replaced by a new brand called Pixel.[151]\n",
      " \n",
      " In 2011, the Chromebook was introduced, which runs on Chrome OS.[152]\n",
      " \n",
      " In July 2013, Google introduced the Chromecast dongle, which allows users to stream content from their smartphones to televisions.[153][154]\n",
      " \n",
      " In June 2014, Google announced Google Cardboard, a simple cardboard viewer that lets user place their smartphone in a special front compartment to view virtual reality (VR) media "
     ]
    }
   ],
   "source": [
    "f.seek(0)\n",
    "for line in f:\n",
    "    print(line, end = \" \")"
   ]
  },
  {
   "cell_type": "code",
   "execution_count": 44,
   "id": "3ca43729",
   "metadata": {},
   "outputs": [
    {
     "data": {
      "text/plain": [
       "653"
      ]
     },
     "execution_count": 44,
     "metadata": {},
     "output_type": "execute_result"
    }
   ],
   "source": [
    "f.tell()"
   ]
  },
  {
   "cell_type": "code",
   "execution_count": 45,
   "id": "6da2337f",
   "metadata": {},
   "outputs": [
    {
     "data": {
      "text/plain": [
       "53"
      ]
     },
     "execution_count": 45,
     "metadata": {},
     "output_type": "execute_result"
    }
   ],
   "source": [
    "f.write(\"abcdefghijklmnopqrstuvwxyz asdkfjasdf ;sdjf;asoijoie \")"
   ]
  },
  {
   "cell_type": "code",
   "execution_count": 46,
   "id": "bfc8c5a4",
   "metadata": {},
   "outputs": [
    {
     "data": {
      "text/plain": [
       "25"
      ]
     },
     "execution_count": 46,
     "metadata": {},
     "output_type": "execute_result"
    }
   ],
   "source": [
    "f.seek(5)\n",
    "f.write(\" YEH MAINE MAZAK KAR DIYA\")"
   ]
  },
  {
   "cell_type": "code",
   "execution_count": 47,
   "id": "e4051a1a",
   "metadata": {},
   "outputs": [],
   "source": [
    "f.close()"
   ]
  },
  {
   "cell_type": "code",
   "execution_count": 48,
   "id": "510ed6f3",
   "metadata": {},
   "outputs": [
    {
     "data": {
      "text/plain": [
       "'In Ja YEH MAINE MAZAK KAR DIYAed Nexus One, the first Android phone under its own brand.[149] It spawned a number of phones and tablets under the \"Nexus\" branding[150] until its eventual discontinuation in 2016, replaced by a new brand called Pixel.[151]\\n'"
      ]
     },
     "execution_count": 48,
     "metadata": {},
     "output_type": "execute_result"
    }
   ],
   "source": [
    "# this replaced the next text with the old text, and not add new text in place\n",
    "f = open(\"google.txt\",\"r+\")\n",
    "f.readline()"
   ]
  },
  {
   "cell_type": "code",
   "execution_count": 50,
   "id": "c35faa01",
   "metadata": {},
   "outputs": [
    {
     "data": {
      "text/plain": [
       "['\\n',\n",
       " 'In 2011, the Chromebook was introduced, which runs on Chrome OS.[152]\\n',\n",
       " '\\n',\n",
       " 'In July 2013, Google introduced the Chromecast dongle, which allows users to stream content from their smartphones to televisions.[153][154]\\n',\n",
       " '\\n',\n",
       " 'In June 2014, Google announced Google Cardboard, a simple cardboard viewer that lets user place their smartphone in a special front compartment to view virtual reality (VR) mediaabcdefghijklmnopqrstuvwxyz asdkfjasdf ;sdjf;asoijoie ']"
      ]
     },
     "execution_count": 50,
     "metadata": {},
     "output_type": "execute_result"
    }
   ],
   "source": [
    "# f.readlines() returns a list with elemtns being each line in text\n",
    "f.readlines()"
   ]
  },
  {
   "cell_type": "code",
   "execution_count": 51,
   "id": "e7c3fe58",
   "metadata": {},
   "outputs": [
    {
     "data": {
      "text/plain": [
       "0"
      ]
     },
     "execution_count": 51,
     "metadata": {},
     "output_type": "execute_result"
    }
   ],
   "source": [
    "len(f.readlines())"
   ]
  },
  {
   "cell_type": "code",
   "execution_count": 52,
   "id": "9bc46b2e",
   "metadata": {},
   "outputs": [
    {
     "data": {
      "text/plain": [
       "7"
      ]
     },
     "execution_count": 52,
     "metadata": {},
     "output_type": "execute_result"
    }
   ],
   "source": [
    "f.seek(0)\n",
    "len(f.readlines())"
   ]
  },
  {
   "cell_type": "code",
   "execution_count": 53,
   "id": "4b38ef72",
   "metadata": {},
   "outputs": [
    {
     "data": {
      "text/plain": [
       "['In',\n",
       " 'Ja',\n",
       " 'YEH',\n",
       " 'MAINE',\n",
       " 'MAZAK',\n",
       " 'KAR',\n",
       " 'DIYAed',\n",
       " 'Nexus',\n",
       " 'One,',\n",
       " 'the',\n",
       " 'first',\n",
       " 'Android',\n",
       " 'phone',\n",
       " 'under',\n",
       " 'its',\n",
       " 'own',\n",
       " 'brand.[149]',\n",
       " 'It',\n",
       " 'spawned',\n",
       " 'a',\n",
       " 'number',\n",
       " 'of',\n",
       " 'phones',\n",
       " 'and',\n",
       " 'tablets',\n",
       " 'under',\n",
       " 'the',\n",
       " '\"Nexus\"',\n",
       " 'branding[150]',\n",
       " 'until',\n",
       " 'its',\n",
       " 'eventual',\n",
       " 'discontinuation',\n",
       " 'in',\n",
       " '2016,',\n",
       " 'replaced',\n",
       " 'by',\n",
       " 'a',\n",
       " 'new',\n",
       " 'brand',\n",
       " 'called',\n",
       " 'Pixel.[151]']"
      ]
     },
     "execution_count": 53,
     "metadata": {},
     "output_type": "execute_result"
    }
   ],
   "source": [
    "f.seek(0)\n",
    "l = f.readlines()\n",
    "l[0].split()"
   ]
  },
  {
   "cell_type": "code",
   "execution_count": 55,
   "id": "2ab84013",
   "metadata": {},
   "outputs": [
    {
     "data": {
      "text/plain": [
       "['I',\n",
       " 'J',\n",
       " 'Y',\n",
       " 'M',\n",
       " 'M',\n",
       " 'K',\n",
       " 'D',\n",
       " 'N',\n",
       " 'O',\n",
       " 't',\n",
       " 'f',\n",
       " 'A',\n",
       " 'p',\n",
       " 'u',\n",
       " 'i',\n",
       " 'o',\n",
       " 'b',\n",
       " 'I',\n",
       " 's',\n",
       " 'a',\n",
       " 'n',\n",
       " 'o',\n",
       " 'p',\n",
       " 'a',\n",
       " 't',\n",
       " 'u',\n",
       " 't',\n",
       " '\"',\n",
       " 'b',\n",
       " 'u',\n",
       " 'i',\n",
       " 'e',\n",
       " 'd',\n",
       " 'i',\n",
       " '2',\n",
       " 'r',\n",
       " 'b',\n",
       " 'a',\n",
       " 'n',\n",
       " 'b',\n",
       " 'c',\n",
       " 'P']"
      ]
     },
     "execution_count": 55,
     "metadata": {},
     "output_type": "execute_result"
    }
   ],
   "source": [
    "ListOfFirstChar = []\n",
    "l2 = l[0].split()\n",
    "for w in l2 : \n",
    "    ListOfFirstChar.append(w[0])\n",
    "ListOfFirstChar"
   ]
  },
  {
   "cell_type": "code",
   "execution_count": 56,
   "id": "9aad7128",
   "metadata": {},
   "outputs": [
    {
     "ename": "SyntaxError",
     "evalue": "invalid syntax (<ipython-input-56-331574c5686f>, line 1)",
     "output_type": "error",
     "traceback": [
      "\u001b[1;36m  File \u001b[1;32m\"<ipython-input-56-331574c5686f>\"\u001b[1;36m, line \u001b[1;32m1\u001b[0m\n\u001b[1;33m    r\tOnly for reading. The pointer is located at the start of file and it’s a default mode.\u001b[0m\n\u001b[1;37m     \t^\u001b[0m\n\u001b[1;31mSyntaxError\u001b[0m\u001b[1;31m:\u001b[0m invalid syntax\n"
     ]
    }
   ],
   "source": [
    "r\tOnly for reading. The pointer is located at the start of file and it’s a default mode.\n",
    "rb\tOnly for reading in a binary format. The pointer is located at the start of file and it’s a default mode.\n",
    "r+\tTo opens a file for the both writing and reading. The pointer is located at the start of file.\n",
    "rb+\tFor the both writing and reading operation in binary format. The pointer is located at the start of file.\n",
    "w\tOnly for writing. Check for existing file, if its present overwrites in the exists file. If there is no any existing file then, makes a novel file for the writing.\n",
    "wb\tOnly for writing in a binary format. Check for existing file, if its present overwrites in the exists file. If there is no any existing file then, makes a novel file for the writing.\n",
    "w+\tFor the both writing and reading operation. Check for existing file, if its present overwrites in the exists file. If there is no any existing file then, makes a novel file for the writing and reading.\n",
    "wb+\tFor the both writing and reading operation in binary format. Check for existing file, if its present overwrites in the exists file. If there is no any existing file then, makes a novel file for the writing and reading.\n",
    "a\topens the file for appending; any data written to the file is automatically added to the end. Check for existing file, if its present pointer is set at last of existing file for appending operation. If there is no any existing file then, makes a novel file for the writing."
   ]
  },
  {
   "cell_type": "code",
   "execution_count": 58,
   "id": "6b25e151",
   "metadata": {},
   "outputs": [
    {
     "data": {
      "text/plain": [
       "'google.txt'"
      ]
     },
     "execution_count": 58,
     "metadata": {},
     "output_type": "execute_result"
    }
   ],
   "source": [
    "f.name\n"
   ]
  },
  {
   "cell_type": "code",
   "execution_count": 60,
   "id": "5974126e",
   "metadata": {},
   "outputs": [],
   "source": [
    "ll = [\"this is line 1\",\" another line 2\", \"another line 3\", \"another line 4\"]"
   ]
  },
  {
   "cell_type": "code",
   "execution_count": 61,
   "id": "b0e437ca",
   "metadata": {},
   "outputs": [],
   "source": [
    "f.writelines(ll)"
   ]
  },
  {
   "cell_type": "code",
   "execution_count": 62,
   "id": "c7c3d536",
   "metadata": {},
   "outputs": [],
   "source": [
    "f.seek(0);"
   ]
  },
  {
   "cell_type": "code",
   "execution_count": 63,
   "id": "827027b7",
   "metadata": {},
   "outputs": [
    {
     "data": {
      "text/plain": [
       "'In Ja YEH MAINE MAZAK KAR DIYAed Nexus One, the first Android phone under its own brand.[149] It spawned a number of phones and tablets under the \"Nexus\" branding[150] until its eventual discontinuation in 2016, replaced by a new brand called Pixel.[151]\\n\\nIn 2011, the Chromebook was introduced, which runs on Chrome OS.[152]\\n\\nIn July 2013, Google introduced the Chromecast dongle, which allows users to stream content from their smartphones to televisions.[153][154]\\n\\nIn June 2014, Google announced Google Cardboard, a simple cardboard viewer that lets user place their smartphone in a special front compartment to view virtual reality (VR) mediaabcdefghijklmnopqrstuvwxyz asdkfjasdf ;sdjf;asoijoie this is line 1 another line 2another line 3another line 4'"
      ]
     },
     "execution_count": 63,
     "metadata": {},
     "output_type": "execute_result"
    }
   ],
   "source": [
    "f.read()"
   ]
  },
  {
   "cell_type": "code",
   "execution_count": 64,
   "id": "6ec9f603",
   "metadata": {},
   "outputs": [
    {
     "data": {
      "text/plain": [
       "4"
      ]
     },
     "execution_count": 64,
     "metadata": {},
     "output_type": "execute_result"
    }
   ],
   "source": [
    "f.fileno()"
   ]
  },
  {
   "cell_type": "code",
   "execution_count": 65,
   "id": "ae022f8f",
   "metadata": {},
   "outputs": [
    {
     "name": "stdout",
     "output_type": "stream",
     "text": [
      " Volume in drive C is OS\n",
      " Volume Serial Number is 92ED-0D26\n",
      "\n",
      " Directory of C:\\Users\\soman\\KNAWLEDGE\n",
      "\n",
      "11-01-2022  19:13    <DIR>          .\n",
      "11-01-2022  19:13    <DIR>          ..\n",
      "11-01-2022  19:04    <DIR>          .ipynb_checkpoints\n",
      "11-01-2022  17:10               121 abc.txt\n",
      "04-01-2022  18:29            15,964 Data Visualization.ipynb\n",
      "11-01-2022  19:13            32,112 File Operations 2022 9 jan.ipynb\n",
      "11-01-2022  19:01            14,657 file sysetm( 9 Jan resource).ipynb\n",
      "31-12-2021  15:44            29,365 Function in pyton  (1).ipynb\n",
      "08-01-2022  12:07             2,341 Functions 2022 8 Jan.ipynb\n",
      "07-01-2022  16:20         9,564,086 Functions Part 2.1.ipynb\n",
      "11-01-2022  18:01               706 google.txt\n",
      "11-01-2022  19:04        21,685,761 iterator generator( 9 jan Resource).ipynb\n",
      "10-01-2022  14:45             8,484 Loggind&Debugging(Old).ipynb\n",
      "10-01-2022  14:38    <DIR>          logging\n",
      "06-11-2021  11:49            38,972 Matplotlib.ipynb\n",
      "14-11-2021  18:03            19,231 Pandas.ipynb\n",
      "30-12-2021  12:41            24,196 Python.ipynb\n",
      "23-12-2021  21:45            14,943 Seaborn 2.ipynb\n",
      "08-11-2021  11:12           460,445 Seaborn.ipynb\n",
      "09-01-2022  19:03               129 test.log\n",
      "11-01-2022  15:29                 0 test.txt\n",
      "07-01-2022  12:08                 0 test2.txt\n",
      "07-01-2022  12:12                16 test3.txt\n",
      "31-12-2021  16:29            12,268 Untitled.ipynb\n",
      "31-12-2021  16:29             5,558 Untitled1.ipynb\n",
      "07-01-2022  12:13             4,342 Untitled2.ipynb\n",
      "              22 File(s)     31,933,697 bytes\n",
      "               4 Dir(s)  50,950,832,128 bytes free\n"
     ]
    }
   ],
   "source": [
    "ls\n"
   ]
  },
  {
   "cell_type": "code",
   "execution_count": 66,
   "id": "1d0b9183",
   "metadata": {},
   "outputs": [],
   "source": [
    "f.close()"
   ]
  },
  {
   "cell_type": "code",
   "execution_count": 70,
   "id": "c869dbff",
   "metadata": {},
   "outputs": [
    {
     "data": {
      "text/plain": [
       "'This is a file that will be deleted but not by file operation and by os operation'"
      ]
     },
     "execution_count": 70,
     "metadata": {},
     "output_type": "execute_result"
    }
   ],
   "source": [
    "f = open(\"DummyForDeletion.txt\",\"w\")\n",
    "f.write(\"This is a file that will be deleted but not by file operation and by os operation\")\n",
    "f.close()\n",
    "f = open(\"DummyForDeletion.txt\",\"r\")\n",
    "f.read()"
   ]
  },
  {
   "cell_type": "code",
   "execution_count": 73,
   "id": "ff190722",
   "metadata": {},
   "outputs": [],
   "source": [
    "f.close()"
   ]
  },
  {
   "cell_type": "code",
   "execution_count": 74,
   "id": "daea4f9a",
   "metadata": {},
   "outputs": [],
   "source": [
    "import os\n",
    "os.remove(\"DummyForDeletion.txt\")"
   ]
  },
  {
   "cell_type": "code",
   "execution_count": 1,
   "id": "3a975093",
   "metadata": {},
   "outputs": [
    {
     "ename": "NameError",
     "evalue": "name 'os' is not defined",
     "output_type": "error",
     "traceback": [
      "\u001b[1;31m---------------------------------------------------------------------------\u001b[0m",
      "\u001b[1;31mNameError\u001b[0m                                 Traceback (most recent call last)",
      "\u001b[1;32m<ipython-input-1-a78b1fb2bab9>\u001b[0m in \u001b[0;36m<module>\u001b[1;34m\u001b[0m\n\u001b[1;32m----> 1\u001b[1;33m \u001b[0mos\u001b[0m\u001b[1;33m.\u001b[0m\u001b[0mgetcwd\u001b[0m\u001b[1;33m(\u001b[0m\u001b[1;33m)\u001b[0m\u001b[1;33m\u001b[0m\u001b[1;33m\u001b[0m\u001b[0m\n\u001b[0m",
      "\u001b[1;31mNameError\u001b[0m: name 'os' is not defined"
     ]
    }
   ],
   "source": [
    "os.getcwd()"
   ]
  },
  {
   "cell_type": "code",
   "execution_count": null,
   "id": "0802b170",
   "metadata": {},
   "outputs": [],
   "source": []
  }
 ],
 "metadata": {
  "kernelspec": {
   "display_name": "Python 3 (ipykernel)",
   "language": "python",
   "name": "python3"
  },
  "language_info": {
   "codemirror_mode": {
    "name": "ipython",
    "version": 3
   },
   "file_extension": ".py",
   "mimetype": "text/x-python",
   "name": "python",
   "nbconvert_exporter": "python",
   "pygments_lexer": "ipython3",
   "version": "3.9.7"
  }
 },
 "nbformat": 4,
 "nbformat_minor": 5
}
