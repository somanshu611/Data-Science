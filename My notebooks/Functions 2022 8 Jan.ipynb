{
 "cells": [
  {
   "cell_type": "code",
   "execution_count": 1,
   "id": "72b4d7cc",
   "metadata": {},
   "outputs": [],
   "source": [
    "def som1(*args) :\n",
    "    ans = []\n",
    "    for x in args : \n",
    "        if type(x) == list :\n",
    "            ans.append(x)\n",
    "            \n",
    "    return ans\n",
    "            "
   ]
  },
  {
   "cell_type": "code",
   "execution_count": 2,
   "id": "7a72da29",
   "metadata": {},
   "outputs": [
    {
     "data": {
      "text/plain": [
       "[]"
      ]
     },
     "execution_count": 2,
     "metadata": {},
     "output_type": "execute_result"
    }
   ],
   "source": [
    "som1(\"aslkdjf\",23,1234,23423,689,(23,43,7889))"
   ]
  },
  {
   "cell_type": "code",
   "execution_count": null,
   "id": "a385e046",
   "metadata": {},
   "outputs": [],
   "source": [
    "## global and local variables, very imp, i didn't knew about this"
   ]
  },
  {
   "cell_type": "code",
   "execution_count": 3,
   "id": "6aeaab7a",
   "metadata": {},
   "outputs": [],
   "source": [
    "c=10\n",
    "def som2(c,d) :\n",
    "    c=5\n",
    "    return c*d"
   ]
  },
  {
   "cell_type": "code",
   "execution_count": 4,
   "id": "8d06d63d",
   "metadata": {},
   "outputs": [
    {
     "data": {
      "text/plain": [
       "250"
      ]
     },
     "execution_count": 4,
     "metadata": {},
     "output_type": "execute_result"
    }
   ],
   "source": [
    "som2(10,50)"
   ]
  },
  {
   "cell_type": "code",
   "execution_count": 5,
   "id": "8b46b3b5",
   "metadata": {},
   "outputs": [
    {
     "data": {
      "text/plain": [
       "10"
      ]
     },
     "execution_count": 5,
     "metadata": {},
     "output_type": "execute_result"
    }
   ],
   "source": [
    "c"
   ]
  },
  {
   "cell_type": "code",
   "execution_count": null,
   "id": "14571b8b",
   "metadata": {},
   "outputs": [],
   "source": []
  }
 ],
 "metadata": {
  "kernelspec": {
   "display_name": "Python 3",
   "language": "python",
   "name": "python3"
  },
  "language_info": {
   "codemirror_mode": {
    "name": "ipython",
    "version": 3
   },
   "file_extension": ".py",
   "mimetype": "text/x-python",
   "name": "python",
   "nbconvert_exporter": "python",
   "pygments_lexer": "ipython3",
   "version": "3.8.8"
  }
 },
 "nbformat": 4,
 "nbformat_minor": 5
}
