{
 "cells": [
  {
   "cell_type": "code",
   "execution_count": 1,
   "id": "7ef5a33e",
   "metadata": {},
   "outputs": [],
   "source": [
    "import pandas as pd"
   ]
  },
  {
   "cell_type": "code",
   "execution_count": 2,
   "id": "e5b7453f",
   "metadata": {},
   "outputs": [],
   "source": [
    "dict = {'col1' : [1,2,3,4,5],\n",
    "        'col2' : [42,32,43,25,64],\n",
    "        'col3' : ['sudhanshu','krish','blah','ineuron','DS'],\n",
    "        }"
   ]
  },
  {
   "cell_type": "code",
   "execution_count": 3,
   "id": "c1477b8c",
   "metadata": {},
   "outputs": [],
   "source": [
    "df = pd.DataFrame(dict )"
   ]
  },
  {
   "cell_type": "code",
   "execution_count": 4,
   "id": "84a03bf4",
   "metadata": {},
   "outputs": [
    {
     "data": {
      "text/html": [
       "<div>\n",
       "<style scoped>\n",
       "    .dataframe tbody tr th:only-of-type {\n",
       "        vertical-align: middle;\n",
       "    }\n",
       "\n",
       "    .dataframe tbody tr th {\n",
       "        vertical-align: top;\n",
       "    }\n",
       "\n",
       "    .dataframe thead th {\n",
       "        text-align: right;\n",
       "    }\n",
       "</style>\n",
       "<table border=\"1\" class=\"dataframe\">\n",
       "  <thead>\n",
       "    <tr style=\"text-align: right;\">\n",
       "      <th></th>\n",
       "      <th>col1</th>\n",
       "      <th>col2</th>\n",
       "      <th>col3</th>\n",
       "    </tr>\n",
       "  </thead>\n",
       "  <tbody>\n",
       "    <tr>\n",
       "      <th>0</th>\n",
       "      <td>1</td>\n",
       "      <td>42</td>\n",
       "      <td>sudhanshu</td>\n",
       "    </tr>\n",
       "    <tr>\n",
       "      <th>1</th>\n",
       "      <td>2</td>\n",
       "      <td>32</td>\n",
       "      <td>krish</td>\n",
       "    </tr>\n",
       "    <tr>\n",
       "      <th>2</th>\n",
       "      <td>3</td>\n",
       "      <td>43</td>\n",
       "      <td>blah</td>\n",
       "    </tr>\n",
       "    <tr>\n",
       "      <th>3</th>\n",
       "      <td>4</td>\n",
       "      <td>25</td>\n",
       "      <td>ineuron</td>\n",
       "    </tr>\n",
       "    <tr>\n",
       "      <th>4</th>\n",
       "      <td>5</td>\n",
       "      <td>64</td>\n",
       "      <td>DS</td>\n",
       "    </tr>\n",
       "  </tbody>\n",
       "</table>\n",
       "</div>"
      ],
      "text/plain": [
       "   col1  col2       col3\n",
       "0     1    42  sudhanshu\n",
       "1     2    32      krish\n",
       "2     3    43       blah\n",
       "3     4    25    ineuron\n",
       "4     5    64         DS"
      ]
     },
     "execution_count": 4,
     "metadata": {},
     "output_type": "execute_result"
    }
   ],
   "source": [
    "df"
   ]
  },
  {
   "cell_type": "code",
   "execution_count": 5,
   "id": "d53794dc",
   "metadata": {},
   "outputs": [],
   "source": [
    "df['col4'] = df['col1']**2"
   ]
  },
  {
   "cell_type": "code",
   "execution_count": 6,
   "id": "5d71349b",
   "metadata": {},
   "outputs": [
    {
     "data": {
      "text/html": [
       "<div>\n",
       "<style scoped>\n",
       "    .dataframe tbody tr th:only-of-type {\n",
       "        vertical-align: middle;\n",
       "    }\n",
       "\n",
       "    .dataframe tbody tr th {\n",
       "        vertical-align: top;\n",
       "    }\n",
       "\n",
       "    .dataframe thead th {\n",
       "        text-align: right;\n",
       "    }\n",
       "</style>\n",
       "<table border=\"1\" class=\"dataframe\">\n",
       "  <thead>\n",
       "    <tr style=\"text-align: right;\">\n",
       "      <th></th>\n",
       "      <th>col1</th>\n",
       "      <th>col2</th>\n",
       "      <th>col3</th>\n",
       "      <th>col4</th>\n",
       "    </tr>\n",
       "  </thead>\n",
       "  <tbody>\n",
       "    <tr>\n",
       "      <th>0</th>\n",
       "      <td>1</td>\n",
       "      <td>42</td>\n",
       "      <td>sudhanshu</td>\n",
       "      <td>1</td>\n",
       "    </tr>\n",
       "    <tr>\n",
       "      <th>1</th>\n",
       "      <td>2</td>\n",
       "      <td>32</td>\n",
       "      <td>krish</td>\n",
       "      <td>4</td>\n",
       "    </tr>\n",
       "    <tr>\n",
       "      <th>2</th>\n",
       "      <td>3</td>\n",
       "      <td>43</td>\n",
       "      <td>blah</td>\n",
       "      <td>9</td>\n",
       "    </tr>\n",
       "    <tr>\n",
       "      <th>3</th>\n",
       "      <td>4</td>\n",
       "      <td>25</td>\n",
       "      <td>ineuron</td>\n",
       "      <td>16</td>\n",
       "    </tr>\n",
       "    <tr>\n",
       "      <th>4</th>\n",
       "      <td>5</td>\n",
       "      <td>64</td>\n",
       "      <td>DS</td>\n",
       "      <td>25</td>\n",
       "    </tr>\n",
       "  </tbody>\n",
       "</table>\n",
       "</div>"
      ],
      "text/plain": [
       "   col1  col2       col3  col4\n",
       "0     1    42  sudhanshu     1\n",
       "1     2    32      krish     4\n",
       "2     3    43       blah     9\n",
       "3     4    25    ineuron    16\n",
       "4     5    64         DS    25"
      ]
     },
     "execution_count": 6,
     "metadata": {},
     "output_type": "execute_result"
    }
   ],
   "source": [
    "df"
   ]
  },
  {
   "cell_type": "code",
   "execution_count": 7,
   "id": "a44a1a47",
   "metadata": {},
   "outputs": [],
   "source": [
    "df['col5'] = df['col3'].str[0]"
   ]
  },
  {
   "cell_type": "code",
   "execution_count": 8,
   "id": "1b3f5c7e",
   "metadata": {},
   "outputs": [
    {
     "data": {
      "text/html": [
       "<div>\n",
       "<style scoped>\n",
       "    .dataframe tbody tr th:only-of-type {\n",
       "        vertical-align: middle;\n",
       "    }\n",
       "\n",
       "    .dataframe tbody tr th {\n",
       "        vertical-align: top;\n",
       "    }\n",
       "\n",
       "    .dataframe thead th {\n",
       "        text-align: right;\n",
       "    }\n",
       "</style>\n",
       "<table border=\"1\" class=\"dataframe\">\n",
       "  <thead>\n",
       "    <tr style=\"text-align: right;\">\n",
       "      <th></th>\n",
       "      <th>col1</th>\n",
       "      <th>col2</th>\n",
       "      <th>col3</th>\n",
       "      <th>col4</th>\n",
       "      <th>col5</th>\n",
       "    </tr>\n",
       "  </thead>\n",
       "  <tbody>\n",
       "    <tr>\n",
       "      <th>0</th>\n",
       "      <td>1</td>\n",
       "      <td>42</td>\n",
       "      <td>sudhanshu</td>\n",
       "      <td>1</td>\n",
       "      <td>s</td>\n",
       "    </tr>\n",
       "    <tr>\n",
       "      <th>1</th>\n",
       "      <td>2</td>\n",
       "      <td>32</td>\n",
       "      <td>krish</td>\n",
       "      <td>4</td>\n",
       "      <td>k</td>\n",
       "    </tr>\n",
       "    <tr>\n",
       "      <th>2</th>\n",
       "      <td>3</td>\n",
       "      <td>43</td>\n",
       "      <td>blah</td>\n",
       "      <td>9</td>\n",
       "      <td>b</td>\n",
       "    </tr>\n",
       "    <tr>\n",
       "      <th>3</th>\n",
       "      <td>4</td>\n",
       "      <td>25</td>\n",
       "      <td>ineuron</td>\n",
       "      <td>16</td>\n",
       "      <td>i</td>\n",
       "    </tr>\n",
       "    <tr>\n",
       "      <th>4</th>\n",
       "      <td>5</td>\n",
       "      <td>64</td>\n",
       "      <td>DS</td>\n",
       "      <td>25</td>\n",
       "      <td>D</td>\n",
       "    </tr>\n",
       "  </tbody>\n",
       "</table>\n",
       "</div>"
      ],
      "text/plain": [
       "   col1  col2       col3  col4 col5\n",
       "0     1    42  sudhanshu     1    s\n",
       "1     2    32      krish     4    k\n",
       "2     3    43       blah     9    b\n",
       "3     4    25    ineuron    16    i\n",
       "4     5    64         DS    25    D"
      ]
     },
     "execution_count": 8,
     "metadata": {},
     "output_type": "execute_result"
    }
   ],
   "source": [
    "df"
   ]
  },
  {
   "cell_type": "code",
   "execution_count": 9,
   "id": "266868cd",
   "metadata": {},
   "outputs": [],
   "source": [
    "def test(x) : \n",
    "    if 's' in x :  return 's'\n",
    "    else : return 'z'\n"
   ]
  },
  {
   "cell_type": "code",
   "execution_count": 10,
   "id": "62ac3520",
   "metadata": {},
   "outputs": [],
   "source": [
    "# this checks not for whole string as 's' but any one occurence of 's' in x\n",
    "def test1(x) : \n",
    "    if x=='s' :  return 's'\n",
    "    else : return 'z'"
   ]
  },
  {
   "cell_type": "code",
   "execution_count": 11,
   "id": "69738de0",
   "metadata": {},
   "outputs": [],
   "source": [
    "df['col3_3'] = df['col3'].apply(test)"
   ]
  },
  {
   "cell_type": "code",
   "execution_count": 12,
   "id": "36711559",
   "metadata": {},
   "outputs": [
    {
     "data": {
      "text/html": [
       "<div>\n",
       "<style scoped>\n",
       "    .dataframe tbody tr th:only-of-type {\n",
       "        vertical-align: middle;\n",
       "    }\n",
       "\n",
       "    .dataframe tbody tr th {\n",
       "        vertical-align: top;\n",
       "    }\n",
       "\n",
       "    .dataframe thead th {\n",
       "        text-align: right;\n",
       "    }\n",
       "</style>\n",
       "<table border=\"1\" class=\"dataframe\">\n",
       "  <thead>\n",
       "    <tr style=\"text-align: right;\">\n",
       "      <th></th>\n",
       "      <th>col1</th>\n",
       "      <th>col2</th>\n",
       "      <th>col3</th>\n",
       "      <th>col4</th>\n",
       "      <th>col5</th>\n",
       "      <th>col3_3</th>\n",
       "    </tr>\n",
       "  </thead>\n",
       "  <tbody>\n",
       "    <tr>\n",
       "      <th>0</th>\n",
       "      <td>1</td>\n",
       "      <td>42</td>\n",
       "      <td>sudhanshu</td>\n",
       "      <td>1</td>\n",
       "      <td>s</td>\n",
       "      <td>s</td>\n",
       "    </tr>\n",
       "    <tr>\n",
       "      <th>1</th>\n",
       "      <td>2</td>\n",
       "      <td>32</td>\n",
       "      <td>krish</td>\n",
       "      <td>4</td>\n",
       "      <td>k</td>\n",
       "      <td>s</td>\n",
       "    </tr>\n",
       "    <tr>\n",
       "      <th>2</th>\n",
       "      <td>3</td>\n",
       "      <td>43</td>\n",
       "      <td>blah</td>\n",
       "      <td>9</td>\n",
       "      <td>b</td>\n",
       "      <td>z</td>\n",
       "    </tr>\n",
       "    <tr>\n",
       "      <th>3</th>\n",
       "      <td>4</td>\n",
       "      <td>25</td>\n",
       "      <td>ineuron</td>\n",
       "      <td>16</td>\n",
       "      <td>i</td>\n",
       "      <td>z</td>\n",
       "    </tr>\n",
       "    <tr>\n",
       "      <th>4</th>\n",
       "      <td>5</td>\n",
       "      <td>64</td>\n",
       "      <td>DS</td>\n",
       "      <td>25</td>\n",
       "      <td>D</td>\n",
       "      <td>z</td>\n",
       "    </tr>\n",
       "  </tbody>\n",
       "</table>\n",
       "</div>"
      ],
      "text/plain": [
       "   col1  col2       col3  col4 col5 col3_3\n",
       "0     1    42  sudhanshu     1    s      s\n",
       "1     2    32      krish     4    k      s\n",
       "2     3    43       blah     9    b      z\n",
       "3     4    25    ineuron    16    i      z\n",
       "4     5    64         DS    25    D      z"
      ]
     },
     "execution_count": 12,
     "metadata": {},
     "output_type": "execute_result"
    }
   ],
   "source": [
    "df"
   ]
  },
  {
   "cell_type": "code",
   "execution_count": 13,
   "id": "c1aa998b",
   "metadata": {},
   "outputs": [],
   "source": [
    "df.drop('col3_3',inplace=True,axis=1)"
   ]
  },
  {
   "cell_type": "code",
   "execution_count": 14,
   "id": "28f0224f",
   "metadata": {},
   "outputs": [
    {
     "data": {
      "text/html": [
       "<div>\n",
       "<style scoped>\n",
       "    .dataframe tbody tr th:only-of-type {\n",
       "        vertical-align: middle;\n",
       "    }\n",
       "\n",
       "    .dataframe tbody tr th {\n",
       "        vertical-align: top;\n",
       "    }\n",
       "\n",
       "    .dataframe thead th {\n",
       "        text-align: right;\n",
       "    }\n",
       "</style>\n",
       "<table border=\"1\" class=\"dataframe\">\n",
       "  <thead>\n",
       "    <tr style=\"text-align: right;\">\n",
       "      <th></th>\n",
       "      <th>col1</th>\n",
       "      <th>col2</th>\n",
       "      <th>col3</th>\n",
       "      <th>col4</th>\n",
       "      <th>col5</th>\n",
       "    </tr>\n",
       "  </thead>\n",
       "  <tbody>\n",
       "    <tr>\n",
       "      <th>0</th>\n",
       "      <td>1</td>\n",
       "      <td>42</td>\n",
       "      <td>sudhanshu</td>\n",
       "      <td>1</td>\n",
       "      <td>s</td>\n",
       "    </tr>\n",
       "    <tr>\n",
       "      <th>1</th>\n",
       "      <td>2</td>\n",
       "      <td>32</td>\n",
       "      <td>krish</td>\n",
       "      <td>4</td>\n",
       "      <td>k</td>\n",
       "    </tr>\n",
       "    <tr>\n",
       "      <th>2</th>\n",
       "      <td>3</td>\n",
       "      <td>43</td>\n",
       "      <td>blah</td>\n",
       "      <td>9</td>\n",
       "      <td>b</td>\n",
       "    </tr>\n",
       "    <tr>\n",
       "      <th>3</th>\n",
       "      <td>4</td>\n",
       "      <td>25</td>\n",
       "      <td>ineuron</td>\n",
       "      <td>16</td>\n",
       "      <td>i</td>\n",
       "    </tr>\n",
       "    <tr>\n",
       "      <th>4</th>\n",
       "      <td>5</td>\n",
       "      <td>64</td>\n",
       "      <td>DS</td>\n",
       "      <td>25</td>\n",
       "      <td>D</td>\n",
       "    </tr>\n",
       "  </tbody>\n",
       "</table>\n",
       "</div>"
      ],
      "text/plain": [
       "   col1  col2       col3  col4 col5\n",
       "0     1    42  sudhanshu     1    s\n",
       "1     2    32      krish     4    k\n",
       "2     3    43       blah     9    b\n",
       "3     4    25    ineuron    16    i\n",
       "4     5    64         DS    25    D"
      ]
     },
     "execution_count": 14,
     "metadata": {},
     "output_type": "execute_result"
    }
   ],
   "source": [
    "df"
   ]
  },
  {
   "cell_type": "code",
   "execution_count": 15,
   "id": "d34f5766",
   "metadata": {},
   "outputs": [],
   "source": [
    "df['col6'] = df['col5'].apply(lambda x : 's' if x == 's' else 'z')"
   ]
  },
  {
   "cell_type": "code",
   "execution_count": 16,
   "id": "69ab2382",
   "metadata": {},
   "outputs": [
    {
     "data": {
      "text/html": [
       "<div>\n",
       "<style scoped>\n",
       "    .dataframe tbody tr th:only-of-type {\n",
       "        vertical-align: middle;\n",
       "    }\n",
       "\n",
       "    .dataframe tbody tr th {\n",
       "        vertical-align: top;\n",
       "    }\n",
       "\n",
       "    .dataframe thead th {\n",
       "        text-align: right;\n",
       "    }\n",
       "</style>\n",
       "<table border=\"1\" class=\"dataframe\">\n",
       "  <thead>\n",
       "    <tr style=\"text-align: right;\">\n",
       "      <th></th>\n",
       "      <th>col1</th>\n",
       "      <th>col2</th>\n",
       "      <th>col3</th>\n",
       "      <th>col4</th>\n",
       "      <th>col5</th>\n",
       "      <th>col6</th>\n",
       "    </tr>\n",
       "  </thead>\n",
       "  <tbody>\n",
       "    <tr>\n",
       "      <th>0</th>\n",
       "      <td>1</td>\n",
       "      <td>42</td>\n",
       "      <td>sudhanshu</td>\n",
       "      <td>1</td>\n",
       "      <td>s</td>\n",
       "      <td>s</td>\n",
       "    </tr>\n",
       "    <tr>\n",
       "      <th>1</th>\n",
       "      <td>2</td>\n",
       "      <td>32</td>\n",
       "      <td>krish</td>\n",
       "      <td>4</td>\n",
       "      <td>k</td>\n",
       "      <td>z</td>\n",
       "    </tr>\n",
       "    <tr>\n",
       "      <th>2</th>\n",
       "      <td>3</td>\n",
       "      <td>43</td>\n",
       "      <td>blah</td>\n",
       "      <td>9</td>\n",
       "      <td>b</td>\n",
       "      <td>z</td>\n",
       "    </tr>\n",
       "    <tr>\n",
       "      <th>3</th>\n",
       "      <td>4</td>\n",
       "      <td>25</td>\n",
       "      <td>ineuron</td>\n",
       "      <td>16</td>\n",
       "      <td>i</td>\n",
       "      <td>z</td>\n",
       "    </tr>\n",
       "    <tr>\n",
       "      <th>4</th>\n",
       "      <td>5</td>\n",
       "      <td>64</td>\n",
       "      <td>DS</td>\n",
       "      <td>25</td>\n",
       "      <td>D</td>\n",
       "      <td>z</td>\n",
       "    </tr>\n",
       "  </tbody>\n",
       "</table>\n",
       "</div>"
      ],
      "text/plain": [
       "   col1  col2       col3  col4 col5 col6\n",
       "0     1    42  sudhanshu     1    s    s\n",
       "1     2    32      krish     4    k    z\n",
       "2     3    43       blah     9    b    z\n",
       "3     4    25    ineuron    16    i    z\n",
       "4     5    64         DS    25    D    z"
      ]
     },
     "execution_count": 16,
     "metadata": {},
     "output_type": "execute_result"
    }
   ],
   "source": [
    "df"
   ]
  },
  {
   "cell_type": "code",
   "execution_count": 17,
   "id": "c949c7e8",
   "metadata": {},
   "outputs": [],
   "source": [
    "df.drop('col6',inplace=True,axis=1)"
   ]
  },
  {
   "cell_type": "code",
   "execution_count": 18,
   "id": "ea87f7da",
   "metadata": {},
   "outputs": [
    {
     "data": {
      "text/html": [
       "<div>\n",
       "<style scoped>\n",
       "    .dataframe tbody tr th:only-of-type {\n",
       "        vertical-align: middle;\n",
       "    }\n",
       "\n",
       "    .dataframe tbody tr th {\n",
       "        vertical-align: top;\n",
       "    }\n",
       "\n",
       "    .dataframe thead th {\n",
       "        text-align: right;\n",
       "    }\n",
       "</style>\n",
       "<table border=\"1\" class=\"dataframe\">\n",
       "  <thead>\n",
       "    <tr style=\"text-align: right;\">\n",
       "      <th></th>\n",
       "      <th>col1</th>\n",
       "      <th>col2</th>\n",
       "      <th>col3</th>\n",
       "      <th>col4</th>\n",
       "      <th>col5</th>\n",
       "    </tr>\n",
       "  </thead>\n",
       "  <tbody>\n",
       "    <tr>\n",
       "      <th>0</th>\n",
       "      <td>1</td>\n",
       "      <td>42</td>\n",
       "      <td>sudhanshu</td>\n",
       "      <td>1</td>\n",
       "      <td>s</td>\n",
       "    </tr>\n",
       "    <tr>\n",
       "      <th>1</th>\n",
       "      <td>2</td>\n",
       "      <td>32</td>\n",
       "      <td>krish</td>\n",
       "      <td>4</td>\n",
       "      <td>k</td>\n",
       "    </tr>\n",
       "    <tr>\n",
       "      <th>2</th>\n",
       "      <td>3</td>\n",
       "      <td>43</td>\n",
       "      <td>blah</td>\n",
       "      <td>9</td>\n",
       "      <td>b</td>\n",
       "    </tr>\n",
       "    <tr>\n",
       "      <th>3</th>\n",
       "      <td>4</td>\n",
       "      <td>25</td>\n",
       "      <td>ineuron</td>\n",
       "      <td>16</td>\n",
       "      <td>i</td>\n",
       "    </tr>\n",
       "    <tr>\n",
       "      <th>4</th>\n",
       "      <td>5</td>\n",
       "      <td>64</td>\n",
       "      <td>DS</td>\n",
       "      <td>25</td>\n",
       "      <td>D</td>\n",
       "    </tr>\n",
       "  </tbody>\n",
       "</table>\n",
       "</div>"
      ],
      "text/plain": [
       "   col1  col2       col3  col4 col5\n",
       "0     1    42  sudhanshu     1    s\n",
       "1     2    32      krish     4    k\n",
       "2     3    43       blah     9    b\n",
       "3     4    25    ineuron    16    i\n",
       "4     5    64         DS    25    D"
      ]
     },
     "execution_count": 18,
     "metadata": {},
     "output_type": "execute_result"
    }
   ],
   "source": [
    "df"
   ]
  },
  {
   "cell_type": "code",
   "execution_count": 19,
   "id": "d7162483",
   "metadata": {},
   "outputs": [],
   "source": [
    "df['col7'] = df['col3'].apply(len)"
   ]
  },
  {
   "cell_type": "code",
   "execution_count": 20,
   "id": "c404d952",
   "metadata": {},
   "outputs": [
    {
     "data": {
      "text/html": [
       "<div>\n",
       "<style scoped>\n",
       "    .dataframe tbody tr th:only-of-type {\n",
       "        vertical-align: middle;\n",
       "    }\n",
       "\n",
       "    .dataframe tbody tr th {\n",
       "        vertical-align: top;\n",
       "    }\n",
       "\n",
       "    .dataframe thead th {\n",
       "        text-align: right;\n",
       "    }\n",
       "</style>\n",
       "<table border=\"1\" class=\"dataframe\">\n",
       "  <thead>\n",
       "    <tr style=\"text-align: right;\">\n",
       "      <th></th>\n",
       "      <th>col1</th>\n",
       "      <th>col2</th>\n",
       "      <th>col3</th>\n",
       "      <th>col4</th>\n",
       "      <th>col5</th>\n",
       "      <th>col7</th>\n",
       "    </tr>\n",
       "  </thead>\n",
       "  <tbody>\n",
       "    <tr>\n",
       "      <th>0</th>\n",
       "      <td>1</td>\n",
       "      <td>42</td>\n",
       "      <td>sudhanshu</td>\n",
       "      <td>1</td>\n",
       "      <td>s</td>\n",
       "      <td>9</td>\n",
       "    </tr>\n",
       "    <tr>\n",
       "      <th>1</th>\n",
       "      <td>2</td>\n",
       "      <td>32</td>\n",
       "      <td>krish</td>\n",
       "      <td>4</td>\n",
       "      <td>k</td>\n",
       "      <td>5</td>\n",
       "    </tr>\n",
       "    <tr>\n",
       "      <th>2</th>\n",
       "      <td>3</td>\n",
       "      <td>43</td>\n",
       "      <td>blah</td>\n",
       "      <td>9</td>\n",
       "      <td>b</td>\n",
       "      <td>4</td>\n",
       "    </tr>\n",
       "    <tr>\n",
       "      <th>3</th>\n",
       "      <td>4</td>\n",
       "      <td>25</td>\n",
       "      <td>ineuron</td>\n",
       "      <td>16</td>\n",
       "      <td>i</td>\n",
       "      <td>7</td>\n",
       "    </tr>\n",
       "    <tr>\n",
       "      <th>4</th>\n",
       "      <td>5</td>\n",
       "      <td>64</td>\n",
       "      <td>DS</td>\n",
       "      <td>25</td>\n",
       "      <td>D</td>\n",
       "      <td>2</td>\n",
       "    </tr>\n",
       "  </tbody>\n",
       "</table>\n",
       "</div>"
      ],
      "text/plain": [
       "   col1  col2       col3  col4 col5  col7\n",
       "0     1    42  sudhanshu     1    s     9\n",
       "1     2    32      krish     4    k     5\n",
       "2     3    43       blah     9    b     4\n",
       "3     4    25    ineuron    16    i     7\n",
       "4     5    64         DS    25    D     2"
      ]
     },
     "execution_count": 20,
     "metadata": {},
     "output_type": "execute_result"
    }
   ],
   "source": [
    "df"
   ]
  },
  {
   "cell_type": "code",
   "execution_count": 21,
   "id": "c464edfa",
   "metadata": {},
   "outputs": [],
   "source": [
    "import math\n",
    "df['col8'] = df['col2'].apply(math.log)"
   ]
  },
  {
   "cell_type": "code",
   "execution_count": 22,
   "id": "2572f5b0",
   "metadata": {},
   "outputs": [
    {
     "data": {
      "text/html": [
       "<div>\n",
       "<style scoped>\n",
       "    .dataframe tbody tr th:only-of-type {\n",
       "        vertical-align: middle;\n",
       "    }\n",
       "\n",
       "    .dataframe tbody tr th {\n",
       "        vertical-align: top;\n",
       "    }\n",
       "\n",
       "    .dataframe thead th {\n",
       "        text-align: right;\n",
       "    }\n",
       "</style>\n",
       "<table border=\"1\" class=\"dataframe\">\n",
       "  <thead>\n",
       "    <tr style=\"text-align: right;\">\n",
       "      <th></th>\n",
       "      <th>col1</th>\n",
       "      <th>col2</th>\n",
       "      <th>col3</th>\n",
       "      <th>col4</th>\n",
       "      <th>col5</th>\n",
       "      <th>col7</th>\n",
       "      <th>col8</th>\n",
       "    </tr>\n",
       "  </thead>\n",
       "  <tbody>\n",
       "    <tr>\n",
       "      <th>0</th>\n",
       "      <td>1</td>\n",
       "      <td>42</td>\n",
       "      <td>sudhanshu</td>\n",
       "      <td>1</td>\n",
       "      <td>s</td>\n",
       "      <td>9</td>\n",
       "      <td>3.737670</td>\n",
       "    </tr>\n",
       "    <tr>\n",
       "      <th>1</th>\n",
       "      <td>2</td>\n",
       "      <td>32</td>\n",
       "      <td>krish</td>\n",
       "      <td>4</td>\n",
       "      <td>k</td>\n",
       "      <td>5</td>\n",
       "      <td>3.465736</td>\n",
       "    </tr>\n",
       "    <tr>\n",
       "      <th>2</th>\n",
       "      <td>3</td>\n",
       "      <td>43</td>\n",
       "      <td>blah</td>\n",
       "      <td>9</td>\n",
       "      <td>b</td>\n",
       "      <td>4</td>\n",
       "      <td>3.761200</td>\n",
       "    </tr>\n",
       "    <tr>\n",
       "      <th>3</th>\n",
       "      <td>4</td>\n",
       "      <td>25</td>\n",
       "      <td>ineuron</td>\n",
       "      <td>16</td>\n",
       "      <td>i</td>\n",
       "      <td>7</td>\n",
       "      <td>3.218876</td>\n",
       "    </tr>\n",
       "    <tr>\n",
       "      <th>4</th>\n",
       "      <td>5</td>\n",
       "      <td>64</td>\n",
       "      <td>DS</td>\n",
       "      <td>25</td>\n",
       "      <td>D</td>\n",
       "      <td>2</td>\n",
       "      <td>4.158883</td>\n",
       "    </tr>\n",
       "  </tbody>\n",
       "</table>\n",
       "</div>"
      ],
      "text/plain": [
       "   col1  col2       col3  col4 col5  col7      col8\n",
       "0     1    42  sudhanshu     1    s     9  3.737670\n",
       "1     2    32      krish     4    k     5  3.465736\n",
       "2     3    43       blah     9    b     4  3.761200\n",
       "3     4    25    ineuron    16    i     7  3.218876\n",
       "4     5    64         DS    25    D     2  4.158883"
      ]
     },
     "execution_count": 22,
     "metadata": {},
     "output_type": "execute_result"
    }
   ],
   "source": [
    "df"
   ]
  },
  {
   "cell_type": "code",
   "execution_count": 23,
   "id": "3f4a63b5",
   "metadata": {},
   "outputs": [],
   "source": [
    "import numpy as np"
   ]
  },
  {
   "cell_type": "code",
   "execution_count": 24,
   "id": "4ec5dbc6",
   "metadata": {},
   "outputs": [],
   "source": [
    "l = ['som',1,3,4,5]"
   ]
  },
  {
   "cell_type": "code",
   "execution_count": 25,
   "id": "a6a163af",
   "metadata": {},
   "outputs": [
    {
     "data": {
      "text/plain": [
       "array(['som', '1', '3', '4', '5'], dtype='<U11')"
      ]
     },
     "execution_count": 25,
     "metadata": {},
     "output_type": "execute_result"
    }
   ],
   "source": [
    "np.array(l)"
   ]
  },
  {
   "cell_type": "code",
   "execution_count": 26,
   "id": "0f6bcd68",
   "metadata": {},
   "outputs": [
    {
     "data": {
      "text/plain": [
       "numpy.ndarray"
      ]
     },
     "execution_count": 26,
     "metadata": {},
     "output_type": "execute_result"
    }
   ],
   "source": [
    "type(np.array(l))"
   ]
  },
  {
   "cell_type": "code",
   "execution_count": 27,
   "id": "715c3b61",
   "metadata": {},
   "outputs": [
    {
     "data": {
      "text/plain": [
       "array([3., 4., 5., 2.])"
      ]
     },
     "execution_count": 27,
     "metadata": {},
     "output_type": "execute_result"
    }
   ],
   "source": [
    "# upcasting \n",
    "np.array([3,4,5,2.0])"
   ]
  },
  {
   "cell_type": "code",
   "execution_count": 28,
   "id": "761c56fb",
   "metadata": {},
   "outputs": [],
   "source": [
    "a = np.array([[2,4],[3,6]])"
   ]
  },
  {
   "cell_type": "code",
   "execution_count": 29,
   "id": "f370e71a",
   "metadata": {},
   "outputs": [
    {
     "data": {
      "text/plain": [
       "array([[2, 4],\n",
       "       [3, 6]])"
      ]
     },
     "execution_count": 29,
     "metadata": {},
     "output_type": "execute_result"
    }
   ],
   "source": [
    "a"
   ]
  },
  {
   "cell_type": "code",
   "execution_count": 30,
   "id": "a99abbe4",
   "metadata": {},
   "outputs": [
    {
     "data": {
      "text/plain": [
       "array([3, 6])"
      ]
     },
     "execution_count": 30,
     "metadata": {},
     "output_type": "execute_result"
    }
   ],
   "source": [
    "a[1]"
   ]
  },
  {
   "cell_type": "code",
   "execution_count": 31,
   "id": "f4f7a273",
   "metadata": {},
   "outputs": [
    {
     "data": {
      "text/plain": [
       "6"
      ]
     },
     "execution_count": 31,
     "metadata": {},
     "output_type": "execute_result"
    }
   ],
   "source": [
    "a[1][1]"
   ]
  },
  {
   "cell_type": "code",
   "execution_count": 32,
   "id": "5001259d",
   "metadata": {},
   "outputs": [],
   "source": [
    "a2 = np.array([1,2,3,4],ndmin=4)"
   ]
  },
  {
   "cell_type": "code",
   "execution_count": 33,
   "id": "aeae1c2a",
   "metadata": {},
   "outputs": [
    {
     "data": {
      "text/plain": [
       "array([[[[1, 2, 3, 4]]]])"
      ]
     },
     "execution_count": 33,
     "metadata": {},
     "output_type": "execute_result"
    }
   ],
   "source": [
    "a2"
   ]
  },
  {
   "cell_type": "code",
   "execution_count": 34,
   "id": "427f17e6",
   "metadata": {},
   "outputs": [
    {
     "data": {
      "text/plain": [
       "1"
      ]
     },
     "execution_count": 34,
     "metadata": {},
     "output_type": "execute_result"
    }
   ],
   "source": [
    "a2[0][0][0][0]"
   ]
  },
  {
   "cell_type": "code",
   "execution_count": 35,
   "id": "d6468503",
   "metadata": {},
   "outputs": [
    {
     "data": {
      "text/plain": [
       "array([1, 2, 3, 4, 5])"
      ]
     },
     "execution_count": 35,
     "metadata": {},
     "output_type": "execute_result"
    }
   ],
   "source": [
    "np.asarray([1,2,3,4,5])"
   ]
  },
  {
   "cell_type": "code",
   "execution_count": 36,
   "id": "a8c7197e",
   "metadata": {},
   "outputs": [
    {
     "data": {
      "text/plain": [
       "array([1, 2, 3, 4, 5])"
      ]
     },
     "execution_count": 36,
     "metadata": {},
     "output_type": "execute_result"
    }
   ],
   "source": [
    "np.asanyarray([1,2,3,4,5])"
   ]
  },
  {
   "cell_type": "code",
   "execution_count": 37,
   "id": "8a9e2687",
   "metadata": {},
   "outputs": [
    {
     "data": {
      "text/plain": [
       "matrix([[1, 2, 3, 4, 5]])"
      ]
     },
     "execution_count": 37,
     "metadata": {},
     "output_type": "execute_result"
    }
   ],
   "source": [
    "np.mat([1,2,3,4,5])"
   ]
  },
  {
   "cell_type": "code",
   "execution_count": 38,
   "id": "54e154a0",
   "metadata": {},
   "outputs": [],
   "source": [
    "a3 = np.mat([1,2,3,4,5])"
   ]
  },
  {
   "cell_type": "code",
   "execution_count": 39,
   "id": "eaf5d32c",
   "metadata": {},
   "outputs": [
    {
     "data": {
      "text/plain": [
       "array([[1, 2, 3, 4, 5]])"
      ]
     },
     "execution_count": 39,
     "metadata": {},
     "output_type": "execute_result"
    }
   ],
   "source": [
    "# converted matrix to array\n",
    "np.asarray(a3)"
   ]
  },
  {
   "cell_type": "code",
   "execution_count": 40,
   "id": "5989a04c",
   "metadata": {},
   "outputs": [
    {
     "data": {
      "text/plain": [
       "matrix([[1, 2, 3, 4, 5]])"
      ]
     },
     "execution_count": 40,
     "metadata": {},
     "output_type": "execute_result"
    }
   ],
   "source": [
    "# did not convert matrix to array\n",
    "np.asanyarray(a3)"
   ]
  },
  {
   "cell_type": "code",
   "execution_count": 41,
   "id": "32d981b5",
   "metadata": {},
   "outputs": [
    {
     "data": {
      "text/plain": [
       "array([[False, False, False],\n",
       "       [False, False, False],\n",
       "       [ True,  True,  True]])"
      ]
     },
     "execution_count": 41,
     "metadata": {},
     "output_type": "execute_result"
    }
   ],
   "source": [
    "np.fromfunction(lambda i,j: ((i+1)%3)==0 , (3,3) )\n",
    "# this shows that row wise iterations are done on a column then on another column and so on."
   ]
  },
  {
   "cell_type": "code",
   "execution_count": 42,
   "id": "982ebf9f",
   "metadata": {},
   "outputs": [
    {
     "data": {
      "text/plain": [
       "array([[0., 0., 0., 0.],\n",
       "       [0., 1., 2., 3.],\n",
       "       [0., 2., 4., 6.],\n",
       "       [0., 3., 6., 9.]])"
      ]
     },
     "execution_count": 42,
     "metadata": {},
     "output_type": "execute_result"
    }
   ],
   "source": [
    "np.fromfunction(lambda i,j: i*j , (4,4) )"
   ]
  },
  {
   "cell_type": "code",
   "execution_count": 43,
   "id": "04e5b514",
   "metadata": {},
   "outputs": [
    {
     "data": {
      "text/plain": [
       "array([[0, 0, 0, 0],\n",
       "       [0, 1, 2, 3],\n",
       "       [0, 2, 4, 6],\n",
       "       [0, 3, 6, 9]])"
      ]
     },
     "execution_count": 43,
     "metadata": {},
     "output_type": "execute_result"
    }
   ],
   "source": [
    "# by default it gives floating point number, however, you can define dtype on your own.\n",
    "np.fromfunction(lambda i,j: i*j , (4,4),dtype = int )"
   ]
  },
  {
   "cell_type": "code",
   "execution_count": 44,
   "id": "c36ece20",
   "metadata": {},
   "outputs": [
    {
     "data": {
      "text/plain": [
       "array([[[0],\n",
       "        [0],\n",
       "        [0]],\n",
       "\n",
       "       [[0],\n",
       "        [0],\n",
       "        [0]],\n",
       "\n",
       "       [[0],\n",
       "        [0],\n",
       "        [0]]])"
      ]
     },
     "execution_count": 44,
     "metadata": {},
     "output_type": "execute_result"
    }
   ],
   "source": [
    "np.fromfunction(lambda i,j,z: i*j*z , (3,3,1),dtype = int )\n",
    "# (3,3,1) -> 3 arrays of 3 X 1(3 rows, 1 column)"
   ]
  },
  {
   "cell_type": "code",
   "execution_count": 45,
   "id": "98643182",
   "metadata": {},
   "outputs": [
    {
     "data": {
      "text/plain": [
       "array([[[0, 0, 0],\n",
       "        [0, 0, 0],\n",
       "        [0, 0, 0]],\n",
       "\n",
       "       [[1, 1, 1],\n",
       "        [1, 1, 1],\n",
       "        [1, 1, 1]],\n",
       "\n",
       "       [[2, 2, 2],\n",
       "        [2, 2, 2],\n",
       "        [2, 2, 2]]])"
      ]
     },
     "execution_count": 45,
     "metadata": {},
     "output_type": "execute_result"
    }
   ],
   "source": [
    "# only 'i' in array elements\n",
    "np.fromfunction(lambda i,j,z: i , (3,3,3),dtype = int )"
   ]
  },
  {
   "cell_type": "code",
   "execution_count": 46,
   "id": "fd835fb3",
   "metadata": {},
   "outputs": [
    {
     "data": {
      "text/plain": [
       "array([[[0, 0, 0],\n",
       "        [1, 1, 1],\n",
       "        [2, 2, 2]],\n",
       "\n",
       "       [[0, 0, 0],\n",
       "        [1, 1, 1],\n",
       "        [2, 2, 2]],\n",
       "\n",
       "       [[0, 0, 0],\n",
       "        [1, 1, 1],\n",
       "        [2, 2, 2]]])"
      ]
     },
     "execution_count": 46,
     "metadata": {},
     "output_type": "execute_result"
    }
   ],
   "source": [
    "# only j in array elements \n",
    "np.fromfunction(lambda i,j,z: j, (3,3,3),dtype = int )"
   ]
  },
  {
   "cell_type": "code",
   "execution_count": 47,
   "id": "8e34e50a",
   "metadata": {},
   "outputs": [],
   "source": [
    "# (3,3,2)\n",
    "# (depth,rows,columns)"
   ]
  },
  {
   "cell_type": "code",
   "execution_count": 48,
   "id": "c0219dbe",
   "metadata": {},
   "outputs": [
    {
     "data": {
      "text/plain": [
       "array([[[[0, 0],\n",
       "         [0, 0]],\n",
       "\n",
       "        [[0, 0],\n",
       "         [0, 0]],\n",
       "\n",
       "        [[0, 0],\n",
       "         [0, 0]]],\n",
       "\n",
       "\n",
       "       [[[0, 0],\n",
       "         [0, 0]],\n",
       "\n",
       "        [[0, 0],\n",
       "         [0, 1]],\n",
       "\n",
       "        [[0, 0],\n",
       "         [0, 2]]],\n",
       "\n",
       "\n",
       "       [[[0, 0],\n",
       "         [0, 0]],\n",
       "\n",
       "        [[0, 0],\n",
       "         [0, 2]],\n",
       "\n",
       "        [[0, 0],\n",
       "         [0, 4]]],\n",
       "\n",
       "\n",
       "       [[[0, 0],\n",
       "         [0, 0]],\n",
       "\n",
       "        [[0, 0],\n",
       "         [0, 3]],\n",
       "\n",
       "        [[0, 0],\n",
       "         [0, 6]]]])"
      ]
     },
     "execution_count": 48,
     "metadata": {},
     "output_type": "execute_result"
    }
   ],
   "source": [
    "# You can't visualize this\n",
    "# but, always read from back\n",
    "# Here, there is a bundle of 3 arrays of 2 X 2 arrays \n",
    "# and there are 4 such bundles\n",
    "np.fromfunction(lambda i,j,z,p : i*j*z*p,(4,3,2,2),dtype=int)"
   ]
  },
  {
   "cell_type": "code",
   "execution_count": 49,
   "id": "62ced9f0",
   "metadata": {},
   "outputs": [],
   "source": [
    "a = np.fromfunction(lambda i,j,z : i*j*z,(4,3,2),dtype=int)"
   ]
  },
  {
   "cell_type": "code",
   "execution_count": 50,
   "id": "293ec282",
   "metadata": {},
   "outputs": [
    {
     "data": {
      "text/plain": [
       "3"
      ]
     },
     "execution_count": 50,
     "metadata": {},
     "output_type": "execute_result"
    }
   ],
   "source": [
    "a.ndim"
   ]
  },
  {
   "cell_type": "code",
   "execution_count": 51,
   "id": "bd8e6248",
   "metadata": {},
   "outputs": [
    {
     "data": {
      "text/plain": [
       "24"
      ]
     },
     "execution_count": 51,
     "metadata": {},
     "output_type": "execute_result"
    }
   ],
   "source": [
    "a.size"
   ]
  },
  {
   "cell_type": "code",
   "execution_count": 52,
   "id": "58ee337c",
   "metadata": {},
   "outputs": [
    {
     "data": {
      "text/plain": [
       "(4, 3, 2)"
      ]
     },
     "execution_count": 52,
     "metadata": {},
     "output_type": "execute_result"
    }
   ],
   "source": [
    "a.shape"
   ]
  },
  {
   "cell_type": "code",
   "execution_count": 53,
   "id": "1a7cde7c",
   "metadata": {},
   "outputs": [
    {
     "data": {
      "text/plain": [
       "dtype('int32')"
      ]
     },
     "execution_count": 53,
     "metadata": {},
     "output_type": "execute_result"
    }
   ],
   "source": [
    "a.dtype"
   ]
  },
  {
   "cell_type": "code",
   "execution_count": 54,
   "id": "c9d780df",
   "metadata": {},
   "outputs": [
    {
     "ename": "ValueError",
     "evalue": "Must pass 2-d input. shape=(4, 3, 2)",
     "output_type": "error",
     "traceback": [
      "\u001b[1;31m---------------------------------------------------------------------------\u001b[0m",
      "\u001b[1;31mValueError\u001b[0m                                Traceback (most recent call last)",
      "\u001b[1;32m~\\AppData\\Local\\Temp/ipykernel_19232/3912987922.py\u001b[0m in \u001b[0;36m<module>\u001b[1;34m\u001b[0m\n\u001b[0;32m      1\u001b[0m \u001b[1;31m# will give error because you can't create df from 3d data, you will have to either do flattening or provide 2d input.\u001b[0m\u001b[1;33m\u001b[0m\u001b[1;33m\u001b[0m\u001b[0m\n\u001b[1;32m----> 2\u001b[1;33m \u001b[0mpd\u001b[0m\u001b[1;33m.\u001b[0m\u001b[0mDataFrame\u001b[0m\u001b[1;33m(\u001b[0m\u001b[0ma\u001b[0m\u001b[1;33m)\u001b[0m\u001b[1;33m\u001b[0m\u001b[1;33m\u001b[0m\u001b[0m\n\u001b[0m",
      "\u001b[1;32m~\\CODE_STUFF\\Anaconda3\\lib\\site-packages\\pandas\\core\\frame.py\u001b[0m in \u001b[0;36m__init__\u001b[1;34m(self, data, index, columns, dtype, copy)\u001b[0m\n\u001b[0;32m    670\u001b[0m                 )\n\u001b[0;32m    671\u001b[0m             \u001b[1;32melse\u001b[0m\u001b[1;33m:\u001b[0m\u001b[1;33m\u001b[0m\u001b[1;33m\u001b[0m\u001b[0m\n\u001b[1;32m--> 672\u001b[1;33m                 mgr = ndarray_to_mgr(\n\u001b[0m\u001b[0;32m    673\u001b[0m                     \u001b[0mdata\u001b[0m\u001b[1;33m,\u001b[0m\u001b[1;33m\u001b[0m\u001b[1;33m\u001b[0m\u001b[0m\n\u001b[0;32m    674\u001b[0m                     \u001b[0mindex\u001b[0m\u001b[1;33m,\u001b[0m\u001b[1;33m\u001b[0m\u001b[1;33m\u001b[0m\u001b[0m\n",
      "\u001b[1;32m~\\CODE_STUFF\\Anaconda3\\lib\\site-packages\\pandas\\core\\internals\\construction.py\u001b[0m in \u001b[0;36mndarray_to_mgr\u001b[1;34m(values, index, columns, dtype, copy, typ)\u001b[0m\n\u001b[0;32m    302\u001b[0m         \u001b[1;31m# by definition an array here\u001b[0m\u001b[1;33m\u001b[0m\u001b[1;33m\u001b[0m\u001b[0m\n\u001b[0;32m    303\u001b[0m         \u001b[1;31m# the dtypes will be coerced to a single dtype\u001b[0m\u001b[1;33m\u001b[0m\u001b[1;33m\u001b[0m\u001b[0m\n\u001b[1;32m--> 304\u001b[1;33m         \u001b[0mvalues\u001b[0m \u001b[1;33m=\u001b[0m \u001b[0m_prep_ndarray\u001b[0m\u001b[1;33m(\u001b[0m\u001b[0mvalues\u001b[0m\u001b[1;33m,\u001b[0m \u001b[0mcopy\u001b[0m\u001b[1;33m=\u001b[0m\u001b[0mcopy\u001b[0m\u001b[1;33m)\u001b[0m\u001b[1;33m\u001b[0m\u001b[1;33m\u001b[0m\u001b[0m\n\u001b[0m\u001b[0;32m    305\u001b[0m \u001b[1;33m\u001b[0m\u001b[0m\n\u001b[0;32m    306\u001b[0m     \u001b[1;32mif\u001b[0m \u001b[0mdtype\u001b[0m \u001b[1;32mis\u001b[0m \u001b[1;32mnot\u001b[0m \u001b[1;32mNone\u001b[0m \u001b[1;32mand\u001b[0m \u001b[1;32mnot\u001b[0m \u001b[0mis_dtype_equal\u001b[0m\u001b[1;33m(\u001b[0m\u001b[0mvalues\u001b[0m\u001b[1;33m.\u001b[0m\u001b[0mdtype\u001b[0m\u001b[1;33m,\u001b[0m \u001b[0mdtype\u001b[0m\u001b[1;33m)\u001b[0m\u001b[1;33m:\u001b[0m\u001b[1;33m\u001b[0m\u001b[1;33m\u001b[0m\u001b[0m\n",
      "\u001b[1;32m~\\CODE_STUFF\\Anaconda3\\lib\\site-packages\\pandas\\core\\internals\\construction.py\u001b[0m in \u001b[0;36m_prep_ndarray\u001b[1;34m(values, copy)\u001b[0m\n\u001b[0;32m    553\u001b[0m         \u001b[0mvalues\u001b[0m \u001b[1;33m=\u001b[0m \u001b[0mvalues\u001b[0m\u001b[1;33m.\u001b[0m\u001b[0mreshape\u001b[0m\u001b[1;33m(\u001b[0m\u001b[1;33m(\u001b[0m\u001b[0mvalues\u001b[0m\u001b[1;33m.\u001b[0m\u001b[0mshape\u001b[0m\u001b[1;33m[\u001b[0m\u001b[1;36m0\u001b[0m\u001b[1;33m]\u001b[0m\u001b[1;33m,\u001b[0m \u001b[1;36m1\u001b[0m\u001b[1;33m)\u001b[0m\u001b[1;33m)\u001b[0m\u001b[1;33m\u001b[0m\u001b[1;33m\u001b[0m\u001b[0m\n\u001b[0;32m    554\u001b[0m     \u001b[1;32melif\u001b[0m \u001b[0mvalues\u001b[0m\u001b[1;33m.\u001b[0m\u001b[0mndim\u001b[0m \u001b[1;33m!=\u001b[0m \u001b[1;36m2\u001b[0m\u001b[1;33m:\u001b[0m\u001b[1;33m\u001b[0m\u001b[1;33m\u001b[0m\u001b[0m\n\u001b[1;32m--> 555\u001b[1;33m         \u001b[1;32mraise\u001b[0m \u001b[0mValueError\u001b[0m\u001b[1;33m(\u001b[0m\u001b[1;34mf\"Must pass 2-d input. shape={values.shape}\"\u001b[0m\u001b[1;33m)\u001b[0m\u001b[1;33m\u001b[0m\u001b[1;33m\u001b[0m\u001b[0m\n\u001b[0m\u001b[0;32m    556\u001b[0m \u001b[1;33m\u001b[0m\u001b[0m\n\u001b[0;32m    557\u001b[0m     \u001b[1;32mreturn\u001b[0m \u001b[0mvalues\u001b[0m\u001b[1;33m\u001b[0m\u001b[1;33m\u001b[0m\u001b[0m\n",
      "\u001b[1;31mValueError\u001b[0m: Must pass 2-d input. shape=(4, 3, 2)"
     ]
    }
   ],
   "source": [
    "# will give error because you can't create df from 3d data, you will have to either do flattening or provide 2d input.\n",
    "pd.DataFrame(a)"
   ]
  },
  {
   "cell_type": "code",
   "execution_count": null,
   "id": "cf24001a",
   "metadata": {},
   "outputs": [],
   "source": [
    "a = np.fromfunction(lambda i,j : i*j,(400,100),dtype=int)"
   ]
  },
  {
   "cell_type": "code",
   "execution_count": null,
   "id": "73bcfc07",
   "metadata": {},
   "outputs": [],
   "source": [
    "a"
   ]
  },
  {
   "cell_type": "code",
   "execution_count": 55,
   "id": "d620e4a9",
   "metadata": {},
   "outputs": [
    {
     "ename": "ValueError",
     "evalue": "Must pass 2-d input. shape=(4, 3, 2)",
     "output_type": "error",
     "traceback": [
      "\u001b[1;31m---------------------------------------------------------------------------\u001b[0m",
      "\u001b[1;31mValueError\u001b[0m                                Traceback (most recent call last)",
      "\u001b[1;32m~\\AppData\\Local\\Temp/ipykernel_19232/516763050.py\u001b[0m in \u001b[0;36m<module>\u001b[1;34m\u001b[0m\n\u001b[1;32m----> 1\u001b[1;33m \u001b[0mpd\u001b[0m\u001b[1;33m.\u001b[0m\u001b[0mDataFrame\u001b[0m\u001b[1;33m(\u001b[0m\u001b[0ma\u001b[0m\u001b[1;33m)\u001b[0m\u001b[1;33m\u001b[0m\u001b[1;33m\u001b[0m\u001b[0m\n\u001b[0m",
      "\u001b[1;32m~\\CODE_STUFF\\Anaconda3\\lib\\site-packages\\pandas\\core\\frame.py\u001b[0m in \u001b[0;36m__init__\u001b[1;34m(self, data, index, columns, dtype, copy)\u001b[0m\n\u001b[0;32m    670\u001b[0m                 )\n\u001b[0;32m    671\u001b[0m             \u001b[1;32melse\u001b[0m\u001b[1;33m:\u001b[0m\u001b[1;33m\u001b[0m\u001b[1;33m\u001b[0m\u001b[0m\n\u001b[1;32m--> 672\u001b[1;33m                 mgr = ndarray_to_mgr(\n\u001b[0m\u001b[0;32m    673\u001b[0m                     \u001b[0mdata\u001b[0m\u001b[1;33m,\u001b[0m\u001b[1;33m\u001b[0m\u001b[1;33m\u001b[0m\u001b[0m\n\u001b[0;32m    674\u001b[0m                     \u001b[0mindex\u001b[0m\u001b[1;33m,\u001b[0m\u001b[1;33m\u001b[0m\u001b[1;33m\u001b[0m\u001b[0m\n",
      "\u001b[1;32m~\\CODE_STUFF\\Anaconda3\\lib\\site-packages\\pandas\\core\\internals\\construction.py\u001b[0m in \u001b[0;36mndarray_to_mgr\u001b[1;34m(values, index, columns, dtype, copy, typ)\u001b[0m\n\u001b[0;32m    302\u001b[0m         \u001b[1;31m# by definition an array here\u001b[0m\u001b[1;33m\u001b[0m\u001b[1;33m\u001b[0m\u001b[0m\n\u001b[0;32m    303\u001b[0m         \u001b[1;31m# the dtypes will be coerced to a single dtype\u001b[0m\u001b[1;33m\u001b[0m\u001b[1;33m\u001b[0m\u001b[0m\n\u001b[1;32m--> 304\u001b[1;33m         \u001b[0mvalues\u001b[0m \u001b[1;33m=\u001b[0m \u001b[0m_prep_ndarray\u001b[0m\u001b[1;33m(\u001b[0m\u001b[0mvalues\u001b[0m\u001b[1;33m,\u001b[0m \u001b[0mcopy\u001b[0m\u001b[1;33m=\u001b[0m\u001b[0mcopy\u001b[0m\u001b[1;33m)\u001b[0m\u001b[1;33m\u001b[0m\u001b[1;33m\u001b[0m\u001b[0m\n\u001b[0m\u001b[0;32m    305\u001b[0m \u001b[1;33m\u001b[0m\u001b[0m\n\u001b[0;32m    306\u001b[0m     \u001b[1;32mif\u001b[0m \u001b[0mdtype\u001b[0m \u001b[1;32mis\u001b[0m \u001b[1;32mnot\u001b[0m \u001b[1;32mNone\u001b[0m \u001b[1;32mand\u001b[0m \u001b[1;32mnot\u001b[0m \u001b[0mis_dtype_equal\u001b[0m\u001b[1;33m(\u001b[0m\u001b[0mvalues\u001b[0m\u001b[1;33m.\u001b[0m\u001b[0mdtype\u001b[0m\u001b[1;33m,\u001b[0m \u001b[0mdtype\u001b[0m\u001b[1;33m)\u001b[0m\u001b[1;33m:\u001b[0m\u001b[1;33m\u001b[0m\u001b[1;33m\u001b[0m\u001b[0m\n",
      "\u001b[1;32m~\\CODE_STUFF\\Anaconda3\\lib\\site-packages\\pandas\\core\\internals\\construction.py\u001b[0m in \u001b[0;36m_prep_ndarray\u001b[1;34m(values, copy)\u001b[0m\n\u001b[0;32m    553\u001b[0m         \u001b[0mvalues\u001b[0m \u001b[1;33m=\u001b[0m \u001b[0mvalues\u001b[0m\u001b[1;33m.\u001b[0m\u001b[0mreshape\u001b[0m\u001b[1;33m(\u001b[0m\u001b[1;33m(\u001b[0m\u001b[0mvalues\u001b[0m\u001b[1;33m.\u001b[0m\u001b[0mshape\u001b[0m\u001b[1;33m[\u001b[0m\u001b[1;36m0\u001b[0m\u001b[1;33m]\u001b[0m\u001b[1;33m,\u001b[0m \u001b[1;36m1\u001b[0m\u001b[1;33m)\u001b[0m\u001b[1;33m)\u001b[0m\u001b[1;33m\u001b[0m\u001b[1;33m\u001b[0m\u001b[0m\n\u001b[0;32m    554\u001b[0m     \u001b[1;32melif\u001b[0m \u001b[0mvalues\u001b[0m\u001b[1;33m.\u001b[0m\u001b[0mndim\u001b[0m \u001b[1;33m!=\u001b[0m \u001b[1;36m2\u001b[0m\u001b[1;33m:\u001b[0m\u001b[1;33m\u001b[0m\u001b[1;33m\u001b[0m\u001b[0m\n\u001b[1;32m--> 555\u001b[1;33m         \u001b[1;32mraise\u001b[0m \u001b[0mValueError\u001b[0m\u001b[1;33m(\u001b[0m\u001b[1;34mf\"Must pass 2-d input. shape={values.shape}\"\u001b[0m\u001b[1;33m)\u001b[0m\u001b[1;33m\u001b[0m\u001b[1;33m\u001b[0m\u001b[0m\n\u001b[0m\u001b[0;32m    556\u001b[0m \u001b[1;33m\u001b[0m\u001b[0m\n\u001b[0;32m    557\u001b[0m     \u001b[1;32mreturn\u001b[0m \u001b[0mvalues\u001b[0m\u001b[1;33m\u001b[0m\u001b[1;33m\u001b[0m\u001b[0m\n",
      "\u001b[1;31mValueError\u001b[0m: Must pass 2-d input. shape=(4, 3, 2)"
     ]
    }
   ],
   "source": [
    "pd.DataFrame(a)"
   ]
  },
  {
   "cell_type": "code",
   "execution_count": 56,
   "id": "649b8106",
   "metadata": {},
   "outputs": [
    {
     "data": {
      "text/plain": [
       "array([[0.88879374, 0.25543565, 0.87985202, 0.68851603],\n",
       "       [0.02185131, 0.22246379, 0.91218546, 0.12818246],\n",
       "       [0.59812812, 0.02856559, 0.15389029, 0.40688748],\n",
       "       [0.22916802, 0.69463995, 0.01472305, 0.43087275],\n",
       "       [0.43129287, 0.65780948, 0.80438798, 0.59573789],\n",
       "       [0.20308779, 0.57586085, 0.66424091, 0.08506964],\n",
       "       [0.48696502, 0.5654013 , 0.21191622, 0.17629537],\n",
       "       [0.50569539, 0.13632195, 0.56081505, 0.14113813],\n",
       "       [0.90537564, 0.76349619, 0.27411039, 0.24222451],\n",
       "       [0.23962123, 0.50475442, 0.79494977, 0.82735287],\n",
       "       [0.570746  , 0.75757707, 0.40036798, 0.22117985],\n",
       "       [0.17100552, 0.78624976, 0.13351739, 0.81113161],\n",
       "       [0.9014834 , 0.18904252, 0.40024077, 0.74311429],\n",
       "       [0.89715769, 0.72973346, 0.97025643, 0.79980509],\n",
       "       [0.97954849, 0.91202921, 0.8887066 , 0.53634524],\n",
       "       [0.46662024, 0.90302737, 0.30712679, 0.34664326],\n",
       "       [0.85085992, 0.14853303, 0.36432056, 0.83265869],\n",
       "       [0.86939725, 0.15389751, 0.83786802, 0.51499596],\n",
       "       [0.03315171, 0.86313934, 0.18832252, 0.97029945],\n",
       "       [0.61884509, 0.05186594, 0.36823756, 0.59284556],\n",
       "       [0.2208419 , 0.31951929, 0.80403947, 0.30648427],\n",
       "       [0.18522291, 0.99424322, 0.23795856, 0.48636018],\n",
       "       [0.71141323, 0.79825418, 0.04706418, 0.96757521],\n",
       "       [0.22879675, 0.12409829, 0.42409622, 0.48996387],\n",
       "       [0.93961652, 0.90443959, 0.94639996, 0.84960399],\n",
       "       [0.06726903, 0.01960206, 0.97868414, 0.3298864 ],\n",
       "       [0.44181872, 0.5409445 , 0.55937378, 0.41366684],\n",
       "       [0.23479529, 0.62677554, 0.22221449, 0.82766355],\n",
       "       [0.34825649, 0.87410003, 0.89045829, 0.241055  ],\n",
       "       [0.70524755, 0.15010485, 0.13188798, 0.34285862],\n",
       "       [0.7997912 , 0.32708944, 0.27315432, 0.65904082],\n",
       "       [0.59978595, 0.11294734, 0.77988236, 0.15908852],\n",
       "       [0.71747386, 0.40589844, 0.93430268, 0.02332078],\n",
       "       [0.83610991, 0.38670004, 0.71681692, 0.43547962],\n",
       "       [0.26276714, 0.4748151 , 0.63508906, 0.88334557],\n",
       "       [0.26757228, 0.08512074, 0.7553276 , 0.81469276],\n",
       "       [0.65649132, 0.85296654, 0.01051733, 0.38411543],\n",
       "       [0.07869135, 0.73194562, 0.95187588, 0.79609674],\n",
       "       [0.31818453, 0.80446392, 0.02242172, 0.7912389 ],\n",
       "       [0.73834063, 0.80250171, 0.99169369, 0.85944826],\n",
       "       [0.14297199, 0.94763568, 0.54183796, 0.19753872],\n",
       "       [0.18559958, 0.38425819, 0.89528106, 0.44477767],\n",
       "       [0.68401356, 0.73862643, 0.49558809, 0.84871203],\n",
       "       [0.14296706, 0.21927185, 0.37807817, 0.82781529],\n",
       "       [0.91459971, 0.52078686, 0.70414247, 0.53161621],\n",
       "       [0.38779576, 0.86111148, 0.43726959, 0.57190997],\n",
       "       [0.00911862, 0.73568259, 0.86839267, 0.54637163],\n",
       "       [0.17412746, 0.75874981, 0.58504055, 0.80176856],\n",
       "       [0.16242737, 0.12391969, 0.21557455, 0.83253425],\n",
       "       [0.83100184, 0.28679258, 0.99779573, 0.84657818],\n",
       "       [0.6574431 , 0.96108419, 0.28687931, 0.83533255],\n",
       "       [0.76350784, 0.06387144, 0.60391765, 0.28526663],\n",
       "       [0.97723711, 0.55820642, 0.14780346, 0.63898508],\n",
       "       [0.6870825 , 0.63646322, 0.38876585, 0.94037036],\n",
       "       [0.35987766, 0.37151825, 0.95899797, 0.95264516],\n",
       "       [0.13287179, 0.45163174, 0.00634875, 0.17371009],\n",
       "       [0.52085837, 0.95638431, 0.2515995 , 0.56792806],\n",
       "       [0.11692062, 0.77285763, 0.65878007, 0.10795317],\n",
       "       [0.61208294, 0.28506618, 0.44119767, 0.49276101],\n",
       "       [0.8246404 , 0.2940523 , 0.49668939, 0.17821979],\n",
       "       [0.84726636, 0.53518389, 0.77670368, 0.96542432],\n",
       "       [0.18692152, 0.73399674, 0.93587507, 0.10083846],\n",
       "       [0.35090885, 0.28775484, 0.40235281, 0.14564455],\n",
       "       [0.64961887, 0.56410838, 0.07449721, 0.60641815],\n",
       "       [0.62942692, 0.57376888, 0.3838703 , 0.21885753],\n",
       "       [0.47730216, 0.53106647, 0.67206884, 0.22800235],\n",
       "       [0.62066932, 0.26024116, 0.54068556, 0.37409301],\n",
       "       [0.7808414 , 0.10944786, 0.03812156, 0.25237349],\n",
       "       [0.96715655, 0.12659796, 0.88733268, 0.07983342],\n",
       "       [0.23971745, 0.76292419, 0.9033955 , 0.13658609],\n",
       "       [0.01383926, 0.57368142, 0.97171734, 0.11729072],\n",
       "       [0.67112907, 0.18804994, 0.21395384, 0.73328213],\n",
       "       [0.94564572, 0.57203586, 0.6494245 , 0.33422114],\n",
       "       [0.64146693, 0.51015002, 0.32930049, 0.53898684],\n",
       "       [0.11964369, 0.43355487, 0.97500533, 0.57661703],\n",
       "       [0.83202205, 0.64314794, 0.37975574, 0.89842206],\n",
       "       [0.12827088, 0.12863152, 0.84694508, 0.21003722],\n",
       "       [0.24331266, 0.13190747, 0.11278096, 0.22553912],\n",
       "       [0.06556812, 0.27622119, 0.10605309, 0.63828898],\n",
       "       [0.31943381, 0.68647928, 0.73320708, 0.8963924 ],\n",
       "       [0.37960519, 0.76513999, 0.77808514, 0.44345373],\n",
       "       [0.27822773, 0.32128452, 0.86637142, 0.08000465],\n",
       "       [0.90491596, 0.99954185, 0.76535533, 0.72200418],\n",
       "       [0.87782691, 0.64489723, 0.88729218, 0.04246384],\n",
       "       [0.85046012, 0.09518739, 0.85312455, 0.79181079],\n",
       "       [0.19099838, 0.71830612, 0.06679923, 0.58127049],\n",
       "       [0.46968567, 0.09912219, 0.06798028, 0.10217079],\n",
       "       [0.02812569, 0.38446913, 0.87741167, 0.09471307],\n",
       "       [0.07820379, 0.61617364, 0.21438769, 0.40106571],\n",
       "       [0.85416608, 0.5311387 , 0.67860882, 0.18475627],\n",
       "       [0.95378547, 0.89851797, 0.27740691, 0.64833584],\n",
       "       [0.27068175, 0.66020578, 0.43212294, 0.4186196 ],\n",
       "       [0.06393124, 0.45524107, 0.97464059, 0.52603338],\n",
       "       [0.91805992, 0.99783867, 0.30067933, 0.68767476],\n",
       "       [0.99922568, 0.06921027, 0.43926454, 0.13151036],\n",
       "       [0.90964237, 0.95673662, 0.38863219, 0.9552659 ],\n",
       "       [0.7483456 , 0.96603767, 0.14244969, 0.49876826],\n",
       "       [0.93408624, 0.19937005, 0.23525088, 0.78490874],\n",
       "       [0.37678085, 0.11900825, 0.70951253, 0.85435318],\n",
       "       [0.7751251 , 0.8056984 , 0.71094751, 0.67615085]])"
      ]
     },
     "execution_count": 56,
     "metadata": {},
     "output_type": "execute_result"
    }
   ],
   "source": [
    "# this function will be used a lot\n",
    "np.random.rand(100,4)\n",
    "# generates random values in the given shape"
   ]
  },
  {
   "cell_type": "code",
   "execution_count": 57,
   "id": "1b58b179",
   "metadata": {},
   "outputs": [
    {
     "data": {
      "text/plain": [
       "5"
      ]
     },
     "execution_count": 57,
     "metadata": {},
     "output_type": "execute_result"
    }
   ],
   "source": [
    "np.random.randint(4,50)\n",
    "# generates random number between the entered range"
   ]
  },
  {
   "cell_type": "code",
   "execution_count": 58,
   "id": "80cb9278",
   "metadata": {},
   "outputs": [
    {
     "data": {
      "text/plain": [
       "array([[-0.52760286, -0.16295154,  1.44017354,  1.28001264,  0.60350577],\n",
       "       [ 2.01601527,  0.06952598,  0.92718295,  1.36225928,  2.3623366 ],\n",
       "       [-0.21356406, -0.60343705, -0.08705359, -0.21229997,  2.0514034 ],\n",
       "       [-1.60462241, -0.04588997,  0.8638666 , -0.06063537,  0.57821681]])"
      ]
     },
     "execution_count": 58,
     "metadata": {},
     "output_type": "execute_result"
    }
   ],
   "source": [
    "np.random.randn(4,5)\n",
    "# random numbers in 4 rows, 5 columns \n",
    "\n",
    "# Generats nornmally distributed values, average of all these values will be zero. \n",
    "# standard deviation will be 1\n"
   ]
  },
  {
   "cell_type": "code",
   "execution_count": 59,
   "id": "75a03752",
   "metadata": {},
   "outputs": [
    {
     "data": {
      "text/html": [
       "<div>\n",
       "<style scoped>\n",
       "    .dataframe tbody tr th:only-of-type {\n",
       "        vertical-align: middle;\n",
       "    }\n",
       "\n",
       "    .dataframe tbody tr th {\n",
       "        vertical-align: top;\n",
       "    }\n",
       "\n",
       "    .dataframe thead th {\n",
       "        text-align: right;\n",
       "    }\n",
       "</style>\n",
       "<table border=\"1\" class=\"dataframe\">\n",
       "  <thead>\n",
       "    <tr style=\"text-align: right;\">\n",
       "      <th></th>\n",
       "      <th>0</th>\n",
       "      <th>1</th>\n",
       "      <th>2</th>\n",
       "      <th>3</th>\n",
       "      <th>4</th>\n",
       "    </tr>\n",
       "  </thead>\n",
       "  <tbody>\n",
       "    <tr>\n",
       "      <th>0</th>\n",
       "      <td>1.083646</td>\n",
       "      <td>-0.049761</td>\n",
       "      <td>-1.054334</td>\n",
       "      <td>-0.345087</td>\n",
       "      <td>-0.273952</td>\n",
       "    </tr>\n",
       "    <tr>\n",
       "      <th>1</th>\n",
       "      <td>-2.668407</td>\n",
       "      <td>-1.300719</td>\n",
       "      <td>-0.759283</td>\n",
       "      <td>0.894456</td>\n",
       "      <td>-0.153274</td>\n",
       "    </tr>\n",
       "    <tr>\n",
       "      <th>2</th>\n",
       "      <td>-1.018197</td>\n",
       "      <td>-0.839665</td>\n",
       "      <td>-0.413190</td>\n",
       "      <td>0.540081</td>\n",
       "      <td>1.483781</td>\n",
       "    </tr>\n",
       "    <tr>\n",
       "      <th>3</th>\n",
       "      <td>-0.320179</td>\n",
       "      <td>2.190380</td>\n",
       "      <td>-0.616700</td>\n",
       "      <td>-0.368334</td>\n",
       "      <td>0.808048</td>\n",
       "    </tr>\n",
       "  </tbody>\n",
       "</table>\n",
       "</div>"
      ],
      "text/plain": [
       "          0         1         2         3         4\n",
       "0  1.083646 -0.049761 -1.054334 -0.345087 -0.273952\n",
       "1 -2.668407 -1.300719 -0.759283  0.894456 -0.153274\n",
       "2 -1.018197 -0.839665 -0.413190  0.540081  1.483781\n",
       "3 -0.320179  2.190380 -0.616700 -0.368334  0.808048"
      ]
     },
     "execution_count": 59,
     "metadata": {},
     "output_type": "execute_result"
    }
   ],
   "source": [
    "pd.DataFrame(np.random.randn(4,5))"
   ]
  },
  {
   "cell_type": "code",
   "execution_count": 60,
   "id": "f85ce094",
   "metadata": {},
   "outputs": [],
   "source": [
    "# converting 3 dimensional data to 2d data"
   ]
  },
  {
   "cell_type": "code",
   "execution_count": 61,
   "id": "3feb6a6a",
   "metadata": {},
   "outputs": [],
   "source": [
    "a = np.fromfunction(lambda i,j,z : i*j*z,(4,3,2),dtype=int)\n",
    "# 24 elements\n"
   ]
  },
  {
   "cell_type": "code",
   "execution_count": 63,
   "id": "0ae7d97a",
   "metadata": {},
   "outputs": [
    {
     "data": {
      "text/plain": [
       "array([[0, 0],\n",
       "       [0, 0],\n",
       "       [0, 0],\n",
       "       [0, 0],\n",
       "       [0, 1],\n",
       "       [0, 2],\n",
       "       [0, 0],\n",
       "       [0, 2],\n",
       "       [0, 4],\n",
       "       [0, 0],\n",
       "       [0, 3],\n",
       "       [0, 6]])"
      ]
     },
     "execution_count": 63,
     "metadata": {},
     "output_type": "execute_result"
    }
   ],
   "source": [
    "# You have to give dimensions in such a way that number of elements are same for previous and new dimensions.\n",
    "a.reshape(12,2)"
   ]
  },
  {
   "cell_type": "code",
   "execution_count": 64,
   "id": "1462c1f5",
   "metadata": {},
   "outputs": [
    {
     "data": {
      "text/plain": [
       "array([[0, 0, 0, 0],\n",
       "       [0, 0, 0, 0],\n",
       "       [0, 1, 0, 2],\n",
       "       [0, 0, 0, 2],\n",
       "       [0, 4, 0, 0],\n",
       "       [0, 3, 0, 6]])"
      ]
     },
     "execution_count": 64,
     "metadata": {},
     "output_type": "execute_result"
    }
   ],
   "source": [
    "a.reshape(6,4)"
   ]
  },
  {
   "cell_type": "code",
   "execution_count": 65,
   "id": "b5b8a8c0",
   "metadata": {},
   "outputs": [
    {
     "data": {
      "text/plain": [
       "array([[0, 0, 0, 0, 0, 0, 0, 0, 0, 1, 0, 2, 0, 0, 0, 2, 0, 4, 0, 0, 0, 3,\n",
       "        0, 6]])"
      ]
     },
     "execution_count": 65,
     "metadata": {},
     "output_type": "execute_result"
    }
   ],
   "source": [
    "a.reshape(1,24)"
   ]
  },
  {
   "cell_type": "code",
   "execution_count": 67,
   "id": "634a8e2b",
   "metadata": {},
   "outputs": [
    {
     "data": {
      "text/html": [
       "<div>\n",
       "<style scoped>\n",
       "    .dataframe tbody tr th:only-of-type {\n",
       "        vertical-align: middle;\n",
       "    }\n",
       "\n",
       "    .dataframe tbody tr th {\n",
       "        vertical-align: top;\n",
       "    }\n",
       "\n",
       "    .dataframe thead th {\n",
       "        text-align: right;\n",
       "    }\n",
       "</style>\n",
       "<table border=\"1\" class=\"dataframe\">\n",
       "  <thead>\n",
       "    <tr style=\"text-align: right;\">\n",
       "      <th></th>\n",
       "      <th>0</th>\n",
       "      <th>1</th>\n",
       "      <th>2</th>\n",
       "      <th>3</th>\n",
       "      <th>4</th>\n",
       "      <th>5</th>\n",
       "      <th>6</th>\n",
       "      <th>7</th>\n",
       "    </tr>\n",
       "  </thead>\n",
       "  <tbody>\n",
       "    <tr>\n",
       "      <th>0</th>\n",
       "      <td>0</td>\n",
       "      <td>0</td>\n",
       "      <td>0</td>\n",
       "      <td>0</td>\n",
       "      <td>0</td>\n",
       "      <td>0</td>\n",
       "      <td>0</td>\n",
       "      <td>0</td>\n",
       "    </tr>\n",
       "    <tr>\n",
       "      <th>1</th>\n",
       "      <td>0</td>\n",
       "      <td>1</td>\n",
       "      <td>0</td>\n",
       "      <td>2</td>\n",
       "      <td>0</td>\n",
       "      <td>0</td>\n",
       "      <td>0</td>\n",
       "      <td>2</td>\n",
       "    </tr>\n",
       "    <tr>\n",
       "      <th>2</th>\n",
       "      <td>0</td>\n",
       "      <td>4</td>\n",
       "      <td>0</td>\n",
       "      <td>0</td>\n",
       "      <td>0</td>\n",
       "      <td>3</td>\n",
       "      <td>0</td>\n",
       "      <td>6</td>\n",
       "    </tr>\n",
       "  </tbody>\n",
       "</table>\n",
       "</div>"
      ],
      "text/plain": [
       "   0  1  2  3  4  5  6  7\n",
       "0  0  0  0  0  0  0  0  0\n",
       "1  0  1  0  2  0  0  0  2\n",
       "2  0  4  0  0  0  3  0  6"
      ]
     },
     "execution_count": 67,
     "metadata": {},
     "output_type": "execute_result"
    }
   ],
   "source": [
    "pd.DataFrame(a.reshape(3,8))"
   ]
  },
  {
   "cell_type": "code",
   "execution_count": 68,
   "id": "b704ae8b",
   "metadata": {},
   "outputs": [
    {
     "data": {
      "text/plain": [
       "array([[[[0, 0, 0]],\n",
       "\n",
       "        [[0, 0, 0]]],\n",
       "\n",
       "\n",
       "       [[[0, 0, 0]],\n",
       "\n",
       "        [[1, 0, 2]]],\n",
       "\n",
       "\n",
       "       [[[0, 0, 0]],\n",
       "\n",
       "        [[2, 0, 4]]],\n",
       "\n",
       "\n",
       "       [[[0, 0, 0]],\n",
       "\n",
       "        [[3, 0, 6]]]])"
      ]
     },
     "execution_count": 68,
     "metadata": {},
     "output_type": "execute_result"
    }
   ],
   "source": [
    "## you can give any number of dimensions, only the number of elements must be same.\n",
    "a.reshape(4,2,1,3)"
   ]
  },
  {
   "cell_type": "code",
   "execution_count": 72,
   "id": "09e4dad1",
   "metadata": {},
   "outputs": [
    {
     "data": {
      "text/plain": [
       "array([[[[[[0],\n",
       "           [0],\n",
       "           [0]]],\n",
       "\n",
       "\n",
       "         [[[0],\n",
       "           [0],\n",
       "           [0]]]],\n",
       "\n",
       "\n",
       "\n",
       "        [[[[0],\n",
       "           [0],\n",
       "           [0]]],\n",
       "\n",
       "\n",
       "         [[[1],\n",
       "           [0],\n",
       "           [2]]]],\n",
       "\n",
       "\n",
       "\n",
       "        [[[[0],\n",
       "           [0],\n",
       "           [0]]],\n",
       "\n",
       "\n",
       "         [[[2],\n",
       "           [0],\n",
       "           [4]]]],\n",
       "\n",
       "\n",
       "\n",
       "        [[[[0],\n",
       "           [0],\n",
       "           [0]]],\n",
       "\n",
       "\n",
       "         [[[3],\n",
       "           [0],\n",
       "           [6]]]]]])"
      ]
     },
     "execution_count": 72,
     "metadata": {},
     "output_type": "execute_result"
    }
   ],
   "source": [
    "a.reshape(1,4,2,1,3,1)"
   ]
  },
  {
   "cell_type": "code",
   "execution_count": 79,
   "id": "2ffc4e70",
   "metadata": {},
   "outputs": [
    {
     "data": {
      "text/plain": [
       "array([[0, 0, 0, 0, 0, 0],\n",
       "       [0, 0, 0, 1, 0, 2],\n",
       "       [0, 0, 0, 2, 0, 4],\n",
       "       [0, 0, 0, 3, 0, 6]])"
      ]
     },
     "execution_count": 79,
     "metadata": {},
     "output_type": "execute_result"
    }
   ],
   "source": [
    "# -ve number means dimension will be automatically filled\n",
    "# any -ve number will work\n",
    "a.reshape(4,-123452345)"
   ]
  },
  {
   "cell_type": "code",
   "execution_count": 77,
   "id": "d56aa423",
   "metadata": {},
   "outputs": [
    {
     "ename": "ValueError",
     "evalue": "cannot reshape array of size 24 into shape (5,newaxis)",
     "output_type": "error",
     "traceback": [
      "\u001b[1;31m---------------------------------------------------------------------------\u001b[0m",
      "\u001b[1;31mValueError\u001b[0m                                Traceback (most recent call last)",
      "\u001b[1;32m~\\AppData\\Local\\Temp/ipykernel_19232/2833914778.py\u001b[0m in \u001b[0;36m<module>\u001b[1;34m\u001b[0m\n\u001b[1;32m----> 1\u001b[1;33m \u001b[0ma\u001b[0m\u001b[1;33m.\u001b[0m\u001b[0mreshape\u001b[0m\u001b[1;33m(\u001b[0m\u001b[1;36m5\u001b[0m\u001b[1;33m,\u001b[0m\u001b[1;33m-\u001b[0m\u001b[1;36m12345345\u001b[0m\u001b[1;33m)\u001b[0m\u001b[1;33m\u001b[0m\u001b[1;33m\u001b[0m\u001b[0m\n\u001b[0m",
      "\u001b[1;31mValueError\u001b[0m: cannot reshape array of size 24 into shape (5,newaxis)"
     ]
    }
   ],
   "source": [
    "a.reshape(5,-12345345)"
   ]
  },
  {
   "cell_type": "code",
   "execution_count": 80,
   "id": "3a705bf0",
   "metadata": {},
   "outputs": [
    {
     "data": {
      "text/plain": [
       "array([[[0, 0, 0],\n",
       "        [0, 0, 0],\n",
       "        [0, 0, 0],\n",
       "        [1, 0, 2]],\n",
       "\n",
       "       [[0, 0, 0],\n",
       "        [2, 0, 4],\n",
       "        [0, 0, 0],\n",
       "        [3, 0, 6]]])"
      ]
     },
     "execution_count": 80,
     "metadata": {},
     "output_type": "execute_result"
    }
   ],
   "source": [
    "a.reshape(2,4,-5432)"
   ]
  },
  {
   "cell_type": "code",
   "execution_count": 81,
   "id": "6a10f976",
   "metadata": {},
   "outputs": [
    {
     "data": {
      "text/plain": [
       "[4, 5, 6, 7, 8, 9]"
      ]
     },
     "execution_count": 81,
     "metadata": {},
     "output_type": "execute_result"
    }
   ],
   "source": [
    "list(range(4,10))"
   ]
  },
  {
   "cell_type": "code",
   "execution_count": 82,
   "id": "0e8ff12b",
   "metadata": {},
   "outputs": [
    {
     "data": {
      "text/plain": [
       "[4, 6, 8]"
      ]
     },
     "execution_count": 82,
     "metadata": {},
     "output_type": "execute_result"
    }
   ],
   "source": [
    "list(range(4,10,2))"
   ]
  },
  {
   "cell_type": "code",
   "execution_count": 83,
   "id": "adde85de",
   "metadata": {},
   "outputs": [
    {
     "ename": "TypeError",
     "evalue": "'float' object cannot be interpreted as an integer",
     "output_type": "error",
     "traceback": [
      "\u001b[1;31m---------------------------------------------------------------------------\u001b[0m",
      "\u001b[1;31mTypeError\u001b[0m                                 Traceback (most recent call last)",
      "\u001b[1;32m~\\AppData\\Local\\Temp/ipykernel_19232/1161076697.py\u001b[0m in \u001b[0;36m<module>\u001b[1;34m\u001b[0m\n\u001b[1;32m----> 1\u001b[1;33m \u001b[0mlist\u001b[0m\u001b[1;33m(\u001b[0m\u001b[0mrange\u001b[0m\u001b[1;33m(\u001b[0m\u001b[1;36m4\u001b[0m\u001b[1;33m,\u001b[0m\u001b[1;36m10\u001b[0m\u001b[1;33m,\u001b[0m\u001b[1;36m0.2\u001b[0m\u001b[1;33m)\u001b[0m\u001b[1;33m)\u001b[0m\u001b[1;33m\u001b[0m\u001b[1;33m\u001b[0m\u001b[0m\n\u001b[0m",
      "\u001b[1;31mTypeError\u001b[0m: 'float' object cannot be interpreted as an integer"
     ]
    }
   ],
   "source": [
    "# inbuilt range function only takes integer as step size,lower bound and upper bound.\n",
    "list(range(4,10,0.2))"
   ]
  },
  {
   "cell_type": "code",
   "execution_count": 86,
   "id": "9dadb230",
   "metadata": {},
   "outputs": [
    {
     "ename": "TypeError",
     "evalue": "'float' object cannot be interpreted as an integer",
     "output_type": "error",
     "traceback": [
      "\u001b[1;31m---------------------------------------------------------------------------\u001b[0m",
      "\u001b[1;31mTypeError\u001b[0m                                 Traceback (most recent call last)",
      "\u001b[1;32m~\\AppData\\Local\\Temp/ipykernel_19232/311250104.py\u001b[0m in \u001b[0;36m<module>\u001b[1;34m\u001b[0m\n\u001b[1;32m----> 1\u001b[1;33m \u001b[0mlist\u001b[0m\u001b[1;33m(\u001b[0m\u001b[0mrange\u001b[0m\u001b[1;33m(\u001b[0m\u001b[1;36m4\u001b[0m\u001b[1;33m,\u001b[0m\u001b[1;36m10.5\u001b[0m\u001b[1;33m,\u001b[0m\u001b[1;36m2\u001b[0m\u001b[1;33m)\u001b[0m\u001b[1;33m)\u001b[0m\u001b[1;33m\u001b[0m\u001b[1;33m\u001b[0m\u001b[0m\n\u001b[0m",
      "\u001b[1;31mTypeError\u001b[0m: 'float' object cannot be interpreted as an integer"
     ]
    }
   ],
   "source": [
    "list(range(4,10.5,2))"
   ]
  },
  {
   "cell_type": "code",
   "execution_count": 84,
   "id": "5f30b66f",
   "metadata": {},
   "outputs": [
    {
     "data": {
      "text/plain": [
       "array([4. , 4.2, 4.4, 4.6, 4.8, 5. , 5.2, 5.4, 5.6, 5.8, 6. , 6.2, 6.4,\n",
       "       6.6, 6.8, 7. , 7.2, 7.4, 7.6, 7.8, 8. , 8.2, 8.4, 8.6, 8.8, 9. ,\n",
       "       9.2, 9.4, 9.6, 9.8])"
      ]
     },
     "execution_count": 84,
     "metadata": {},
     "output_type": "execute_result"
    }
   ],
   "source": [
    "# numpy has a equivalent function to range\n",
    "# np.arange() can take float as a step size, and even lower and upper bounds.\n",
    "np.arange(4,10,0.2)"
   ]
  },
  {
   "cell_type": "code",
   "execution_count": 89,
   "id": "5b98ef6f",
   "metadata": {},
   "outputs": [
    {
     "data": {
      "text/plain": [
       "array([ 4. ,  4.2,  4.4,  4.6,  4.8,  5. ,  5.2,  5.4,  5.6,  5.8,  6. ,\n",
       "        6.2,  6.4,  6.6,  6.8,  7. ,  7.2,  7.4,  7.6,  7.8,  8. ,  8.2,\n",
       "        8.4,  8.6,  8.8,  9. ,  9.2,  9.4,  9.6,  9.8, 10. , 10.2, 10.4])"
      ]
     },
     "execution_count": 89,
     "metadata": {},
     "output_type": "execute_result"
    }
   ],
   "source": [
    "np.arange(4,10.5,0.2)"
   ]
  },
  {
   "cell_type": "code",
   "execution_count": 92,
   "id": "4bb461c0",
   "metadata": {},
   "outputs": [],
   "source": [
    "a1 = np.arange(4,10.5,0.2)\n"
   ]
  },
  {
   "cell_type": "code",
   "execution_count": 91,
   "id": "762c0448",
   "metadata": {},
   "outputs": [
    {
     "data": {
      "text/plain": [
       "array([4. , 4.2, 4.4, 4.6, 4.8])"
      ]
     },
     "execution_count": 91,
     "metadata": {},
     "output_type": "execute_result"
    }
   ],
   "source": [
    "# You can use slicing operator on numpy.arrays too\n",
    "a1[0:5]"
   ]
  },
  {
   "cell_type": "code",
   "execution_count": 93,
   "id": "d7926ed6",
   "metadata": {},
   "outputs": [],
   "source": [
    "arr = np.random.rand(4,5)"
   ]
  },
  {
   "cell_type": "code",
   "execution_count": 94,
   "id": "d3c1b4fc",
   "metadata": {},
   "outputs": [
    {
     "data": {
      "text/plain": [
       "array([[0.65606435, 0.67818371, 0.44047451, 0.15464058, 0.5904563 ],\n",
       "       [0.1836203 , 0.73470839, 0.80892093, 0.98021567, 0.72487239],\n",
       "       [0.57043771, 0.55017421, 0.46563048, 0.79097872, 0.11013741],\n",
       "       [0.52457782, 0.61419716, 0.73371306, 0.99929105, 0.77904286]])"
      ]
     },
     "execution_count": 94,
     "metadata": {},
     "output_type": "execute_result"
    }
   ],
   "source": [
    "arr"
   ]
  },
  {
   "cell_type": "markdown",
   "id": "feddf9cc",
   "metadata": {},
   "source": [
    "> Extract all the data >0.5"
   ]
  },
  {
   "cell_type": "code",
   "execution_count": 97,
   "id": "b6c498c6",
   "metadata": {},
   "outputs": [
    {
     "data": {
      "text/plain": [
       "array([[ True,  True, False, False,  True],\n",
       "       [False,  True,  True,  True,  True],\n",
       "       [ True,  True, False,  True, False],\n",
       "       [ True,  True,  True,  True,  True]])"
      ]
     },
     "execution_count": 97,
     "metadata": {},
     "output_type": "execute_result"
    }
   ],
   "source": [
    "arr > 0.5"
   ]
  },
  {
   "cell_type": "code",
   "execution_count": 96,
   "id": "feb57d99",
   "metadata": {},
   "outputs": [
    {
     "data": {
      "text/plain": [
       "array([0.65606435, 0.67818371, 0.5904563 , 0.73470839, 0.80892093,\n",
       "       0.98021567, 0.72487239, 0.57043771, 0.55017421, 0.79097872,\n",
       "       0.52457782, 0.61419716, 0.73371306, 0.99929105, 0.77904286])"
      ]
     },
     "execution_count": 96,
     "metadata": {},
     "output_type": "execute_result"
    }
   ],
   "source": [
    "\n",
    "arr[arr > 0.5]"
   ]
  },
  {
   "cell_type": "code",
   "execution_count": 103,
   "id": "1b9b75b0",
   "metadata": {},
   "outputs": [
    {
     "data": {
      "text/plain": [
       "array([[0.65606435, 0.67818371, 0.44047451, 0.15464058, 0.5904563 ],\n",
       "       [0.1836203 , 0.73470839, 0.80892093, 0.98021567, 0.72487239],\n",
       "       [0.57043771, 0.55017421, 0.46563048, 0.79097872, 0.11013741],\n",
       "       [0.52457782, 0.61419716, 0.73371306, 0.99929105, 0.77904286]])"
      ]
     },
     "execution_count": 103,
     "metadata": {},
     "output_type": "execute_result"
    }
   ],
   "source": [
    "arr"
   ]
  },
  {
   "cell_type": "code",
   "execution_count": 104,
   "id": "7a6ec70c",
   "metadata": {},
   "outputs": [
    {
     "data": {
      "text/plain": [
       "array([0.80892093, 0.46563048])"
      ]
     },
     "execution_count": 104,
     "metadata": {},
     "output_type": "execute_result"
    }
   ],
   "source": [
    "# 2th column's 2 middle rows\n",
    "arr[[1,2],[2]]"
   ]
  },
  {
   "cell_type": "code",
   "execution_count": 107,
   "id": "7e5cbe8e",
   "metadata": {},
   "outputs": [],
   "source": [
    "arr = np.random.rand(8,5)"
   ]
  },
  {
   "cell_type": "code",
   "execution_count": 108,
   "id": "35d3bc16",
   "metadata": {},
   "outputs": [
    {
     "data": {
      "text/plain": [
       "array([[0.15552663, 0.49828828, 0.57545401, 0.13391372, 0.96203398],\n",
       "       [0.69108387, 0.36215328, 0.91712382, 0.96187827, 0.24114236],\n",
       "       [0.98848885, 0.24034792, 0.55390925, 0.91338326, 0.92886133],\n",
       "       [0.85872883, 0.68831501, 0.54213997, 0.30721017, 0.01213139],\n",
       "       [0.91539529, 0.15326852, 0.30351656, 0.70330253, 0.15430601],\n",
       "       [0.31932888, 0.93097315, 0.54656119, 0.17022056, 0.70480379],\n",
       "       [0.19737623, 0.88878612, 0.71742698, 0.18783576, 0.47915648],\n",
       "       [0.24383174, 0.52391921, 0.35396172, 0.47336928, 0.29867065]])"
      ]
     },
     "execution_count": 108,
     "metadata": {},
     "output_type": "execute_result"
    }
   ],
   "source": [
    "arr"
   ]
  },
  {
   "cell_type": "code",
   "execution_count": 114,
   "id": "938f9d66",
   "metadata": {},
   "outputs": [
    {
     "data": {
      "text/plain": [
       "array([[0.69108387, 0.36215328, 0.91712382],\n",
       "       [0.98848885, 0.24034792, 0.55390925],\n",
       "       [0.85872883, 0.68831501, 0.54213997],\n",
       "       [0.91539529, 0.15326852, 0.30351656],\n",
       "       [0.31932888, 0.93097315, 0.54656119],\n",
       "       [0.19737623, 0.88878612, 0.71742698],\n",
       "       [0.24383174, 0.52391921, 0.35396172]])"
      ]
     },
     "execution_count": 114,
     "metadata": {},
     "output_type": "execute_result"
    }
   ],
   "source": [
    "arr[1:8,0:3]"
   ]
  },
  {
   "cell_type": "code",
   "execution_count": 115,
   "id": "7e88a5a6",
   "metadata": {},
   "outputs": [
    {
     "ename": "IndexError",
     "evalue": "shape mismatch: indexing arrays could not be broadcast together with shapes (7,) (3,) ",
     "output_type": "error",
     "traceback": [
      "\u001b[1;31m---------------------------------------------------------------------------\u001b[0m",
      "\u001b[1;31mIndexError\u001b[0m                                Traceback (most recent call last)",
      "\u001b[1;32m~\\AppData\\Local\\Temp/ipykernel_19232/2679318340.py\u001b[0m in \u001b[0;36m<module>\u001b[1;34m\u001b[0m\n\u001b[1;32m----> 1\u001b[1;33m \u001b[0marr\u001b[0m\u001b[1;33m[\u001b[0m\u001b[1;33m[\u001b[0m\u001b[1;36m1\u001b[0m\u001b[1;33m,\u001b[0m\u001b[1;36m2\u001b[0m\u001b[1;33m,\u001b[0m\u001b[1;36m3\u001b[0m\u001b[1;33m,\u001b[0m\u001b[1;36m4\u001b[0m\u001b[1;33m,\u001b[0m\u001b[1;36m5\u001b[0m\u001b[1;33m,\u001b[0m\u001b[1;36m6\u001b[0m\u001b[1;33m,\u001b[0m\u001b[1;36m7\u001b[0m\u001b[1;33m]\u001b[0m\u001b[1;33m,\u001b[0m\u001b[1;33m[\u001b[0m\u001b[1;36m0\u001b[0m\u001b[1;33m,\u001b[0m\u001b[1;36m1\u001b[0m\u001b[1;33m,\u001b[0m\u001b[1;36m2\u001b[0m\u001b[1;33m]\u001b[0m\u001b[1;33m]\u001b[0m\u001b[1;33m\u001b[0m\u001b[1;33m\u001b[0m\u001b[0m\n\u001b[0m",
      "\u001b[1;31mIndexError\u001b[0m: shape mismatch: indexing arrays could not be broadcast together with shapes (7,) (3,) "
     ]
    }
   ],
   "source": [
    "arr[[1,2,3,4,5,6,7],[0,1,2]]"
   ]
  },
  {
   "cell_type": "code",
   "execution_count": 117,
   "id": "382f0e19",
   "metadata": {},
   "outputs": [],
   "source": [
    "a2 = arr[1:8,[0,1,2]]"
   ]
  },
  {
   "cell_type": "code",
   "execution_count": 118,
   "id": "ced20a47",
   "metadata": {},
   "outputs": [
    {
     "data": {
      "text/plain": [
       "array([[0.69108387, 0.36215328, 0.91712382],\n",
       "       [0.98848885, 0.24034792, 0.55390925],\n",
       "       [0.85872883, 0.68831501, 0.54213997],\n",
       "       [0.91539529, 0.15326852, 0.30351656],\n",
       "       [0.31932888, 0.93097315, 0.54656119],\n",
       "       [0.19737623, 0.88878612, 0.71742698],\n",
       "       [0.24383174, 0.52391921, 0.35396172]])"
      ]
     },
     "execution_count": 118,
     "metadata": {},
     "output_type": "execute_result"
    }
   ],
   "source": [
    "a2"
   ]
  },
  {
   "cell_type": "code",
   "execution_count": 119,
   "id": "fcf951f6",
   "metadata": {},
   "outputs": [],
   "source": [
    "a2[0][0] = 1234"
   ]
  },
  {
   "cell_type": "code",
   "execution_count": 120,
   "id": "3c3dd1f4",
   "metadata": {},
   "outputs": [
    {
     "data": {
      "text/plain": [
       "array([[1.23400000e+03, 3.62153280e-01, 9.17123820e-01],\n",
       "       [9.88488852e-01, 2.40347917e-01, 5.53909253e-01],\n",
       "       [8.58728832e-01, 6.88315010e-01, 5.42139965e-01],\n",
       "       [9.15395292e-01, 1.53268515e-01, 3.03516557e-01],\n",
       "       [3.19328876e-01, 9.30973147e-01, 5.46561188e-01],\n",
       "       [1.97376232e-01, 8.88786117e-01, 7.17426977e-01],\n",
       "       [2.43831740e-01, 5.23919206e-01, 3.53961715e-01]])"
      ]
     },
     "execution_count": 120,
     "metadata": {},
     "output_type": "execute_result"
    }
   ],
   "source": [
    "a2"
   ]
  },
  {
   "cell_type": "code",
   "execution_count": 122,
   "id": "349fedc2",
   "metadata": {},
   "outputs": [],
   "source": [
    "a = np.array([[1,2],[3,4]])\n",
    "b = np.array([[2,3],[4,5]])"
   ]
  },
  {
   "cell_type": "code",
   "execution_count": 123,
   "id": "5512689a",
   "metadata": {},
   "outputs": [
    {
     "data": {
      "text/plain": [
       "array([[ 2,  6],\n",
       "       [12, 20]])"
      ]
     },
     "execution_count": 123,
     "metadata": {},
     "output_type": "execute_result"
    }
   ],
   "source": [
    "# This is element wise multiplication, not matrix multiplication\n",
    "a*b"
   ]
  },
  {
   "cell_type": "code",
   "execution_count": 125,
   "id": "0caf903e",
   "metadata": {},
   "outputs": [
    {
     "data": {
      "text/plain": [
       "array([[10, 13],\n",
       "       [22, 29]])"
      ]
     },
     "execution_count": 125,
     "metadata": {},
     "output_type": "execute_result"
    }
   ],
   "source": [
    "# Matrix Multiplication : \n",
    "# Matrix multiplication represented by '@'\n",
    "a@b"
   ]
  },
  {
   "cell_type": "code",
   "execution_count": 126,
   "id": "a96b42f4",
   "metadata": {},
   "outputs": [
    {
     "name": "stderr",
     "output_type": "stream",
     "text": [
      "C:\\Users\\soman\\AppData\\Local\\Temp/ipykernel_19232/4102073204.py:1: RuntimeWarning: divide by zero encountered in true_divide\n",
      "  a/0\n"
     ]
    },
    {
     "data": {
      "text/plain": [
       "array([[inf, inf],\n",
       "       [inf, inf]])"
      ]
     },
     "execution_count": 126,
     "metadata": {},
     "output_type": "execute_result"
    }
   ],
   "source": [
    "# Python core gives Zero Division Exception\n",
    "# Numpy doesn't do this, it gives infiniy.\n",
    "a/0"
   ]
  },
  {
   "cell_type": "markdown",
   "id": "609b992d",
   "metadata": {},
   "source": [
    "### NOte : This functions will be useful not in machine learning but deep learning, computer vision, nlp, etc use cases."
   ]
  },
  {
   "cell_type": "code",
   "execution_count": null,
   "id": "89ee2007",
   "metadata": {},
   "outputs": [],
   "source": [
    "# 16th March\n"
   ]
  }
 ],
 "metadata": {
  "kernelspec": {
   "display_name": "Python 3 (ipykernel)",
   "language": "python",
   "name": "python3"
  },
  "language_info": {
   "codemirror_mode": {
    "name": "ipython",
    "version": 3
   },
   "file_extension": ".py",
   "mimetype": "text/x-python",
   "name": "python",
   "nbconvert_exporter": "python",
   "pygments_lexer": "ipython3",
   "version": "3.9.7"
  }
 },
 "nbformat": 4,
 "nbformat_minor": 5
}
